{
 "cells": [
  {
   "cell_type": "code",
   "execution_count": 1,
   "id": "687ef82b",
   "metadata": {},
   "outputs": [],
   "source": [
    "import pandas as pd\n",
    "import numpy as np\n",
    "\n",
    "from sklearn.model_selection import train_test_split\n",
    "from sklearn.linear_model import LogisticRegression\n",
    "from sklearn.feature_extraction.text import TfidfVectorizer\n",
    "from sklearn.pipeline import Pipeline\n",
    "from sklearn.model_selection import GridSearchCV\n",
    "from sklearn.metrics import confusion_matrix, classification_report, accuracy_score\n",
    "import preprocess_seroetr as ps"
   ]
  },
  {
   "cell_type": "code",
   "execution_count": 2,
   "id": "cdc3882e",
   "metadata": {},
   "outputs": [
    {
     "data": {
      "text/html": [
       "<div>\n",
       "<style scoped>\n",
       "    .dataframe tbody tr th:only-of-type {\n",
       "        vertical-align: middle;\n",
       "    }\n",
       "\n",
       "    .dataframe tbody tr th {\n",
       "        vertical-align: top;\n",
       "    }\n",
       "\n",
       "    .dataframe thead th {\n",
       "        text-align: right;\n",
       "    }\n",
       "</style>\n",
       "<table border=\"1\" class=\"dataframe\">\n",
       "  <thead>\n",
       "    <tr style=\"text-align: right;\">\n",
       "      <th></th>\n",
       "      <th>0</th>\n",
       "      <th>1</th>\n",
       "    </tr>\n",
       "  </thead>\n",
       "  <tbody>\n",
       "    <tr>\n",
       "      <th>0</th>\n",
       "      <td>A very, very, very slow-moving, aimless movie ...</td>\n",
       "      <td>0</td>\n",
       "    </tr>\n",
       "    <tr>\n",
       "      <th>1</th>\n",
       "      <td>Not sure who was more lost - the flat characte...</td>\n",
       "      <td>0</td>\n",
       "    </tr>\n",
       "    <tr>\n",
       "      <th>2</th>\n",
       "      <td>Attempting artiness with black &amp; white and cle...</td>\n",
       "      <td>0</td>\n",
       "    </tr>\n",
       "    <tr>\n",
       "      <th>3</th>\n",
       "      <td>Very little music or anything to speak of.</td>\n",
       "      <td>0</td>\n",
       "    </tr>\n",
       "    <tr>\n",
       "      <th>4</th>\n",
       "      <td>The best scene in the movie was when Gerardo i...</td>\n",
       "      <td>1</td>\n",
       "    </tr>\n",
       "  </tbody>\n",
       "</table>\n",
       "</div>"
      ],
      "text/plain": [
       "                                                   0  1\n",
       "0  A very, very, very slow-moving, aimless movie ...  0\n",
       "1  Not sure who was more lost - the flat characte...  0\n",
       "2  Attempting artiness with black & white and cle...  0\n",
       "3       Very little music or anything to speak of.    0\n",
       "4  The best scene in the movie was when Gerardo i...  1"
      ]
     },
     "execution_count": 2,
     "metadata": {},
     "output_type": "execute_result"
    }
   ],
   "source": [
    "df=pd.read_csv(\"imdb_reviews.txt\",sep=\"\\t\",header=None)\n",
    "df.head()"
   ]
  },
  {
   "cell_type": "code",
   "execution_count": 3,
   "id": "02a4be5d",
   "metadata": {},
   "outputs": [
    {
     "data": {
      "text/html": [
       "<div>\n",
       "<style scoped>\n",
       "    .dataframe tbody tr th:only-of-type {\n",
       "        vertical-align: middle;\n",
       "    }\n",
       "\n",
       "    .dataframe tbody tr th {\n",
       "        vertical-align: top;\n",
       "    }\n",
       "\n",
       "    .dataframe thead th {\n",
       "        text-align: right;\n",
       "    }\n",
       "</style>\n",
       "<table border=\"1\" class=\"dataframe\">\n",
       "  <thead>\n",
       "    <tr style=\"text-align: right;\">\n",
       "      <th></th>\n",
       "      <th>reviews</th>\n",
       "      <th>Sentiment</th>\n",
       "    </tr>\n",
       "  </thead>\n",
       "  <tbody>\n",
       "    <tr>\n",
       "      <th>0</th>\n",
       "      <td>A very, very, very slow-moving, aimless movie ...</td>\n",
       "      <td>0</td>\n",
       "    </tr>\n",
       "    <tr>\n",
       "      <th>1</th>\n",
       "      <td>Not sure who was more lost - the flat characte...</td>\n",
       "      <td>0</td>\n",
       "    </tr>\n",
       "    <tr>\n",
       "      <th>2</th>\n",
       "      <td>Attempting artiness with black &amp; white and cle...</td>\n",
       "      <td>0</td>\n",
       "    </tr>\n",
       "    <tr>\n",
       "      <th>3</th>\n",
       "      <td>Very little music or anything to speak of.</td>\n",
       "      <td>0</td>\n",
       "    </tr>\n",
       "    <tr>\n",
       "      <th>4</th>\n",
       "      <td>The best scene in the movie was when Gerardo i...</td>\n",
       "      <td>1</td>\n",
       "    </tr>\n",
       "  </tbody>\n",
       "</table>\n",
       "</div>"
      ],
      "text/plain": [
       "                                             reviews  Sentiment\n",
       "0  A very, very, very slow-moving, aimless movie ...          0\n",
       "1  Not sure who was more lost - the flat characte...          0\n",
       "2  Attempting artiness with black & white and cle...          0\n",
       "3       Very little music or anything to speak of.            0\n",
       "4  The best scene in the movie was when Gerardo i...          1"
      ]
     },
     "execution_count": 3,
     "metadata": {},
     "output_type": "execute_result"
    }
   ],
   "source": [
    "df.columns=[\"reviews\",\"Sentiment\"]\n",
    "df.head()"
   ]
  },
  {
   "cell_type": "code",
   "execution_count": 4,
   "id": "c79a63ea",
   "metadata": {},
   "outputs": [
    {
     "data": {
      "text/plain": [
       "TextBlob(\"You can improve your machine-learning skill\")"
      ]
     },
     "execution_count": 4,
     "metadata": {},
     "output_type": "execute_result"
    }
   ],
   "source": [
    "x=\"You can improve your machine-learning skills\"\n",
    "ps.remove_special_chars(x)\n",
    "ps.remove_accented_chars(x)\n",
    "ps.get_cont_to_exp(x)\n",
    "ps.remove_emails(x)\n",
    "ps.remove_html_tags(x)\n",
    "ps.remove_urls(x)\n",
    "ps.make_base(x)\n",
    "ps.spelling_correction(x)"
   ]
  },
  {
   "cell_type": "code",
   "execution_count": 5,
   "id": "e616590c",
   "metadata": {},
   "outputs": [],
   "source": [
    "df[\"reviews\"]=df[\"reviews\"].apply(lambda x: ps.remove_special_chars(x))\n",
    "df[\"reviews\"]=df[\"reviews\"].apply(lambda x: ps.remove_accented_chars(x))\n",
    "df[\"reviews\"]=df[\"reviews\"].apply(lambda x: ps.get_cont_to_exp(x))\n",
    "df[\"reviews\"]=df[\"reviews\"].apply(lambda x: ps.remove_emails(x))\n",
    "df[\"reviews\"]=df[\"reviews\"].apply(lambda x: ps.remove_html_tags(x))\n",
    "df[\"reviews\"]=df[\"reviews\"].apply(lambda x: ps.remove_urls(x))\n",
    "df[\"reviews\"]=df[\"reviews\"].apply(lambda x: ps.make_base(x))"
   ]
  },
  {
   "cell_type": "code",
   "execution_count": 6,
   "id": "71496c5f",
   "metadata": {},
   "outputs": [
    {
     "data": {
      "text/html": [
       "<div>\n",
       "<style scoped>\n",
       "    .dataframe tbody tr th:only-of-type {\n",
       "        vertical-align: middle;\n",
       "    }\n",
       "\n",
       "    .dataframe tbody tr th {\n",
       "        vertical-align: top;\n",
       "    }\n",
       "\n",
       "    .dataframe thead th {\n",
       "        text-align: right;\n",
       "    }\n",
       "</style>\n",
       "<table border=\"1\" class=\"dataframe\">\n",
       "  <thead>\n",
       "    <tr style=\"text-align: right;\">\n",
       "      <th></th>\n",
       "      <th>reviews</th>\n",
       "      <th>Sentiment</th>\n",
       "    </tr>\n",
       "  </thead>\n",
       "  <tbody>\n",
       "    <tr>\n",
       "      <th>0</th>\n",
       "      <td>a very very very slowmove aimless movie about ...</td>\n",
       "      <td>0</td>\n",
       "    </tr>\n",
       "    <tr>\n",
       "      <th>1</th>\n",
       "      <td>not sure who was more lose the flat character ...</td>\n",
       "      <td>0</td>\n",
       "    </tr>\n",
       "    <tr>\n",
       "      <th>2</th>\n",
       "      <td>attempt artiness with black white and clever c...</td>\n",
       "      <td>0</td>\n",
       "    </tr>\n",
       "    <tr>\n",
       "      <th>3</th>\n",
       "      <td>very little music or anything to speak of</td>\n",
       "      <td>0</td>\n",
       "    </tr>\n",
       "    <tr>\n",
       "      <th>4</th>\n",
       "      <td>the good scene in the movie was when Gerardo i...</td>\n",
       "      <td>1</td>\n",
       "    </tr>\n",
       "  </tbody>\n",
       "</table>\n",
       "</div>"
      ],
      "text/plain": [
       "                                             reviews  Sentiment\n",
       "0  a very very very slowmove aimless movie about ...          0\n",
       "1  not sure who was more lose the flat character ...          0\n",
       "2  attempt artiness with black white and clever c...          0\n",
       "3          very little music or anything to speak of          0\n",
       "4  the good scene in the movie was when Gerardo i...          1"
      ]
     },
     "execution_count": 6,
     "metadata": {},
     "output_type": "execute_result"
    }
   ],
   "source": [
    "df.head()"
   ]
  },
  {
   "cell_type": "code",
   "execution_count": 7,
   "id": "af8c3065",
   "metadata": {},
   "outputs": [
    {
     "data": {
      "text/plain": [
       "(748, 2)"
      ]
     },
     "execution_count": 7,
     "metadata": {},
     "output_type": "execute_result"
    }
   ],
   "source": [
    "df.shape"
   ]
  },
  {
   "cell_type": "markdown",
   "id": "3900fda0",
   "metadata": {},
   "source": [
    "#### Data preparation for training"
   ]
  },
  {
   "cell_type": "code",
   "execution_count": 8,
   "id": "01dbe69a",
   "metadata": {},
   "outputs": [],
   "source": [
    "X=df[\"reviews\"]\n",
    "y=df[\"Sentiment\"]"
   ]
  },
  {
   "cell_type": "code",
   "execution_count": 9,
   "id": "1e3186f1",
   "metadata": {},
   "outputs": [],
   "source": [
    "X_train, X_test, y_train, y_test = train_test_split(X, y, test_size=0.2, random_state=42)"
   ]
  },
  {
   "cell_type": "code",
   "execution_count": 10,
   "id": "fef9cd67",
   "metadata": {},
   "outputs": [
    {
     "data": {
      "text/plain": [
       "((598,), (150,))"
      ]
     },
     "execution_count": 10,
     "metadata": {},
     "output_type": "execute_result"
    }
   ],
   "source": [
    "X_train.shape, X_test.shape"
   ]
  },
  {
   "cell_type": "markdown",
   "id": "afc3ab8e",
   "metadata": {},
   "source": [
    "#### ML Logistic Logistic regression model building and training"
   ]
  },
  {
   "cell_type": "code",
   "execution_count": 11,
   "id": "35c116a1",
   "metadata": {},
   "outputs": [],
   "source": [
    "pipe=Pipeline([\n",
    "    (\"tfidf\",TfidfVectorizer()),\n",
    "    (\"clf\",LogisticRegression(solver=\"liblinear\"))\n",
    "])"
   ]
  },
  {
   "cell_type": "code",
   "execution_count": 12,
   "id": "08955ceb",
   "metadata": {},
   "outputs": [],
   "source": [
    "hyperparameters={\n",
    "    \"tfidf__max_df\":[0.3, 0.5, 1.0],\n",
    "    \"tfidf__ngram_range\":[(1,1),(1,2)],\n",
    "    \"tfidf__use_idf\":[True,False],\n",
    "    \"tfidf__analyzer\":[\"word\",\"char\",\"char_wb\"],\n",
    "    \"clf__penalty\":[\"l2\",\"l1\"],\n",
    "    \"clf__C\":[1,2,5]\n",
    "}"
   ]
  },
  {
   "cell_type": "code",
   "execution_count": 13,
   "id": "3040dece",
   "metadata": {},
   "outputs": [],
   "source": [
    "clf=GridSearchCV(pipe,hyperparameters,cv=5,n_jobs=-1)"
   ]
  },
  {
   "cell_type": "code",
   "execution_count": 14,
   "id": "510ad43a",
   "metadata": {},
   "outputs": [
    {
     "name": "stdout",
     "output_type": "stream",
     "text": [
      "GridSearchCV(cv=5,\n",
      "             estimator=Pipeline(steps=[('tfidf', TfidfVectorizer()),\n",
      "                                       ('clf',\n",
      "                                        LogisticRegression(solver='liblinear'))]),\n",
      "             n_jobs=-1,\n",
      "             param_grid={'clf__C': [1, 2, 5], 'clf__penalty': ['l2', 'l1'],\n",
      "                         'tfidf__analyzer': ['word', 'char', 'char_wb'],\n",
      "                         'tfidf__max_df': [0.3, 0.5, 1.0],\n",
      "                         'tfidf__ngram_range': [(1, 1), (1, 2)],\n",
      "                         'tfidf__use_idf': [True, False]})\n",
      "CPU times: total: 2.02 s\n",
      "Wall time: 31.7 s\n"
     ]
    }
   ],
   "source": [
    "%%time\n",
    "print( clf.fit(X_train,y_train) )"
   ]
  },
  {
   "cell_type": "code",
   "execution_count": 16,
   "id": "77a3351d",
   "metadata": {},
   "outputs": [
    {
     "name": "stdout",
     "output_type": "stream",
     "text": [
      "Pipeline(steps=[('tfidf', TfidfVectorizer(max_df=0.3)),\n",
      "                ('clf', LogisticRegression(C=5, solver='liblinear'))])\n"
     ]
    }
   ],
   "source": [
    "print( clf.best_estimator_ )"
   ]
  },
  {
   "cell_type": "code",
   "execution_count": 18,
   "id": "90c6ce88",
   "metadata": {},
   "outputs": [
    {
     "name": "stdout",
     "output_type": "stream",
     "text": [
      "{'clf__C': 5, 'clf__penalty': 'l2', 'tfidf__analyzer': 'word', 'tfidf__max_df': 0.3, 'tfidf__ngram_range': (1, 1), 'tfidf__use_idf': True}\n"
     ]
    }
   ],
   "source": [
    "print( clf.best_params_ )"
   ]
  },
  {
   "cell_type": "code",
   "execution_count": 19,
   "id": "227d86b0",
   "metadata": {},
   "outputs": [
    {
     "name": "stdout",
     "output_type": "stream",
     "text": [
      "0.7691596638655461\n"
     ]
    }
   ],
   "source": [
    "print(clf.best_score_)"
   ]
  },
  {
   "cell_type": "code",
   "execution_count": 20,
   "id": "8f99757c",
   "metadata": {},
   "outputs": [
    {
     "name": "stdout",
     "output_type": "stream",
     "text": [
      "              precision    recall  f1-score   support\n",
      "\n",
      "           0       0.82      0.76      0.79        76\n",
      "           1       0.77      0.82      0.80        74\n",
      "\n",
      "    accuracy                           0.79       150\n",
      "   macro avg       0.79      0.79      0.79       150\n",
      "weighted avg       0.79      0.79      0.79       150\n",
      "\n"
     ]
    }
   ],
   "source": [
    "y_pred=clf.predict(X_test)\n",
    "print( classification_report(y_test,y_pred))"
   ]
  },
  {
   "cell_type": "markdown",
   "id": "0d6b2675",
   "metadata": {},
   "source": [
    "#### ML Logistic SVM model building and training"
   ]
  },
  {
   "cell_type": "code",
   "execution_count": 21,
   "id": "08e092de",
   "metadata": {},
   "outputs": [],
   "source": [
    "from sklearn.svm import LinearSVC"
   ]
  },
  {
   "cell_type": "code",
   "execution_count": 37,
   "id": "7a071025",
   "metadata": {},
   "outputs": [],
   "source": [
    "pipe=Pipeline([\n",
    "    (\"tfidf\",TfidfVectorizer()),\n",
    "    (\"clf\",LinearSVC())\n",
    "])"
   ]
  },
  {
   "cell_type": "code",
   "execution_count": 38,
   "id": "141eb8da",
   "metadata": {},
   "outputs": [],
   "source": [
    "hyperparameters = {\n",
    "    'tfidf__max_df': (0.5, 1.0),\n",
    "    'tfidf__ngram_range': ((1,1), (1,2)),\n",
    "    'tfidf__use_idf': (True, False),\n",
    "    'tfidf__analyzer': ('word', 'char', 'char_wb'),\n",
    "    'clf__C': (1,2,2.5,3)\n",
    "}"
   ]
  },
  {
   "cell_type": "code",
   "execution_count": 39,
   "id": "001b85d5",
   "metadata": {},
   "outputs": [],
   "source": [
    "clf=GridSearchCV(pipe,hyperparameters,cv=5,n_jobs=-1)"
   ]
  },
  {
   "cell_type": "code",
   "execution_count": 40,
   "id": "27d9ec1e",
   "metadata": {},
   "outputs": [
    {
     "name": "stdout",
     "output_type": "stream",
     "text": [
      "GridSearchCV(cv=5,\n",
      "             estimator=Pipeline(steps=[('tfidf', TfidfVectorizer()),\n",
      "                                       ('clf', LinearSVC())]),\n",
      "             n_jobs=-1,\n",
      "             param_grid={'clf__C': (1, 2, 2.5, 3),\n",
      "                         'tfidf__analyzer': ('word', 'char', 'char_wb'),\n",
      "                         'tfidf__max_df': (0.5, 1.0),\n",
      "                         'tfidf__ngram_range': ((1, 1), (1, 2)),\n",
      "                         'tfidf__use_idf': (True, False)})\n",
      "CPU times: total: 719 ms\n",
      "Wall time: 13.4 s\n"
     ]
    }
   ],
   "source": [
    "%%time\n",
    "print( clf.fit(X_train,y_train) )"
   ]
  },
  {
   "cell_type": "code",
   "execution_count": 41,
   "id": "686702b5",
   "metadata": {},
   "outputs": [
    {
     "name": "stdout",
     "output_type": "stream",
     "text": [
      "Pipeline(steps=[('tfidf', TfidfVectorizer(max_df=0.5)),\n",
      "                ('clf', LinearSVC(C=1))])\n"
     ]
    }
   ],
   "source": [
    "print( clf.best_estimator_ )"
   ]
  },
  {
   "cell_type": "code",
   "execution_count": 42,
   "id": "9a198ae4",
   "metadata": {},
   "outputs": [
    {
     "name": "stdout",
     "output_type": "stream",
     "text": [
      "{'clf__C': 1, 'tfidf__analyzer': 'word', 'tfidf__max_df': 0.5, 'tfidf__ngram_range': (1, 1), 'tfidf__use_idf': True}\n"
     ]
    }
   ],
   "source": [
    "print( clf.best_params_ )"
   ]
  },
  {
   "cell_type": "code",
   "execution_count": 43,
   "id": "26fe0750",
   "metadata": {},
   "outputs": [
    {
     "name": "stdout",
     "output_type": "stream",
     "text": [
      "0.7608403361344538\n"
     ]
    }
   ],
   "source": [
    "print(clf.best_score_)"
   ]
  },
  {
   "cell_type": "code",
   "execution_count": 44,
   "id": "e809cacf",
   "metadata": {},
   "outputs": [
    {
     "name": "stdout",
     "output_type": "stream",
     "text": [
      "              precision    recall  f1-score   support\n",
      "\n",
      "           0       0.81      0.76      0.78        76\n",
      "           1       0.77      0.81      0.79        74\n",
      "\n",
      "    accuracy                           0.79       150\n",
      "   macro avg       0.79      0.79      0.79       150\n",
      "weighted avg       0.79      0.79      0.79       150\n",
      "\n"
     ]
    }
   ],
   "source": [
    "y_pred=clf.predict(X_test)\n",
    "print( classification_report(y_test,y_pred))"
   ]
  },
  {
   "cell_type": "markdown",
   "id": "ca1ac8e6",
   "metadata": {},
   "source": [
    "#### Test, Save, and Load ML model"
   ]
  },
  {
   "cell_type": "code",
   "execution_count": 47,
   "id": "77fc71cf",
   "metadata": {},
   "outputs": [],
   "source": [
    "x=[\"I would like to watch this movie\",\"It's really bad sceenes\",\"I want my money back\",\"I can watch it again\"]"
   ]
  },
  {
   "cell_type": "code",
   "execution_count": 48,
   "id": "9434df42",
   "metadata": {},
   "outputs": [
    {
     "data": {
      "text/plain": [
       "array([1, 0, 0, 1], dtype=int64)"
      ]
     },
     "execution_count": 48,
     "metadata": {},
     "output_type": "execute_result"
    }
   ],
   "source": [
    "clf.predict(x)"
   ]
  },
  {
   "cell_type": "code",
   "execution_count": 49,
   "id": "855e9bc7",
   "metadata": {},
   "outputs": [],
   "source": [
    "import pickle as pkl"
   ]
  },
  {
   "cell_type": "code",
   "execution_count": 50,
   "id": "563c5fa5",
   "metadata": {},
   "outputs": [],
   "source": [
    "pkl.dump(clf,open(\"imdb_model.pkl\",\"wb\"))"
   ]
  },
  {
   "cell_type": "markdown",
   "id": "4e2782fc",
   "metadata": {},
   "source": [
    "#### Testing model"
   ]
  },
  {
   "cell_type": "code",
   "execution_count": 51,
   "id": "9d3c80c4",
   "metadata": {},
   "outputs": [],
   "source": [
    "import pickle as pkl\n",
    "clf_test=pkl.load(open(\"imdb_model.pkl\",\"rb\"))"
   ]
  },
  {
   "cell_type": "code",
   "execution_count": 54,
   "id": "2f9b5f3d",
   "metadata": {},
   "outputs": [
    {
     "name": "stdout",
     "output_type": "stream",
     "text": [
      "[\"It's really bad sceenes\", 'I can watch it again', 'I would like to watch this movie', 'I want my money back']\n"
     ]
    }
   ],
   "source": [
    "import random\n",
    "x=[\"I would like to watch this movie\",\"It's really bad sceenes\",\"I want my money back\",\"I can watch it again\"]\n",
    "random.shuffle(x)\n",
    "print(x)"
   ]
  },
  {
   "cell_type": "code",
   "execution_count": 55,
   "id": "019f9bc3",
   "metadata": {},
   "outputs": [
    {
     "data": {
      "text/plain": [
       "array([0, 1, 1, 0], dtype=int64)"
      ]
     },
     "execution_count": 55,
     "metadata": {},
     "output_type": "execute_result"
    }
   ],
   "source": [
    "clf_test.predict(x)"
   ]
  },
  {
   "cell_type": "code",
   "execution_count": null,
   "id": "6f6d89c5",
   "metadata": {},
   "outputs": [],
   "source": []
  }
 ],
 "metadata": {
  "kernelspec": {
   "display_name": "Python 3 (ipykernel)",
   "language": "python",
   "name": "python3"
  },
  "language_info": {
   "codemirror_mode": {
    "name": "ipython",
    "version": 3
   },
   "file_extension": ".py",
   "mimetype": "text/x-python",
   "name": "python",
   "nbconvert_exporter": "python",
   "pygments_lexer": "ipython3",
   "version": "3.8.10"
  }
 },
 "nbformat": 4,
 "nbformat_minor": 5
}
