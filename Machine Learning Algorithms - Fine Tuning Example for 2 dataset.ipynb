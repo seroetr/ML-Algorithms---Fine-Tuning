{
 "cells": [
  {
   "cell_type": "markdown",
   "id": "48a69883",
   "metadata": {},
   "source": [
    "## tf-idf sparse matrix"
   ]
  },
  {
   "cell_type": "code",
   "execution_count": 1,
   "id": "8b3180e8",
   "metadata": {},
   "outputs": [],
   "source": [
    "import pandas as pd\n",
    "import numpy as np\n",
    "import os\n",
    "import sys"
   ]
  },
  {
   "cell_type": "code",
   "execution_count": 2,
   "id": "ce99a53f",
   "metadata": {},
   "outputs": [],
   "source": [
    "from sklearn.model_selection import train_test_split\n",
    "from sklearn.svm import LinearSVC\n",
    "from sklearn.metrics import confusion_matrix, classification_report, accuracy_score\n",
    "\n",
    "from sklearn.feature_extraction.text import TfidfVectorizer"
   ]
  },
  {
   "cell_type": "code",
   "execution_count": 3,
   "id": "f9838837",
   "metadata": {},
   "outputs": [
    {
     "data": {
      "text/html": [
       "<div>\n",
       "<style scoped>\n",
       "    .dataframe tbody tr th:only-of-type {\n",
       "        vertical-align: middle;\n",
       "    }\n",
       "\n",
       "    .dataframe tbody tr th {\n",
       "        vertical-align: top;\n",
       "    }\n",
       "\n",
       "    .dataframe thead th {\n",
       "        text-align: right;\n",
       "    }\n",
       "</style>\n",
       "<table border=\"1\" class=\"dataframe\">\n",
       "  <thead>\n",
       "    <tr style=\"text-align: right;\">\n",
       "      <th></th>\n",
       "      <th>twitts</th>\n",
       "      <th>sentiment</th>\n",
       "    </tr>\n",
       "  </thead>\n",
       "  <tbody>\n",
       "    <tr>\n",
       "      <th>0</th>\n",
       "      <td>robbiebronniman sounds like a great night</td>\n",
       "      <td>1</td>\n",
       "    </tr>\n",
       "    <tr>\n",
       "      <th>1</th>\n",
       "      <td>damn the person who stolde my wallet may karma...</td>\n",
       "      <td>1</td>\n",
       "    </tr>\n",
       "    <tr>\n",
       "      <th>2</th>\n",
       "      <td>greetings from the piano bench photo</td>\n",
       "      <td>1</td>\n",
       "    </tr>\n",
       "    <tr>\n",
       "      <th>3</th>\n",
       "      <td>drewryanscott i love it i love you haha forget...</td>\n",
       "      <td>1</td>\n",
       "    </tr>\n",
       "    <tr>\n",
       "      <th>4</th>\n",
       "      <td>kissthestars pretty pretty pretty please pakid...</td>\n",
       "      <td>0</td>\n",
       "    </tr>\n",
       "  </tbody>\n",
       "</table>\n",
       "</div>"
      ],
      "text/plain": [
       "                                              twitts  sentiment\n",
       "0          robbiebronniman sounds like a great night          1\n",
       "1  damn the person who stolde my wallet may karma...          1\n",
       "2               greetings from the piano bench photo          1\n",
       "3  drewryanscott i love it i love you haha forget...          1\n",
       "4  kissthestars pretty pretty pretty please pakid...          0"
      ]
     },
     "execution_count": 3,
     "metadata": {},
     "output_type": "execute_result"
    }
   ],
   "source": [
    "df=pd.read_csv(\"twitter30k_cleaned.csv\")\n",
    "df.head()"
   ]
  },
  {
   "cell_type": "code",
   "execution_count": 4,
   "id": "0db53153",
   "metadata": {},
   "outputs": [
    {
     "data": {
      "text/plain": [
       "(30000, 2)"
      ]
     },
     "execution_count": 4,
     "metadata": {},
     "output_type": "execute_result"
    }
   ],
   "source": [
    "df.shape"
   ]
  },
  {
   "cell_type": "code",
   "execution_count": 5,
   "id": "b82d7454",
   "metadata": {},
   "outputs": [
    {
     "data": {
      "text/plain": [
       "1    15000\n",
       "0    15000\n",
       "Name: sentiment, dtype: int64"
      ]
     },
     "execution_count": 5,
     "metadata": {},
     "output_type": "execute_result"
    }
   ],
   "source": [
    "df[\"sentiment\"].value_counts()"
   ]
  },
  {
   "cell_type": "code",
   "execution_count": 6,
   "id": "6c53b442",
   "metadata": {},
   "outputs": [],
   "source": [
    "X=df[\"twitts\"]\n",
    "y=df[\"sentiment\"]"
   ]
  },
  {
   "cell_type": "code",
   "execution_count": 7,
   "id": "199e1cad",
   "metadata": {},
   "outputs": [],
   "source": [
    "tfidf=TfidfVectorizer()\n",
    "X=tfidf.fit_transform(X)"
   ]
  },
  {
   "cell_type": "code",
   "execution_count": 8,
   "id": "abd329c4",
   "metadata": {},
   "outputs": [
    {
     "data": {
      "text/plain": [
       "<30000x42126 sparse matrix of type '<class 'numpy.float64'>'\n",
       "\twith 350520 stored elements in Compressed Sparse Row format>"
      ]
     },
     "execution_count": 8,
     "metadata": {},
     "output_type": "execute_result"
    }
   ],
   "source": [
    "X\n",
    "#sparse matrix"
   ]
  },
  {
   "cell_type": "code",
   "execution_count": 9,
   "id": "6b52468e",
   "metadata": {},
   "outputs": [
    {
     "data": {
      "text/plain": [
       "{'robbiebronniman': 30912,\n",
       " 'sounds': 34066,\n",
       " 'like': 21327,\n",
       " 'great': 15018,\n",
       " 'night': 25834,\n",
       " 'damn': 9231,\n",
       " 'the': 36430,\n",
       " 'person': 27909,\n",
       " 'who': 40389,\n",
       " 'stolde': 34807,\n",
       " 'my': 25090,\n",
       " 'wallet': 39753,\n",
       " 'may': 23147,\n",
       " 'karma': 19616,\n",
       " 'come': 7980,\n",
       " 'back': 3584,\n",
       " 'and': 2366,\n",
       " 'bite': 4688,\n",
       " 'you': 41635,\n",
       " 'in': 17392,\n",
       " 'ass': 3123,\n",
       " 'greetings': 15068,\n",
       " 'from': 13806,\n",
       " 'piano': 28121,\n",
       " 'bench': 4328,\n",
       " 'photo': 28078,\n",
       " 'drewryanscott': 10916,\n",
       " 'love': 21980,\n",
       " 'it': 17964,\n",
       " 'haha': 15398,\n",
       " 'forget': 13485,\n",
       " 'hugyou': 16811,\n",
       " 'should': 32921,\n",
       " 'give': 14541,\n",
       " 'me': 23268,\n",
       " 'kissno': 20189,\n",
       " 'lie': 21260,\n",
       " 'please': 28418,\n",
       " 'would': 40931,\n",
       " 'be': 4019,\n",
       " 'awesome': 3424,\n",
       " 'if': 17159,\n",
       " 'did': 10224,\n",
       " 'kissthestars': 20190,\n",
       " 'pretty': 28945,\n",
       " 'pakidownload': 27326,\n",
       " 'ito': 18013,\n",
       " 'then': 36601,\n",
       " 'reupload': 30620,\n",
       " 'someother': 33896,\n",
       " 'site': 33261,\n",
       " 'mediafire': 23312,\n",
       " 'hindi': 16299,\n",
       " 'mgwork': 23651,\n",
       " 'ang': 2439,\n",
       " 'mu': 24903,\n",
       " 'skin': 33323,\n",
       " 'really': 29985,\n",
       " 'upset': 38998,\n",
       " 'lilyroseallen': 21388,\n",
       " 'big': 4545,\n",
       " 'pool': 28616,\n",
       " 'or': 26917,\n",
       " 'paddling': 27275,\n",
       " 'might': 23793,\n",
       " 'able': 1140,\n",
       " 'to': 37407,\n",
       " 'manage': 22616,\n",
       " 'paddle': 27274,\n",
       " 'surroundings': 35452,\n",
       " 'but': 6023,\n",
       " 'that': 36392,\n",
       " 'is': 17894,\n",
       " 'as': 3004,\n",
       " 'luxury': 22239,\n",
       " 'will': 40520,\n",
       " 'get': 14355,\n",
       " 'arianna_skye': 2886,\n",
       " 'hee': 15953,\n",
       " 'tweet': 38328,\n",
       " 'youre': 41663,\n",
       " '1001': 32,\n",
       " 'lol': 21775,\n",
       " 'happy': 15618,\n",
       " 'have': 15748,\n",
       " 'tickets': 37135,\n",
       " 'for': 13457,\n",
       " 'concerts': 8143,\n",
       " 'mileycyrus': 23882,\n",
       " 'miley': 23878,\n",
       " 'look': 21859,\n",
       " 'soo': 33959,\n",
       " 'much': 24909,\n",
       " 'better': 4455,\n",
       " 'this': 36804,\n",
       " 'its': 18019,\n",
       " 'laid': 20641,\n",
       " 'mustgotobedearly': 25055,\n",
       " 'shhquitely': 32747,\n",
       " 'nowcome': 26238,\n",
       " 'see': 32213,\n",
       " 'found': 13560,\n",
       " 'hole': 16420,\n",
       " 'fence': 12874,\n",
       " 'uh': 38665,\n",
       " 'oh': 26589,\n",
       " 'sound': 34059,\n",
       " 'messed': 23585,\n",
       " 'up': 38961,\n",
       " 'on': 26774,\n",
       " 'cable': 6140,\n",
       " 'festï½s': 12910,\n",
       " 'what': 40268,\n",
       " 'am': 2129,\n",
       " 'not': 26165,\n",
       " 'best': 4407,\n",
       " 'finally': 13033,\n",
       " 'made': 22396,\n",
       " 'hammock': 15534,\n",
       " 'innagual': 17602,\n",
       " 'yahoo': 41368,\n",
       " 'peace': 27742,\n",
       " 'harmony': 15672,\n",
       " 'mitchelmusso': 24177,\n",
       " 'allowed': 2015,\n",
       " 'call': 6229,\n",
       " 'live': 21582,\n",
       " 'uk': 38685,\n",
       " 'parents': 27478,\n",
       " 'say': 31853,\n",
       " 'cost': 8483,\n",
       " 'sucks': 35144,\n",
       " 'sandysaikman': 31670,\n",
       " 'do': 10517,\n",
       " 'makes': 22533,\n",
       " 'sad': 31467,\n",
       " 'know': 20293,\n",
       " 'how': 16719,\n",
       " 'talk': 35802,\n",
       " 'so': 33746,\n",
       " 'favourite': 12773,\n",
       " 'silver': 33130,\n",
       " 'hook': 16554,\n",
       " 'which': 40339,\n",
       " 'very': 39315,\n",
       " 'nutty': 26364,\n",
       " 'out': 27056,\n",
       " 'of': 26507,\n",
       " 'stock': 34794,\n",
       " 'right': 30787,\n",
       " 'now': 26230,\n",
       " 'leaving': 20993,\n",
       " 'hell': 16010,\n",
       " 'car': 6398,\n",
       " 'awfulugh': 3442,\n",
       " 'just': 19397,\n",
       " 'realised': 29968,\n",
       " 'ive': 18093,\n",
       " 'spent': 34212,\n",
       " 'â475': 41943,\n",
       " 'clothes': 7714,\n",
       " 'today': 37433,\n",
       " 'singing': 33198,\n",
       " 'duo': 11135,\n",
       " 'with': 40665,\n",
       " 'an': 2331,\n",
       " 'aussie': 3312,\n",
       " 'koala': 20315,\n",
       " 'wwmarcopallicom': 41110,\n",
       " 'mahafreed': 22472,\n",
       " 'im': 17281,\n",
       " 'running': 31328,\n",
       " 'battery': 3930,\n",
       " '20': 281,\n",
       " 'wont': 40779,\n",
       " 'last': 20770,\n",
       " 'long': 21840,\n",
       " 'anyway': 2688,\n",
       " 'planning': 28354,\n",
       " 'soon': 33963,\n",
       " 'more': 24555,\n",
       " 'daru': 9432,\n",
       " 'zidman8': 41863,\n",
       " 'was': 39850,\n",
       " 'nice': 25737,\n",
       " 'meeting': 23351,\n",
       " 'too': 37655,\n",
       " 'work': 40829,\n",
       " 'minute': 23996,\n",
       " 'truejerseygirl': 38120,\n",
       " 'went': 40193,\n",
       " 'kid': 20029,\n",
       " 'scotland': 32024,\n",
       " 'north': 26142,\n",
       " 'sea': 32123,\n",
       " 'they': 36734,\n",
       " 'were': 40200,\n",
       " 'catching': 6623,\n",
       " 'cod': 7818,\n",
       " 'whacking': 40261,\n",
       " 'them': 36582,\n",
       " 'head': 15821,\n",
       " 'cried': 8783,\n",
       " 'whole': 40403,\n",
       " 'time': 37207,\n",
       " 'at': 3179,\n",
       " 'must': 25050,\n",
       " 'eat': 11293,\n",
       " 'first': 13113,\n",
       " 'leftover': 21039,\n",
       " 'chinese': 7197,\n",
       " 'calling': 6236,\n",
       " 'ri_guy': 30703,\n",
       " 'bad': 3638,\n",
       " 'thats': 36417,\n",
       " 'happend': 15604,\n",
       " 'tara': 35890,\n",
       " 'excited': 12325,\n",
       " 'no': 26001,\n",
       " 'go': 14663,\n",
       " 'sorry': 34027,\n",
       " 'getting': 14372,\n",
       " 'ready': 29948,\n",
       " 'fun': 13909,\n",
       " 'day': 9548,\n",
       " 'laying': 20912,\n",
       " 'sun': 35256,\n",
       " 'before': 4214,\n",
       " 'new': 25630,\n",
       " 'schedule': 31952,\n",
       " 'kicks': 20027,\n",
       " 'sunday': 35276,\n",
       " 'edmercer': 11402,\n",
       " 'well': 40147,\n",
       " 'said': 31513,\n",
       " 'by': 6101,\n",
       " 'piaget': 28119,\n",
       " 'packing': 27260,\n",
       " 'home': 16467,\n",
       " 'bostonyay': 5258,\n",
       " 'james__buckley': 18260,\n",
       " 'hope': 16577,\n",
       " 'ouve': 27112,\n",
       " 'got': 14867,\n",
       " 'your': 41660,\n",
       " 'suncream': 35271,\n",
       " 'coz': 8605,\n",
       " 'amanda21crook': 2140,\n",
       " 'burnt': 5972,\n",
       " 'beach': 4023,\n",
       " 'yesterday': 41546,\n",
       " 'alroker': 2087,\n",
       " 'hi': 16198,\n",
       " 'al': 1790,\n",
       " 'near': 25445,\n",
       " 'lake': 20650,\n",
       " 'george': 14316,\n",
       " 'ny': 26383,\n",
       " 'frost': 13817,\n",
       " 'covered': 8581,\n",
       " 'flowers': 13298,\n",
       " 'veggie': 39246,\n",
       " 'plants': 28364,\n",
       " 'june': 19370,\n",
       " '1st': 268,\n",
       " 'happens': 15611,\n",
       " 'moving': 24714,\n",
       " 'summer': 35229,\n",
       " 'ball': 3711,\n",
       " 'amazing': 2177,\n",
       " 'however': 16724,\n",
       " 'feeling': 12834,\n",
       " 'death': 9704,\n",
       " 'sitting': 33268,\n",
       " 'bed': 4151,\n",
       " 'cuppa': 8996,\n",
       " 'watching': 39884,\n",
       " 'office': 26536,\n",
       " 'thehurricanee': 36553,\n",
       " 'hot': 16646,\n",
       " 'tamale': 35829,\n",
       " 'wayknee': 39939,\n",
       " 'ahh': 1638,\n",
       " 'same': 31590,\n",
       " 'vicentemendoza': 39364,\n",
       " 'agree': 1609,\n",
       " 'still': 34750,\n",
       " 'ep10': 11930,\n",
       " 'heard': 15864,\n",
       " 'about': 1147,\n",
       " 'suicide': 35196,\n",
       " 'thingy': 36775,\n",
       " 'yi': 41577,\n",
       " 'jungga': 19375,\n",
       " 'eul': 12140,\n",
       " 'tandem': 35850,\n",
       " 'exhausted': 12353,\n",
       " 'feel': 12830,\n",
       " 'sick': 33028,\n",
       " 'cant': 6350,\n",
       " 'anymore': 2673,\n",
       " 'princesita015': 28995,\n",
       " 'london': 21826,\n",
       " 'one': 26782,\n",
       " 'most': 24625,\n",
       " 'cities': 7499,\n",
       " 'ever': 12203,\n",
       " 'been': 4196,\n",
       " 'anonyw': 2596,\n",
       " 'yea': 41451,\n",
       " 'sha': 32479,\n",
       " 'nggak': 25699,\n",
       " 'di': 10180,\n",
       " 'officialin': 26553,\n",
       " 'kesel': 19933,\n",
       " 'abis': 1133,\n",
       " 'left': 21034,\n",
       " 'brooklyn': 5685,\n",
       " 'bumping': 5919,\n",
       " 'sarah': 31703,\n",
       " 'white': 40377,\n",
       " 'soundz': 34069,\n",
       " 'fly': 13327,\n",
       " 'don': 10624,\n",
       " 'cuco': 8946,\n",
       " 'ms': 24821,\n",
       " 'blanca': 4783,\n",
       " 'goodluck': 14786,\n",
       " 'en': 11784,\n",
       " 'espana': 12071,\n",
       " 'balmainbazaar': 3723,\n",
       " 'facehunter': 12523,\n",
       " 'embarrassing': 11673,\n",
       " 'representation': 30456,\n",
       " 'compare': 8062,\n",
       " 'swedes': 35565,\n",
       " 'all': 1961,\n",
       " 'born': 5239,\n",
       " 'stylish': 35071,\n",
       " 'watch': 39876,\n",
       " 'saw': 31846,\n",
       " 'iv': 18088,\n",
       " 'drink': 10934,\n",
       " 'lil': 21355,\n",
       " 'wine': 40588,\n",
       " 'stoshad': 34867,\n",
       " 'almost': 2039,\n",
       " 'bought': 5278,\n",
       " 'bullpen': 5894,\n",
       " 'hat': 15716,\n",
       " 'thought': 37011,\n",
       " 'douchey': 10752,\n",
       " 'possibilities': 28716,\n",
       " 'are': 2861,\n",
       " 'somehow': 33887,\n",
       " 'urgh': 39033,\n",
       " 'playing': 28397,\n",
       " 'game': 14097,\n",
       " 'hour': 16677,\n",
       " 'computer': 8115,\n",
       " 'decided': 9751,\n",
       " 'needs': 25479,\n",
       " 'restartbefore': 30540,\n",
       " 'could': 8514,\n",
       " 'chance': 6872,\n",
       " 'save': 31833,\n",
       " 'pdfloral': 27732,\n",
       " 'miss': 24049,\n",
       " 'having': 15761,\n",
       " 'retail': 30574,\n",
       " 'store': 34843,\n",
       " 'lot': 21936,\n",
       " 'another': 2599,\n",
       " 'loved': 21990,\n",
       " 'being': 4247,\n",
       " 'own': 27194,\n",
       " 'shop': 32881,\n",
       " 'girl': 14501,\n",
       " 'stevenleedawson': 34710,\n",
       " 'missed': 24080,\n",
       " 'vodka': 39554,\n",
       " 'food': 13425,\n",
       " 'chips': 7222,\n",
       " 'milk': 23895,\n",
       " 'together': 37495,\n",
       " 'already': 2073,\n",
       " 'reading': 29941,\n",
       " 'days': 9579,\n",
       " 'jackyan': 18194,\n",
       " 'good': 14765,\n",
       " 'solutions': 33873,\n",
       " 'heh': 15967,\n",
       " 'hey': 16156,\n",
       " 'fam': 12610,\n",
       " 'teemwilliams': 36115,\n",
       " 'show': 32938,\n",
       " 'tonight': 37615,\n",
       " 'sure': 35418,\n",
       " 'though': 37004,\n",
       " 'feels': 12841,\n",
       " 'havent': 15754,\n",
       " 'seen': 32232,\n",
       " 'perform': 27876,\n",
       " 'aggess': 1581,\n",
       " 'uploading': 38992,\n",
       " 'photos': 28096,\n",
       " 'facebook': 12520,\n",
       " 'friendster': 13766,\n",
       " 'myspace': 25137,\n",
       " 'later': 20797,\n",
       " 'poor': 28629,\n",
       " 'little': 21557,\n",
       " 'has': 15698,\n",
       " 'cold': 7874,\n",
       " 'need': 25472,\n",
       " 'sleep': 33426,\n",
       " 'meet': 23349,\n",
       " 'friend': 13745,\n",
       " 'hotjane': 16656,\n",
       " 'yeah': 41457,\n",
       " 'um': 38719,\n",
       " 'jane': 18313,\n",
       " 'only': 26811,\n",
       " 'unboring': 38754,\n",
       " 'eye': 12468,\n",
       " 'candy': 6326,\n",
       " 'around': 2938,\n",
       " 'there': 36648,\n",
       " 'hon': 16520,\n",
       " 'canberra': 6310,\n",
       " 'think': 36777,\n",
       " 'can': 6299,\n",
       " 'dance': 9262,\n",
       " 'goin': 14716,\n",
       " 'sleeping': 33440,\n",
       " 'beacose': 4040,\n",
       " 'tomorrow': 37571,\n",
       " 'sports': 34318,\n",
       " 'bngr': 5006,\n",
       " 'chesterfield': 7107,\n",
       " 'ave': 3370,\n",
       " 'main': 22490,\n",
       " 'road': 30886,\n",
       " 'way': 39935,\n",
       " 'through': 37057,\n",
       " 'heuston': 16151,\n",
       " 'gates': 14174,\n",
       " 'used': 39056,\n",
       " 'chilfreebies': 7172,\n",
       " 'franchise': 13614,\n",
       " 'type': 38589,\n",
       " 'business': 6001,\n",
       " 'princesammie': 28994,\n",
       " 'joined': 19036,\n",
       " 'honeymagazine': 16530,\n",
       " 'website': 40028,\n",
       " 'couldnt': 8517,\n",
       " 'find': 13048,\n",
       " 'add': 1356,\n",
       " 'icaruswingz': 17082,\n",
       " 'cunt': 8984,\n",
       " 'weeks': 40088,\n",
       " 'copy': 8408,\n",
       " 'rr': 31239,\n",
       " 'wait': 39699,\n",
       " 'oops': 26864,\n",
       " 'nevermind': 25624,\n",
       " 'billboard': 4592,\n",
       " 'ericakelly01': 11987,\n",
       " 'goodnight': 14795,\n",
       " 'dodger': 10540,\n",
       " 'burned': 5965,\n",
       " 'vanunu': 39200,\n",
       " 'yes': 41532,\n",
       " 'we': 39972,\n",
       " 'happened': 15605,\n",
       " 'baby': 3556,\n",
       " 'howie_d': 16726,\n",
       " 'gonna': 14758,\n",
       " 'take': 35776,\n",
       " 'care': 6421,\n",
       " 'he': 15819,\n",
       " 'strong': 34971,\n",
       " 'boy': 5318,\n",
       " 'attempting': 3233,\n",
       " 'hopefully': 16582,\n",
       " 'renblink182': 30388,\n",
       " 'ok': 26644,\n",
       " 'msn': 24866,\n",
       " 'bit': 4676,\n",
       " 'off': 26512,\n",
       " 'chippy': 7221,\n",
       " 'mo': 24280,\n",
       " 'dinner': 10317,\n",
       " 'speak': 34164,\n",
       " 'laters': 20803,\n",
       " 'mishmash878': 24037,\n",
       " 'week': 40058,\n",
       " 'hand': 15546,\n",
       " 'starting': 34558,\n",
       " 'yal': 41378,\n",
       " 'sophomre': 34008,\n",
       " 'kim': 20088,\n",
       " 'sang': 31673,\n",
       " 'bum': 5902,\n",
       " 'tvhaha': 38291,\n",
       " 'tynzboompow': 38588,\n",
       " 'crazy': 8718,\n",
       " 'her': 16082,\n",
       " 'songs': 33932,\n",
       " 'rid': 30767,\n",
       " 'recently': 30045,\n",
       " 'regret': 30236,\n",
       " 'alot': 2058,\n",
       " 'davidarchie': 9500,\n",
       " 'concert': 8141,\n",
       " 'david': 9491,\n",
       " 'cook': 8339,\n",
       " 'both': 5261,\n",
       " 'singers': 33195,\n",
       " 'physics': 28112,\n",
       " 'actually': 1320,\n",
       " 'sayin': 31860,\n",
       " 'tonyprice': 37652,\n",
       " 'job': 18918,\n",
       " 'again': 1547,\n",
       " '2nyt': 449,\n",
       " 'friends': 13756,\n",
       " 'luvd': 22226,\n",
       " 'pimp': 28203,\n",
       " 'dtphulp': 11044,\n",
       " 'voice': 39560,\n",
       " 'some': 33881,\n",
       " 'euh': 12139,\n",
       " 'finetuning': 13059,\n",
       " 'omjitssarax3': 26764,\n",
       " 'make': 22523,\n",
       " 'things': 36768,\n",
       " 'ed': 11356,\n",
       " 'mcmahon': 23238,\n",
       " 'noo': 26097,\n",
       " 'also': 2089,\n",
       " 'accident': 1217,\n",
       " 'airport': 1719,\n",
       " 'structural': 34980,\n",
       " 'failure': 12562,\n",
       " 'called': 6231,\n",
       " 'tired': 37305,\n",
       " 'fvck': 13989,\n",
       " 'didnt': 10233,\n",
       " 'slp': 33519,\n",
       " 'darthslr': 9431,\n",
       " 'gmail': 14637,\n",
       " 'working': 40853,\n",
       " 'either': 11496,\n",
       " 'sort': 34031,\n",
       " 'broken': 5666,\n",
       " 'hp': 16740,\n",
       " 'printer': 29013,\n",
       " 'had': 15384,\n",
       " 'couple': 8544,\n",
       " 'months': 24493,\n",
       " 'currys': 9024,\n",
       " 'hmm': 16361,\n",
       " 'until': 38941,\n",
       " 'answer': 2605,\n",
       " 'fsdt': 13849,\n",
       " 'annouced': 2572,\n",
       " 'when': 40316,\n",
       " 'shit': 32807,\n",
       " 'college': 7925,\n",
       " 'life': 21272,\n",
       " 'laugh': 20819,\n",
       " 'mtv': 24899,\n",
       " 'hate': 15718,\n",
       " 'sleepovers': 33451,\n",
       " 'shannon': 32567,\n",
       " 'mount': 24664,\n",
       " 'zoomer': 41912,\n",
       " 'into': 17757,\n",
       " 'comic': 8001,\n",
       " 'tear': 36058,\n",
       " 'friendley': 13750,\n",
       " 'trying': 38148,\n",
       " 'many': 22715,\n",
       " 'people': 27844,\n",
       " 'follow': 13379,\n",
       " 'check': 7007,\n",
       " 'acemansworldcom': 1253,\n",
       " 'cool': 8360,\n",
       " 'heading': 15838,\n",
       " 'internet': 17721,\n",
       " 'next': 25676,\n",
       " 'jonas_dreamgirl': 19080,\n",
       " 'waiting': 39705,\n",
       " 'nail': 25240,\n",
       " 'polish': 28570,\n",
       " 'dry': 11020,\n",
       " 'gotta': 14883,\n",
       " 'hair': 15459,\n",
       " 'makeup': 22535,\n",
       " 'xoxo': 41275,\n",
       " 'hates': 15728,\n",
       " 'babysit': 3571,\n",
       " 'while': 40345,\n",
       " 'bus': 5990,\n",
       " 'carlisle': 6460,\n",
       " '11ish': 110,\n",
       " 'likely': 21337,\n",
       " 'smiths': 33601,\n",
       " 'fest': 12906,\n",
       " 'sims': 33172,\n",
       " 'perhaps': 27884,\n",
       " 'monday': 24419,\n",
       " 'going': 14718,\n",
       " 'ground': 15145,\n",
       " 'zero': 41851,\n",
       " 'dont': 10677,\n",
       " 'wanna': 39787,\n",
       " 'reasons': 30010,\n",
       " 'mmicaela': 24252,\n",
       " 'ha': 15350,\n",
       " 'jamescantbeseen': 18264,\n",
       " 'imy2': 17391,\n",
       " 'sicker': 33030,\n",
       " 'than': 36352,\n",
       " 'thank': 36358,\n",
       " 'god': 14682,\n",
       " 'nyais': 26386,\n",
       " 'operation': 26885,\n",
       " 'successful': 35124,\n",
       " 'here': 16091,\n",
       " 'lying': 22261,\n",
       " 'sleepy': 33459,\n",
       " 'datarock': 9450,\n",
       " 'rock': 30978,\n",
       " 'painting': 27315,\n",
       " 'sexycitymag': 32448,\n",
       " 'want': 39792,\n",
       " 'anc153': 2360,\n",
       " 'luckyy': 22136,\n",
       " 'apparently': 2748,\n",
       " 'robeks': 30922,\n",
       " 'entire': 11901,\n",
       " 'state': 34577,\n",
       " 'pa': 27235,\n",
       " 'renato71': 30387,\n",
       " 'morning': 24578,\n",
       " 'nisher': 25944,\n",
       " 'heck': 15944,\n",
       " 'sastch': 31783,\n",
       " 'year': 41476,\n",
       " 'bail': 3689,\n",
       " 'lack': 20586,\n",
       " 'expenses': 12393,\n",
       " 'yelyahwilliams': 41519,\n",
       " 'hayley': 15782,\n",
       " 'yer': 41528,\n",
       " 'biggest': 4560,\n",
       " 'fan': 12636,\n",
       " 'philippines': 28032,\n",
       " 'tim339': 37203,\n",
       " 'suppose': 35402,\n",
       " 'interview': 17743,\n",
       " 'true': 38107,\n",
       " 'icon': 17113,\n",
       " 'karl': 19604,\n",
       " 'lagerfeld': 20631,\n",
       " 'amazes': 2174,\n",
       " 'him': 16290,\n",
       " 'his': 16320,\n",
       " 'after': 1526,\n",
       " 'dancing': 9275,\n",
       " 'shoes': 32852,\n",
       " 'blistered': 4867,\n",
       " 'feet': 12845,\n",
       " 'question': 29497,\n",
       " 'ut': 39081,\n",
       " 'worth': 40918,\n",
       " 'hoping': 16592,\n",
       " 'old': 26685,\n",
       " 'pulls': 29287,\n",
       " 'trumps': 38132,\n",
       " 'tip': 37294,\n",
       " 'top': 37688,\n",
       " 'capeside': 6375,\n",
       " 'inexplicably': 17518,\n",
       " 'creeped': 8758,\n",
       " 'something': 33903,\n",
       " 'house': 16687,\n",
       " 'scary': 31929,\n",
       " 'alone': 2049,\n",
       " 'beautiful': 4093,\n",
       " 'oo': 26837,\n",
       " 'amused': 2301,\n",
       " 'xx': 41314,\n",
       " 'ugh': 38653,\n",
       " 'ate': 3187,\n",
       " 'tummy': 38228,\n",
       " 'ache': 1259,\n",
       " 'ciaobella6': 7434,\n",
       " 'yay': 41427,\n",
       " 'loving': 22033,\n",
       " 'chicken': 7147,\n",
       " 'wings': 40599,\n",
       " 'kfc': 19977,\n",
       " 'finger': 13062,\n",
       " 'lickin': 21251,\n",
       " 'asfuwegharegu': 3014,\n",
       " 'hangovers': 15576,\n",
       " 'algebra': 1908,\n",
       " 'final': 13026,\n",
       " 'midnight': 23768,\n",
       " 'loong': 21872,\n",
       " 'mention': 23526,\n",
       " 'kids': 20047,\n",
       " 'school': 31967,\n",
       " 'whewwhy': 40334,\n",
       " 'cannot': 6341,\n",
       " 'kind': 20127,\n",
       " 'energy': 11838,\n",
       " 'kathryn17': 19671,\n",
       " 'yet': 41557,\n",
       " 'ryanj81': 31397,\n",
       " 'single': 33199,\n",
       " '3hours': 550,\n",
       " 'birds': 4648,\n",
       " 'shot': 32913,\n",
       " 'officially': 26561,\n",
       " 'middle': 23756,\n",
       " 'welshdragon72': 40174,\n",
       " 'tell': 36157,\n",
       " 'jordi': 19157,\n",
       " 'chandler': 6875,\n",
       " 'described': 10020,\n",
       " 'cock': 7800,\n",
       " 'warts': 39848,\n",
       " 'losing': 21923,\n",
       " 'fast': 12720,\n",
       " 'justbreathex': 19412,\n",
       " 'lian': 21222,\n",
       " 'robmader': 30946,\n",
       " 'finish': 13070,\n",
       " 'bahama': 3684,\n",
       " 'breeze': 5485,\n",
       " 'keep': 19807,\n",
       " 'perezwill': 27866,\n",
       " 'fued': 13883,\n",
       " 'song': 33927,\n",
       " 'youll': 41649,\n",
       " 'heart': 15871,\n",
       " 'phil': 28019,\n",
       " 'collins': 7939,\n",
       " 'ipod': 17826,\n",
       " 'tarzan': 35918,\n",
       " 'soundtrack': 34068,\n",
       " 'rules': 31308,\n",
       " 'xd': 41200,\n",
       " 'wondering': 40766,\n",
       " 'anybody': 2664,\n",
       " 'reads': 29946,\n",
       " 'opportunities': 26895,\n",
       " 'walk': 39731,\n",
       " 'llama': 21662,\n",
       " 'calmer': 6245,\n",
       " 'uhoh': 38677,\n",
       " 'hear': 15863,\n",
       " 'oven': 27118,\n",
       " 'bell': 4282,\n",
       " 'shortcrust': 32902,\n",
       " 'pastry': 27574,\n",
       " 'dead': 9666,\n",
       " 'start': 34552,\n",
       " 'vallovetwilight': 39160,\n",
       " 'kudos': 20481,\n",
       " 'doll': 10592,\n",
       " 'miami': 23672,\n",
       " 'laughing': 20823,\n",
       " 'buddah': 5825,\n",
       " 'hanging': 15570,\n",
       " 'topher': 37695,\n",
       " 'tsk': 38167,\n",
       " 'daddy': 9157,\n",
       " 'emo': 11745,\n",
       " 'hahaha': 15406,\n",
       " 'thingsmomslike': 36772,\n",
       " 'wow': 40947,\n",
       " 'huge': 16793,\n",
       " 'prize': 29036,\n",
       " 'congrats': 8203,\n",
       " 'camp': 6283,\n",
       " 'full': 13897,\n",
       " 'religious': 30318,\n",
       " 'nuts': 26358,\n",
       " 'wide_receiver': 40456,\n",
       " 'rubbish': 31263,\n",
       " 'weekend': 40066,\n",
       " 'suffering': 35172,\n",
       " 'eddiekemp': 11366,\n",
       " 'does': 10548,\n",
       " 'suck': 35131,\n",
       " 'following': 13400,\n",
       " 'ily': 17274,\n",
       " 'sputuk': 34372,\n",
       " 'surely': 35421,\n",
       " 'audi': 3271,\n",
       " 'teehee': 36109,\n",
       " 'failedcarmodels': 12555,\n",
       " 'via': 39348,\n",
       " 'chapla1n': 6905,\n",
       " 'yugo': 41728,\n",
       " 'angiggle': 2481,\n",
       " 'early': 11258,\n",
       " 'backstreetboys': 3630,\n",
       " 'brian': 5526,\n",
       " 'youare': 41638,\n",
       " 'adorable': 1425,\n",
       " 'funny': 13948,\n",
       " 'groundctrl': 15147,\n",
       " 'jessako': 18705,\n",
       " 'finished': 13072,\n",
       " 'product': 29071,\n",
       " 'missin': 24088,\n",
       " 'lauradman': 20845,\n",
       " 'laura': 20839,\n",
       " 'maybe': 23153,\n",
       " 'catch': 6620,\n",
       " 'nap': 25308,\n",
       " 'ddlovato': 9648,\n",
       " 'uklondon': 38692,\n",
       " 'fansite': 12659,\n",
       " 'knw': 20313,\n",
       " 'gna': 14649,\n",
       " 'ill': 17233,\n",
       " 'shw': 32999,\n",
       " 'therealrouga': 36661,\n",
       " 'rouga': 31180,\n",
       " 'chillin': 7181,\n",
       " 'piece': 28162,\n",
       " 'plastic': 28367,\n",
       " 'fell': 12860,\n",
       " 'iphone': 17815,\n",
       " '3g': 546,\n",
       " 'tiny': 37287,\n",
       " 'between': 4470,\n",
       " 'silent': 33111,\n",
       " 'button': 6066,\n",
       " 'volume': 39575,\n",
       " 'buttons': 6067,\n",
       " 'lost': 21927,\n",
       " 'wanting': 39798,\n",
       " 'rollingcherry': 31064,\n",
       " 'why': 40436,\n",
       " 'zugabe': 41920,\n",
       " 'gal': 14072,\n",
       " 'dat': 9445,\n",
       " 'scholarette': 31964,\n",
       " 'onthelow': 26829,\n",
       " 'hide': 16216,\n",
       " 'keys': 19972,\n",
       " 'cell': 6767,\n",
       " 'phone': 28064,\n",
       " 'stay': 34601,\n",
       " 'longer': 21844,\n",
       " 'princess_han': 28997,\n",
       " 'told': 37517,\n",
       " 'happening': 15609,\n",
       " 'wish': 40643,\n",
       " 'thouht': 37021,\n",
       " 'sung': 35291,\n",
       " 'thisapointed': 36813,\n",
       " 'myself': 25129,\n",
       " 'nothing': 26184,\n",
       " 'accomplished': 1232,\n",
       " 'besides': 4400,\n",
       " 'looking': 21863,\n",
       " 'forward': 13544,\n",
       " 'flat': 13203,\n",
       " 'soulmate': 34053,\n",
       " 'vidal': 39390,\n",
       " 'sassoon': 31775,\n",
       " 'selfish': 32279,\n",
       " 'mean': 23277,\n",
       " 'daughteri': 9464,\n",
       " 'guess': 15223,\n",
       " 'never': 25622,\n",
       " 'grow': 15161,\n",
       " 'lisjustice': 21518,\n",
       " 'davethinkslisgaynohomo': 9489,\n",
       " 'rotflmao': 31173,\n",
       " 'these': 36705,\n",
       " 'bones': 5107,\n",
       " 'matthewadamdiaz': 23088,\n",
       " 'learn': 20973,\n",
       " 'paolakoala': 27416,\n",
       " 'miles': 23875,\n",
       " 'surrounded': 35450,\n",
       " 'steep': 34626,\n",
       " 'hills': 16277,\n",
       " 'carriemrobison': 6538,\n",
       " 'any': 2658,\n",
       " 'rocks': 31001,\n",
       " 'picnic': 28147,\n",
       " 'jazz': 18470,\n",
       " 'our': 27049,\n",
       " 'area': 2862,\n",
       " 'andysalmon': 2427,\n",
       " 'coffee': 7843,\n",
       " 'workout': 40870,\n",
       " 'inbst': 17418,\n",
       " 'mall': 22573,\n",
       " 'took': 37664,\n",
       " '45': 610,\n",
       " 'mins': 23988,\n",
       " 'woke': 40734,\n",
       " 'kinda': 20128,\n",
       " 'warm': 39823,\n",
       " 'sore': 34015,\n",
       " 'throat': 37052,\n",
       " 'allergies': 1983,\n",
       " 'gasp': 14166,\n",
       " 'swine': 35621,\n",
       " 'maker': 22530,\n",
       " 'whenever': 40318,\n",
       " 'possible': 28719,\n",
       " 'adhd': 1383,\n",
       " 'clean': 7613,\n",
       " 'fizzyduck': 13162,\n",
       " 'suggest': 35189,\n",
       " 'music': 25021,\n",
       " 'electro': 11545,\n",
       " 'project': 29104,\n",
       " 'fresh': 13712,\n",
       " 'kickin': 20024,\n",
       " 'different': 10258,\n",
       " 'free': 13673,\n",
       " 'dl': 10474,\n",
       " 'somethings': 33906,\n",
       " 'down': 10772,\n",
       " 'temporary': 36187,\n",
       " 'spaces': 34118,\n",
       " 'ebassman': 11311,\n",
       " 'yo': 41598,\n",
       " 'ya': 41355,\n",
       " 'feverishpoptart': 12919,\n",
       " 'costing': 8487,\n",
       " '100': 31,\n",
       " 'instead': 17670,\n",
       " '300': 472,\n",
       " 'anticipated': 2629,\n",
       " 'plane': 28341,\n",
       " 'buenos': 5844,\n",
       " 'aires': 1712,\n",
       " 'apple': 2764,\n",
       " 'bobbibillard': 5025,\n",
       " 'large': 20749,\n",
       " 'number': 26322,\n",
       " '14': 167,\n",
       " 'aneshaisaplus': 2435,\n",
       " 'creative': 8739,\n",
       " 'wut': 41061,\n",
       " 'uu': 39098,\n",
       " 'doing': 10577,\n",
       " 'thang': 36354,\n",
       " 'helbro': 15993,\n",
       " 'hicke': 16208,\n",
       " 'os': 26999,\n",
       " '30': 471,\n",
       " 'available': 3359,\n",
       " '18th': 219,\n",
       " '0100': 3,\n",
       " 'local': 21721,\n",
       " '1pm': 266,\n",
       " '17th': 211,\n",
       " 'york': 41625,\n",
       " '1900': 221,\n",
       " 'central': 6791,\n",
       " 'europe': 12150,\n",
       " 'techcommdood': 36076,\n",
       " 'er': 11965,\n",
       " 'cup': 8987,\n",
       " 'amandacool': 2145,\n",
       " 'beans': 4062,\n",
       " 'cacheshantel': 6148,\n",
       " 'everyone': 12231,\n",
       " 'exams': 12299,\n",
       " 'gaah': 14022,\n",
       " 'fair': 12568,\n",
       " 'surprisingly': 35444,\n",
       " 'ashleytisdale': 3058,\n",
       " 'album': 1826,\n",
       " 'listened': 21526,\n",
       " 'preview': 28957,\n",
       " 'fact': 12532,\n",
       " 'spell': 34198,\n",
       " 'ridiculous': 30777,\n",
       " 'further': 13969,\n",
       " 'prove': 29184,\n",
       " 'texting': 36305,\n",
       " 'super': 35343,\n",
       " ...}"
      ]
     },
     "execution_count": 9,
     "metadata": {},
     "output_type": "execute_result"
    }
   ],
   "source": [
    "tfidf.vocabulary_\n",
    "#frequency in vocabulary"
   ]
  },
  {
   "cell_type": "code",
   "execution_count": 10,
   "id": "6b427ce6",
   "metadata": {},
   "outputs": [
    {
     "data": {
      "text/plain": [
       "42126"
      ]
     },
     "execution_count": 10,
     "metadata": {},
     "output_type": "execute_result"
    }
   ],
   "source": [
    "len(tfidf.vocabulary_)"
   ]
  },
  {
   "cell_type": "code",
   "execution_count": 11,
   "id": "b6d6dcc6",
   "metadata": {},
   "outputs": [
    {
     "data": {
      "text/plain": [
       "((30000, 42126), (30000,))"
      ]
     },
     "execution_count": 11,
     "metadata": {},
     "output_type": "execute_result"
    }
   ],
   "source": [
    "X.shape, y.shape"
   ]
  },
  {
   "cell_type": "code",
   "execution_count": 12,
   "id": "fad7d95d",
   "metadata": {},
   "outputs": [
    {
     "data": {
      "text/plain": [
       "(scipy.sparse._csr.csr_matrix, pandas.core.series.Series)"
      ]
     },
     "execution_count": 12,
     "metadata": {},
     "output_type": "execute_result"
    }
   ],
   "source": [
    "type(X), type(y)"
   ]
  },
  {
   "cell_type": "code",
   "execution_count": 13,
   "id": "e379cbeb",
   "metadata": {},
   "outputs": [
    {
     "data": {
      "text/plain": [
       "48"
      ]
     },
     "execution_count": 13,
     "metadata": {},
     "output_type": "execute_result"
    }
   ],
   "source": [
    "sys.getsizeof(X)\n",
    "#Return the size of an object in bytes"
   ]
  },
  {
   "cell_type": "code",
   "execution_count": 14,
   "id": "e7243f49",
   "metadata": {},
   "outputs": [
    {
     "data": {
      "text/plain": [
       "array([0.32137705, 0.33872744, 0.27319627, ..., 0.10368016, 0.10257841,\n",
       "       0.08647948])"
      ]
     },
     "execution_count": 14,
     "metadata": {},
     "output_type": "execute_result"
    }
   ],
   "source": [
    "X.data"
   ]
  },
  {
   "cell_type": "code",
   "execution_count": 15,
   "id": "62d5f4c6",
   "metadata": {},
   "outputs": [
    {
     "data": {
      "text/plain": [
       "2804160"
      ]
     },
     "execution_count": 15,
     "metadata": {},
     "output_type": "execute_result"
    }
   ],
   "source": [
    "X.data.nbytes\n",
    "#how many bytes they are "
   ]
  },
  {
   "cell_type": "code",
   "execution_count": 16,
   "id": "dfb20183",
   "metadata": {},
   "outputs": [
    {
     "data": {
      "text/plain": [
       "4326244"
      ]
     },
     "execution_count": 16,
     "metadata": {},
     "output_type": "execute_result"
    }
   ],
   "source": [
    "d=(X.data.nbytes + X.indptr.nbytes + X.indices.nbytes)\n",
    "d"
   ]
  },
  {
   "cell_type": "code",
   "execution_count": 17,
   "id": "99712128",
   "metadata": {},
   "outputs": [
    {
     "data": {
      "text/plain": [
       "'4.125827789306641 MB'"
      ]
     },
     "execution_count": 17,
     "metadata": {},
     "output_type": "execute_result"
    }
   ],
   "source": [
    "f\"{d/(2**20)} MB\""
   ]
  },
  {
   "cell_type": "code",
   "execution_count": 18,
   "id": "575f739d",
   "metadata": {},
   "outputs": [
    {
     "data": {
      "text/plain": [
       "'Total element size: 1263780000'"
      ]
     },
     "execution_count": 18,
     "metadata": {},
     "output_type": "execute_result"
    }
   ],
   "source": [
    "f\"Total element size: {X.shape[0]*X.shape[1]}\""
   ]
  },
  {
   "cell_type": "code",
   "execution_count": 19,
   "id": "380d830d",
   "metadata": {},
   "outputs": [
    {
     "data": {
      "text/plain": [
       "9.415894746780396"
      ]
     },
     "execution_count": 19,
     "metadata": {},
     "output_type": "execute_result"
    }
   ],
   "source": [
    "(X.shape[0]*X.shape[1])*8/(2**30)\n",
    "# it would be 9 GB if it was a dense matrix"
   ]
  },
  {
   "cell_type": "markdown",
   "id": "3d3e8117",
   "metadata": {},
   "source": [
    "#### Non-negative matrix factorization (NMF)"
   ]
  },
  {
   "cell_type": "code",
   "execution_count": 20,
   "id": "a52fb353",
   "metadata": {},
   "outputs": [],
   "source": [
    "import random\n",
    "from sklearn.decomposition import NMF\n",
    "seed=42\n",
    "random.seed(seed)\n",
    "X_train, X_test, y_train, y_test = train_test_split(X, y, test_size=0.2, random_state=seed, stratify=y)"
   ]
  },
  {
   "cell_type": "code",
   "execution_count": 21,
   "id": "2c01c726",
   "metadata": {},
   "outputs": [
    {
     "name": "stdout",
     "output_type": "stream",
     "text": [
      "CPU times: total: 51.7 s\n",
      "Wall time: 50.4 s\n"
     ]
    }
   ],
   "source": [
    "%%time\n",
    "nmf=NMF(n_components=50, random_state=seed)\n",
    "X_train_nmf=nmf.fit_transform(X_train)\n",
    "#if you choose large number of components rather than 50, time will be much longer"
   ]
  },
  {
   "cell_type": "code",
   "execution_count": 22,
   "id": "539c0fe3",
   "metadata": {},
   "outputs": [
    {
     "data": {
      "text/plain": [
       "((24000, 42126), (24000, 50))"
      ]
     },
     "execution_count": 22,
     "metadata": {},
     "output_type": "execute_result"
    }
   ],
   "source": [
    "X_train.shape, X_train_nmf.shape\n",
    "#dimensionality reduction has been realized by NMF"
   ]
  },
  {
   "cell_type": "code",
   "execution_count": 23,
   "id": "1625d80e",
   "metadata": {},
   "outputs": [],
   "source": [
    "def svm_model(clf, X_train, X_test, y_train, y_test):\n",
    "    clf.fit(X_train,y_train)\n",
    "    \n",
    "    y_pred=clf.predict(X_test)\n",
    "    \n",
    "    print(\"Confusion matrix\")\n",
    "    cm=confusion_matrix(y_test,y_pred)\n",
    "    print(cm)\n",
    "    print(\"\\n\")\n",
    "    print(\"Classification Report\")\n",
    "    cr=classification_report(y_test,y_pred)\n",
    "    print(cr)"
   ]
  },
  {
   "cell_type": "code",
   "execution_count": 24,
   "id": "0f7092f3",
   "metadata": {},
   "outputs": [
    {
     "name": "stdout",
     "output_type": "stream",
     "text": [
      "Confusion matrix\n",
      "[[1859 1141]\n",
      " [ 979 2021]]\n",
      "\n",
      "\n",
      "Classification Report\n",
      "              precision    recall  f1-score   support\n",
      "\n",
      "           0       0.66      0.62      0.64      3000\n",
      "           1       0.64      0.67      0.66      3000\n",
      "\n",
      "    accuracy                           0.65      6000\n",
      "   macro avg       0.65      0.65      0.65      6000\n",
      "weighted avg       0.65      0.65      0.65      6000\n",
      "\n",
      "CPU times: total: 359 ms\n",
      "Wall time: 331 ms\n"
     ]
    }
   ],
   "source": [
    "%%time\n",
    "#reduced dimension data\n",
    "clf=LinearSVC()\n",
    "\n",
    "X_test_nmf=nmf.transform(X_test)\n",
    "\n",
    "svm_model(clf,X_train_nmf,X_test_nmf, y_train, y_test)\n",
    "# NMF can reduce the dimension, thus reduce the memory, you can save some space\n",
    "# NMF is not a good choice for this problem"
   ]
  },
  {
   "cell_type": "code",
   "execution_count": 25,
   "id": "c9ed4aab",
   "metadata": {},
   "outputs": [
    {
     "name": "stdout",
     "output_type": "stream",
     "text": [
      "Confusion matrix\n",
      "[[2257  743]\n",
      " [ 672 2328]]\n",
      "\n",
      "\n",
      "Classification Report\n",
      "              precision    recall  f1-score   support\n",
      "\n",
      "           0       0.77      0.75      0.76      3000\n",
      "           1       0.76      0.78      0.77      3000\n",
      "\n",
      "    accuracy                           0.76      6000\n",
      "   macro avg       0.76      0.76      0.76      6000\n",
      "weighted avg       0.76      0.76      0.76      6000\n",
      "\n",
      "CPU times: total: 203 ms\n",
      "Wall time: 202 ms\n"
     ]
    }
   ],
   "source": [
    "%%time\n",
    "#Original dimension data\n",
    "svm_model(clf,X_train,X_test, y_train, y_test)"
   ]
  },
  {
   "cell_type": "markdown",
   "id": "20eb1c07",
   "metadata": {},
   "source": [
    "#### TSVD (Truncated singular value decomposition)"
   ]
  },
  {
   "cell_type": "code",
   "execution_count": 26,
   "id": "64405d64",
   "metadata": {},
   "outputs": [],
   "source": [
    "from sklearn.decomposition import TruncatedSVD as TSVD"
   ]
  },
  {
   "cell_type": "code",
   "execution_count": 27,
   "id": "68846b05",
   "metadata": {},
   "outputs": [
    {
     "name": "stdout",
     "output_type": "stream",
     "text": [
      "CPU times: total: 49.4 s\n",
      "Wall time: 20.1 s\n"
     ]
    }
   ],
   "source": [
    "%%time\n",
    "# A lot faster than NMF\n",
    "tsvd=TSVD(n_components=500,random_state=seed)\n",
    "X_train_tsvd=tsvd.fit_transform(X_train)"
   ]
  },
  {
   "cell_type": "code",
   "execution_count": 28,
   "id": "bee602d1",
   "metadata": {},
   "outputs": [
    {
     "data": {
      "text/plain": [
       "0.3823003337385808"
      ]
     },
     "execution_count": 28,
     "metadata": {},
     "output_type": "execute_result"
    }
   ],
   "source": [
    "sum(tsvd.explained_variance_)"
   ]
  },
  {
   "cell_type": "code",
   "execution_count": 29,
   "id": "528e1eb4",
   "metadata": {},
   "outputs": [
    {
     "name": "stdout",
     "output_type": "stream",
     "text": [
      "Confusion matrix\n",
      "[[2153  847]\n",
      " [ 639 2361]]\n",
      "\n",
      "\n",
      "Classification Report\n",
      "              precision    recall  f1-score   support\n",
      "\n",
      "           0       0.77      0.72      0.74      3000\n",
      "           1       0.74      0.79      0.76      3000\n",
      "\n",
      "    accuracy                           0.75      6000\n",
      "   macro avg       0.75      0.75      0.75      6000\n",
      "weighted avg       0.75      0.75      0.75      6000\n",
      "\n",
      "CPU times: total: 1.88 s\n",
      "Wall time: 1.88 s\n"
     ]
    }
   ],
   "source": [
    "%%time\n",
    "clf= LinearSVC()\n",
    "X_test_tsvd=tsvd.transform(X_test)\n",
    "svm_model(clf,X_train_tsvd,X_test_tsvd, y_train, y_test)\n",
    "# with only 500 components, we could get the same accuracy as the original dimension data did"
   ]
  },
  {
   "cell_type": "code",
   "execution_count": 30,
   "id": "c4bfa371",
   "metadata": {},
   "outputs": [
    {
     "data": {
      "text/plain": [
       "((24000, 42126), (24000, 50), (24000, 500))"
      ]
     },
     "execution_count": 30,
     "metadata": {},
     "output_type": "execute_result"
    }
   ],
   "source": [
    "X_train.shape, X_train_nmf.shape, X_train_tsvd.shape"
   ]
  },
  {
   "cell_type": "markdown",
   "id": "314dc42d",
   "metadata": {},
   "source": [
    "### Hyperparameters Tuning\n",
    "At some point, you need to improve your model outputs. In order to do that, you need to specify manually parameters of model you have built to improve the accuracy, recall, and precision outputs as well as test results.\n",
    "\n",
    "Example: learning rate in neural network or n_estimators in random forest classifiers.\n",
    "\n",
    "They are not all the answers you are looking for your model.\n",
    "\n",
    "There are 2 well-known tuning methods for hyperparameters\n",
    "- Grid search\n",
    "- Random search"
   ]
  },
  {
   "cell_type": "markdown",
   "id": "cb38c5d1",
   "metadata": {},
   "source": [
    "### Logistic regression using GridSearch"
   ]
  },
  {
   "cell_type": "code",
   "execution_count": 31,
   "id": "3f035026",
   "metadata": {},
   "outputs": [],
   "source": [
    "from sklearn.linear_model import LogisticRegression\n",
    "from sklearn.model_selection import GridSearchCV"
   ]
  },
  {
   "cell_type": "code",
   "execution_count": 32,
   "id": "2d3687a1",
   "metadata": {},
   "outputs": [],
   "source": [
    "train=X_train_tsvd.copy()\n",
    "test=X_test_tsvd.copy()\n",
    "# we are using the reduced dimensional data by tsvd\n",
    "# we need to copy it in order to avoid mutable property"
   ]
  },
  {
   "cell_type": "code",
   "execution_count": 33,
   "id": "b5f39499",
   "metadata": {},
   "outputs": [],
   "source": [
    "model=LogisticRegression(solver='liblinear',n_jobs=-1)\n",
    "# using the'liblinear' solver since it supports both L1 and L2 regularization."
   ]
  },
  {
   "cell_type": "code",
   "execution_count": 34,
   "id": "7f88ac00",
   "metadata": {},
   "outputs": [],
   "source": [
    "penalty=['l1','l2']\n",
    "C=np.logspace(0,4,10)\n",
    "max_iter=[100,500]"
   ]
  },
  {
   "cell_type": "code",
   "execution_count": 35,
   "id": "d913fa9e",
   "metadata": {},
   "outputs": [
    {
     "name": "stdout",
     "output_type": "stream",
     "text": [
      "{'penalty': ['l1', 'l2'], 'C': array([1.00000000e+00, 2.78255940e+00, 7.74263683e+00, 2.15443469e+01,\n",
      "       5.99484250e+01, 1.66810054e+02, 4.64158883e+02, 1.29154967e+03,\n",
      "       3.59381366e+03, 1.00000000e+04]), 'max_iter': [100, 500]}\n"
     ]
    }
   ],
   "source": [
    "hyperparameters=dict(penalty=penalty,C=C,max_iter=max_iter)\n",
    "print(hyperparameters)\n",
    "# we need to define it by dictionary with the exact names used in the model"
   ]
  },
  {
   "cell_type": "code",
   "execution_count": 36,
   "id": "16ea88d4",
   "metadata": {},
   "outputs": [
    {
     "name": "stdout",
     "output_type": "stream",
     "text": [
      "GridSearchCV(cv=5, estimator=LogisticRegression(n_jobs=-1, solver='liblinear'),\n",
      "             n_jobs=-1,\n",
      "             param_grid={'C': array([1.00000000e+00, 2.78255940e+00, 7.74263683e+00, 2.15443469e+01,\n",
      "       5.99484250e+01, 1.66810054e+02, 4.64158883e+02, 1.29154967e+03,\n",
      "       3.59381366e+03, 1.00000000e+04]),\n",
      "                         'max_iter': [100, 500], 'penalty': ['l1', 'l2']})\n"
     ]
    }
   ],
   "source": [
    "clf=GridSearchCV(model,hyperparameters,cv=5, n_jobs=-1) # -1 means using all processors\n",
    "print(clf)"
   ]
  },
  {
   "cell_type": "code",
   "execution_count": 37,
   "id": "259e2269",
   "metadata": {},
   "outputs": [
    {
     "name": "stderr",
     "output_type": "stream",
     "text": [
      "c:\\users\\developer\\appdata\\local\\programs\\python\\python38\\lib\\site-packages\\sklearn\\linear_model\\_logistic.py:1153: UserWarning: 'n_jobs' > 1 does not have any effect when 'solver' is set to 'liblinear'. Got 'n_jobs' = 4.\n",
      "  warnings.warn(\n"
     ]
    }
   ],
   "source": [
    "best=clf.fit(train, y_train)"
   ]
  },
  {
   "cell_type": "code",
   "execution_count": 41,
   "id": "10999665",
   "metadata": {},
   "outputs": [
    {
     "name": "stdout",
     "output_type": "stream",
     "text": [
      "LogisticRegression(C=2.7825594022071245, n_jobs=-1, solver='liblinear')\n"
     ]
    }
   ],
   "source": [
    "# return best model with parameters\n",
    "print(best.best_estimator_)"
   ]
  },
  {
   "cell_type": "code",
   "execution_count": 42,
   "id": "deaec447",
   "metadata": {},
   "outputs": [
    {
     "name": "stdout",
     "output_type": "stream",
     "text": [
      "{'C': 2.7825594022071245, 'max_iter': 100, 'penalty': 'l2'}\n"
     ]
    }
   ],
   "source": [
    "# return best model with parameters\n",
    "print(best.best_params_)"
   ]
  },
  {
   "cell_type": "code",
   "execution_count": 43,
   "id": "532c62ae",
   "metadata": {},
   "outputs": [
    {
     "data": {
      "text/plain": [
       "0.7432916666666667"
      ]
     },
     "execution_count": 43,
     "metadata": {},
     "output_type": "execute_result"
    }
   ],
   "source": [
    "#Accuracy with the selected parameters\n",
    "best.best_score_"
   ]
  },
  {
   "cell_type": "code",
   "execution_count": 44,
   "id": "067fabbb",
   "metadata": {},
   "outputs": [],
   "source": [
    "y_pred=clf.predict(test)"
   ]
  },
  {
   "cell_type": "code",
   "execution_count": 46,
   "id": "b52252b8",
   "metadata": {},
   "outputs": [
    {
     "name": "stdout",
     "output_type": "stream",
     "text": [
      "Classification report\n",
      "\n",
      "              precision    recall  f1-score   support\n",
      "\n",
      "           0       0.77      0.72      0.74      3000\n",
      "           1       0.74      0.78      0.76      3000\n",
      "\n",
      "    accuracy                           0.75      6000\n",
      "   macro avg       0.75      0.75      0.75      6000\n",
      "weighted avg       0.75      0.75      0.75      6000\n",
      "\n"
     ]
    }
   ],
   "source": [
    "print(\"Classification report\\n\")\n",
    "print(classification_report(y_test,y_pred))"
   ]
  },
  {
   "cell_type": "markdown",
   "id": "a7d4f94d",
   "metadata": {},
   "source": [
    "### SVM using GridSearch\n",
    "SVM hyperparameters\n",
    "- C\n",
    "- gamma\n",
    "- kernel\n",
    "- degree"
   ]
  },
  {
   "cell_type": "code",
   "execution_count": 47,
   "id": "845b637c",
   "metadata": {},
   "outputs": [],
   "source": [
    "from sklearn.svm import SVC\n",
    "\n",
    "import warnings\n",
    "warnings.filterwarnings(\"ignore\")\n",
    "\n",
    "\n",
    "from sklearn import datasets\n",
    "from sklearn.model_selection import GridSearchCV\n",
    "\n",
    "from sklearn.model_selection import train_test_split\n",
    "from sklearn.svm import LinearSVC\n",
    "from sklearn.metrics import accuracy_score, classification_report, confusion_matrix\n",
    "\n",
    "from sklearn.feature_extraction.text import TfidfVectorizer"
   ]
  },
  {
   "cell_type": "code",
   "execution_count": 48,
   "id": "8e5ba2ce",
   "metadata": {},
   "outputs": [],
   "source": [
    "iris=datasets.load_iris()\n",
    "X=iris.data\n",
    "y=iris.target\n",
    "# using iris dataset, because previous dataset is huge and we don't want gridseach to take too long\n",
    "# eventually, this is an example on how to do fine-tune and gridsearch"
   ]
  },
  {
   "cell_type": "code",
   "execution_count": 49,
   "id": "6716c0c8",
   "metadata": {},
   "outputs": [
    {
     "data": {
      "text/plain": [
       "42"
      ]
     },
     "execution_count": 49,
     "metadata": {},
     "output_type": "execute_result"
    }
   ],
   "source": [
    "seed"
   ]
  },
  {
   "cell_type": "code",
   "execution_count": 50,
   "id": "80c6be5e",
   "metadata": {},
   "outputs": [],
   "source": [
    "X_train, X_test, y_train, y_test = train_test_split(X, y, test_size = 0.2, random_state = seed, stratify = y)"
   ]
  },
  {
   "cell_type": "code",
   "execution_count": 51,
   "id": "6e9961bd",
   "metadata": {},
   "outputs": [],
   "source": [
    "# Setting the parameters by cross-validation\n",
    "hyperparameters = [\n",
    "    {'kernel': ['rbf'],\n",
    "     'gamma': [1e-1, 1e-2],\n",
    "     'C': [1, 10],\n",
    "     'degree': [2, 3]},\n",
    "                   \n",
    "    {'kernel': ['linear'],\n",
    "     'C': [1, 10]}]"
   ]
  },
  {
   "cell_type": "code",
   "execution_count": 53,
   "id": "fcf1f16a",
   "metadata": {},
   "outputs": [],
   "source": [
    "scores = ['precision', 'recall']\n",
    "\n",
    "def tuning(model, hyperparameters, scores):\n",
    "    for score in scores:\n",
    "        print(\"Tuning hyperparameters for %s\" %score)\n",
    "        print()\n",
    "        \n",
    "        clf=GridSearchCV(model,hyperparameters,scoring=\"%s_macro\" %score, cv=5, n_jobs=-1)\n",
    "        clf.fit(X_train,y_train)\n",
    "        \n",
    "        print(\"Best parameters found:\")\n",
    "        print()\n",
    "        print(clf.best_params_)\n",
    "        \n",
    "        print(\"Grid scores in process\")\n",
    "        print()\n",
    "        means=clf.cv_results_[\"mean_test_score\"]\n",
    "        \n",
    "        for mean, params in zip(means, clf.cv_results_[\"params\"]):\n",
    "            print(\"%0.3f for %r\" % (mean,params))\n",
    "        \n",
    "        print()\n",
    "        print(\"Classification report\")\n",
    "        y_pred=clf.predict(X_test)\n",
    "        print(classification_report(y_test, y_pred))\n",
    "        print()"
   ]
  },
  {
   "cell_type": "code",
   "execution_count": 54,
   "id": "60e30c51",
   "metadata": {},
   "outputs": [
    {
     "name": "stdout",
     "output_type": "stream",
     "text": [
      "Tuning hyperparameters for precision\n",
      "\n",
      "Best parameters found:\n",
      "\n",
      "{'C': 1, 'degree': 2, 'gamma': 0.1, 'kernel': 'rbf'}\n",
      "Grid scores in process\n",
      "\n",
      "0.985 for {'C': 1, 'degree': 2, 'gamma': 0.1, 'kernel': 'rbf'}\n",
      "0.942 for {'C': 1, 'degree': 2, 'gamma': 0.01, 'kernel': 'rbf'}\n",
      "0.985 for {'C': 1, 'degree': 3, 'gamma': 0.1, 'kernel': 'rbf'}\n",
      "0.942 for {'C': 1, 'degree': 3, 'gamma': 0.01, 'kernel': 'rbf'}\n",
      "0.978 for {'C': 10, 'degree': 2, 'gamma': 0.1, 'kernel': 'rbf'}\n",
      "0.978 for {'C': 10, 'degree': 2, 'gamma': 0.01, 'kernel': 'rbf'}\n",
      "0.978 for {'C': 10, 'degree': 3, 'gamma': 0.1, 'kernel': 'rbf'}\n",
      "0.978 for {'C': 10, 'degree': 3, 'gamma': 0.01, 'kernel': 'rbf'}\n",
      "0.985 for {'C': 1, 'kernel': 'linear'}\n",
      "0.969 for {'C': 10, 'kernel': 'linear'}\n",
      "\n",
      "Classification report\n",
      "              precision    recall  f1-score   support\n",
      "\n",
      "           0       1.00      1.00      1.00        10\n",
      "           1       0.90      0.90      0.90        10\n",
      "           2       0.90      0.90      0.90        10\n",
      "\n",
      "    accuracy                           0.93        30\n",
      "   macro avg       0.93      0.93      0.93        30\n",
      "weighted avg       0.93      0.93      0.93        30\n",
      "\n",
      "\n",
      "Tuning hyperparameters for recall\n",
      "\n",
      "Best parameters found:\n",
      "\n",
      "{'C': 1, 'degree': 2, 'gamma': 0.1, 'kernel': 'rbf'}\n",
      "Grid scores in process\n",
      "\n",
      "0.983 for {'C': 1, 'degree': 2, 'gamma': 0.1, 'kernel': 'rbf'}\n",
      "0.925 for {'C': 1, 'degree': 2, 'gamma': 0.01, 'kernel': 'rbf'}\n",
      "0.983 for {'C': 1, 'degree': 3, 'gamma': 0.1, 'kernel': 'rbf'}\n",
      "0.925 for {'C': 1, 'degree': 3, 'gamma': 0.01, 'kernel': 'rbf'}\n",
      "0.975 for {'C': 10, 'degree': 2, 'gamma': 0.1, 'kernel': 'rbf'}\n",
      "0.975 for {'C': 10, 'degree': 2, 'gamma': 0.01, 'kernel': 'rbf'}\n",
      "0.975 for {'C': 10, 'degree': 3, 'gamma': 0.1, 'kernel': 'rbf'}\n",
      "0.975 for {'C': 10, 'degree': 3, 'gamma': 0.01, 'kernel': 'rbf'}\n",
      "0.983 for {'C': 1, 'kernel': 'linear'}\n",
      "0.967 for {'C': 10, 'kernel': 'linear'}\n",
      "\n",
      "Classification report\n",
      "              precision    recall  f1-score   support\n",
      "\n",
      "           0       1.00      1.00      1.00        10\n",
      "           1       0.90      0.90      0.90        10\n",
      "           2       0.90      0.90      0.90        10\n",
      "\n",
      "    accuracy                           0.93        30\n",
      "   macro avg       0.93      0.93      0.93        30\n",
      "weighted avg       0.93      0.93      0.93        30\n",
      "\n",
      "\n"
     ]
    }
   ],
   "source": [
    "#running function\n",
    "tuning(SVC(), hyperparameters, scores)"
   ]
  },
  {
   "cell_type": "markdown",
   "id": "dc098cef",
   "metadata": {},
   "source": [
    "### Random forest GridSearch\n",
    "\n",
    "Some of hyperparameters of Random forest are:\n",
    "- **n_estimators**\n",
    "- **max_depth** \n",
    "- **min_samples_split** \n",
    "- **min_samples_leaf** \n",
    "- **max_features** "
   ]
  },
  {
   "cell_type": "code",
   "execution_count": 55,
   "id": "a3359277",
   "metadata": {},
   "outputs": [],
   "source": [
    "from sklearn.ensemble import RandomForestClassifier\n",
    "from sklearn.model_selection import GridSearchCV"
   ]
  },
  {
   "cell_type": "code",
   "execution_count": 56,
   "id": "75ecaf80",
   "metadata": {},
   "outputs": [],
   "source": [
    "scores = ['precision', 'recall']\n",
    "\n",
    "hyperparameters = {\n",
    "    'bootstrap': [True],\n",
    "    'max_depth': [10, 100],\n",
    "    'max_features': [2, 3, X.shape[1]],\n",
    "    'min_samples_leaf': [2, 5],\n",
    "    'n_estimators': [10, 100, 200]\n",
    "}"
   ]
  },
  {
   "cell_type": "code",
   "execution_count": 59,
   "id": "a4befdbd",
   "metadata": {},
   "outputs": [
    {
     "data": {
      "text/plain": [
       "((120, 4), (120,))"
      ]
     },
     "execution_count": 59,
     "metadata": {},
     "output_type": "execute_result"
    }
   ],
   "source": [
    "X_train.shape, y_train.shape"
   ]
  },
  {
   "cell_type": "code",
   "execution_count": 60,
   "id": "80dcf6d5",
   "metadata": {},
   "outputs": [
    {
     "name": "stdout",
     "output_type": "stream",
     "text": [
      "Tuning hyperparameters for precision\n",
      "\n",
      "Best parameters found:\n",
      "\n",
      "{'bootstrap': True, 'max_depth': 10, 'max_features': 3, 'min_samples_leaf': 2, 'n_estimators': 200}\n",
      "Grid scores in process\n",
      "\n",
      "0.963 for {'bootstrap': True, 'max_depth': 10, 'max_features': 2, 'min_samples_leaf': 2, 'n_estimators': 10}\n",
      "0.963 for {'bootstrap': True, 'max_depth': 10, 'max_features': 2, 'min_samples_leaf': 2, 'n_estimators': 100}\n",
      "0.957 for {'bootstrap': True, 'max_depth': 10, 'max_features': 2, 'min_samples_leaf': 2, 'n_estimators': 200}\n",
      "0.961 for {'bootstrap': True, 'max_depth': 10, 'max_features': 2, 'min_samples_leaf': 5, 'n_estimators': 10}\n",
      "0.957 for {'bootstrap': True, 'max_depth': 10, 'max_features': 2, 'min_samples_leaf': 5, 'n_estimators': 100}\n",
      "0.963 for {'bootstrap': True, 'max_depth': 10, 'max_features': 2, 'min_samples_leaf': 5, 'n_estimators': 200}\n",
      "0.957 for {'bootstrap': True, 'max_depth': 10, 'max_features': 3, 'min_samples_leaf': 2, 'n_estimators': 10}\n",
      "0.957 for {'bootstrap': True, 'max_depth': 10, 'max_features': 3, 'min_samples_leaf': 2, 'n_estimators': 100}\n",
      "0.964 for {'bootstrap': True, 'max_depth': 10, 'max_features': 3, 'min_samples_leaf': 2, 'n_estimators': 200}\n",
      "0.944 for {'bootstrap': True, 'max_depth': 10, 'max_features': 3, 'min_samples_leaf': 5, 'n_estimators': 10}\n",
      "0.964 for {'bootstrap': True, 'max_depth': 10, 'max_features': 3, 'min_samples_leaf': 5, 'n_estimators': 100}\n",
      "0.948 for {'bootstrap': True, 'max_depth': 10, 'max_features': 3, 'min_samples_leaf': 5, 'n_estimators': 200}\n",
      "0.951 for {'bootstrap': True, 'max_depth': 10, 'max_features': 4, 'min_samples_leaf': 2, 'n_estimators': 10}\n",
      "0.951 for {'bootstrap': True, 'max_depth': 10, 'max_features': 4, 'min_samples_leaf': 2, 'n_estimators': 100}\n",
      "0.957 for {'bootstrap': True, 'max_depth': 10, 'max_features': 4, 'min_samples_leaf': 2, 'n_estimators': 200}\n",
      "0.931 for {'bootstrap': True, 'max_depth': 10, 'max_features': 4, 'min_samples_leaf': 5, 'n_estimators': 10}\n",
      "0.957 for {'bootstrap': True, 'max_depth': 10, 'max_features': 4, 'min_samples_leaf': 5, 'n_estimators': 100}\n",
      "0.948 for {'bootstrap': True, 'max_depth': 10, 'max_features': 4, 'min_samples_leaf': 5, 'n_estimators': 200}\n",
      "0.948 for {'bootstrap': True, 'max_depth': 100, 'max_features': 2, 'min_samples_leaf': 2, 'n_estimators': 10}\n",
      "0.963 for {'bootstrap': True, 'max_depth': 100, 'max_features': 2, 'min_samples_leaf': 2, 'n_estimators': 100}\n",
      "0.963 for {'bootstrap': True, 'max_depth': 100, 'max_features': 2, 'min_samples_leaf': 2, 'n_estimators': 200}\n",
      "0.954 for {'bootstrap': True, 'max_depth': 100, 'max_features': 2, 'min_samples_leaf': 5, 'n_estimators': 10}\n",
      "0.948 for {'bootstrap': True, 'max_depth': 100, 'max_features': 2, 'min_samples_leaf': 5, 'n_estimators': 100}\n",
      "0.954 for {'bootstrap': True, 'max_depth': 100, 'max_features': 2, 'min_samples_leaf': 5, 'n_estimators': 200}\n",
      "0.961 for {'bootstrap': True, 'max_depth': 100, 'max_features': 3, 'min_samples_leaf': 2, 'n_estimators': 10}\n",
      "0.963 for {'bootstrap': True, 'max_depth': 100, 'max_features': 3, 'min_samples_leaf': 2, 'n_estimators': 100}\n",
      "0.957 for {'bootstrap': True, 'max_depth': 100, 'max_features': 3, 'min_samples_leaf': 2, 'n_estimators': 200}\n",
      "0.948 for {'bootstrap': True, 'max_depth': 100, 'max_features': 3, 'min_samples_leaf': 5, 'n_estimators': 10}\n",
      "0.948 for {'bootstrap': True, 'max_depth': 100, 'max_features': 3, 'min_samples_leaf': 5, 'n_estimators': 100}\n",
      "0.948 for {'bootstrap': True, 'max_depth': 100, 'max_features': 3, 'min_samples_leaf': 5, 'n_estimators': 200}\n",
      "0.957 for {'bootstrap': True, 'max_depth': 100, 'max_features': 4, 'min_samples_leaf': 2, 'n_estimators': 10}\n",
      "0.959 for {'bootstrap': True, 'max_depth': 100, 'max_features': 4, 'min_samples_leaf': 2, 'n_estimators': 100}\n",
      "0.957 for {'bootstrap': True, 'max_depth': 100, 'max_features': 4, 'min_samples_leaf': 2, 'n_estimators': 200}\n",
      "0.948 for {'bootstrap': True, 'max_depth': 100, 'max_features': 4, 'min_samples_leaf': 5, 'n_estimators': 10}\n",
      "0.957 for {'bootstrap': True, 'max_depth': 100, 'max_features': 4, 'min_samples_leaf': 5, 'n_estimators': 100}\n",
      "0.957 for {'bootstrap': True, 'max_depth': 100, 'max_features': 4, 'min_samples_leaf': 5, 'n_estimators': 200}\n",
      "\n",
      "Classification report\n",
      "              precision    recall  f1-score   support\n",
      "\n",
      "           0       1.00      1.00      1.00        10\n",
      "           1       1.00      0.90      0.95        10\n",
      "           2       0.91      1.00      0.95        10\n",
      "\n",
      "    accuracy                           0.97        30\n",
      "   macro avg       0.97      0.97      0.97        30\n",
      "weighted avg       0.97      0.97      0.97        30\n",
      "\n",
      "\n",
      "Tuning hyperparameters for recall\n",
      "\n",
      "Best parameters found:\n",
      "\n",
      "{'bootstrap': True, 'max_depth': 10, 'max_features': 2, 'min_samples_leaf': 5, 'n_estimators': 10}\n",
      "Grid scores in process\n",
      "\n",
      "0.950 for {'bootstrap': True, 'max_depth': 10, 'max_features': 2, 'min_samples_leaf': 2, 'n_estimators': 10}\n",
      "0.958 for {'bootstrap': True, 'max_depth': 10, 'max_features': 2, 'min_samples_leaf': 2, 'n_estimators': 100}\n",
      "0.942 for {'bootstrap': True, 'max_depth': 10, 'max_features': 2, 'min_samples_leaf': 2, 'n_estimators': 200}\n",
      "0.975 for {'bootstrap': True, 'max_depth': 10, 'max_features': 2, 'min_samples_leaf': 5, 'n_estimators': 10}\n",
      "0.967 for {'bootstrap': True, 'max_depth': 10, 'max_features': 2, 'min_samples_leaf': 5, 'n_estimators': 100}\n",
      "0.942 for {'bootstrap': True, 'max_depth': 10, 'max_features': 2, 'min_samples_leaf': 5, 'n_estimators': 200}\n",
      "0.958 for {'bootstrap': True, 'max_depth': 10, 'max_features': 3, 'min_samples_leaf': 2, 'n_estimators': 10}\n",
      "0.950 for {'bootstrap': True, 'max_depth': 10, 'max_features': 3, 'min_samples_leaf': 2, 'n_estimators': 100}\n",
      "0.942 for {'bootstrap': True, 'max_depth': 10, 'max_features': 3, 'min_samples_leaf': 2, 'n_estimators': 200}\n",
      "0.950 for {'bootstrap': True, 'max_depth': 10, 'max_features': 3, 'min_samples_leaf': 5, 'n_estimators': 10}\n",
      "0.950 for {'bootstrap': True, 'max_depth': 10, 'max_features': 3, 'min_samples_leaf': 5, 'n_estimators': 100}\n",
      "0.942 for {'bootstrap': True, 'max_depth': 10, 'max_features': 3, 'min_samples_leaf': 5, 'n_estimators': 200}\n",
      "0.958 for {'bootstrap': True, 'max_depth': 10, 'max_features': 4, 'min_samples_leaf': 2, 'n_estimators': 10}\n",
      "0.958 for {'bootstrap': True, 'max_depth': 10, 'max_features': 4, 'min_samples_leaf': 2, 'n_estimators': 100}\n",
      "0.950 for {'bootstrap': True, 'max_depth': 10, 'max_features': 4, 'min_samples_leaf': 2, 'n_estimators': 200}\n",
      "0.950 for {'bootstrap': True, 'max_depth': 10, 'max_features': 4, 'min_samples_leaf': 5, 'n_estimators': 10}\n",
      "0.942 for {'bootstrap': True, 'max_depth': 10, 'max_features': 4, 'min_samples_leaf': 5, 'n_estimators': 100}\n",
      "0.942 for {'bootstrap': True, 'max_depth': 10, 'max_features': 4, 'min_samples_leaf': 5, 'n_estimators': 200}\n",
      "0.958 for {'bootstrap': True, 'max_depth': 100, 'max_features': 2, 'min_samples_leaf': 2, 'n_estimators': 10}\n",
      "0.958 for {'bootstrap': True, 'max_depth': 100, 'max_features': 2, 'min_samples_leaf': 2, 'n_estimators': 100}\n",
      "0.950 for {'bootstrap': True, 'max_depth': 100, 'max_features': 2, 'min_samples_leaf': 2, 'n_estimators': 200}\n",
      "0.975 for {'bootstrap': True, 'max_depth': 100, 'max_features': 2, 'min_samples_leaf': 5, 'n_estimators': 10}\n",
      "0.958 for {'bootstrap': True, 'max_depth': 100, 'max_features': 2, 'min_samples_leaf': 5, 'n_estimators': 100}\n",
      "0.958 for {'bootstrap': True, 'max_depth': 100, 'max_features': 2, 'min_samples_leaf': 5, 'n_estimators': 200}\n",
      "0.950 for {'bootstrap': True, 'max_depth': 100, 'max_features': 3, 'min_samples_leaf': 2, 'n_estimators': 10}\n",
      "0.942 for {'bootstrap': True, 'max_depth': 100, 'max_features': 3, 'min_samples_leaf': 2, 'n_estimators': 100}\n",
      "0.950 for {'bootstrap': True, 'max_depth': 100, 'max_features': 3, 'min_samples_leaf': 2, 'n_estimators': 200}\n",
      "0.942 for {'bootstrap': True, 'max_depth': 100, 'max_features': 3, 'min_samples_leaf': 5, 'n_estimators': 10}\n",
      "0.950 for {'bootstrap': True, 'max_depth': 100, 'max_features': 3, 'min_samples_leaf': 5, 'n_estimators': 100}\n",
      "0.958 for {'bootstrap': True, 'max_depth': 100, 'max_features': 3, 'min_samples_leaf': 5, 'n_estimators': 200}\n",
      "0.933 for {'bootstrap': True, 'max_depth': 100, 'max_features': 4, 'min_samples_leaf': 2, 'n_estimators': 10}\n",
      "0.942 for {'bootstrap': True, 'max_depth': 100, 'max_features': 4, 'min_samples_leaf': 2, 'n_estimators': 100}\n",
      "0.950 for {'bootstrap': True, 'max_depth': 100, 'max_features': 4, 'min_samples_leaf': 2, 'n_estimators': 200}\n",
      "0.933 for {'bootstrap': True, 'max_depth': 100, 'max_features': 4, 'min_samples_leaf': 5, 'n_estimators': 10}\n",
      "0.942 for {'bootstrap': True, 'max_depth': 100, 'max_features': 4, 'min_samples_leaf': 5, 'n_estimators': 100}\n",
      "0.942 for {'bootstrap': True, 'max_depth': 100, 'max_features': 4, 'min_samples_leaf': 5, 'n_estimators': 200}\n",
      "\n",
      "Classification report\n",
      "              precision    recall  f1-score   support\n",
      "\n",
      "           0       1.00      1.00      1.00        10\n",
      "           1       0.82      0.90      0.86        10\n",
      "           2       0.89      0.80      0.84        10\n",
      "\n",
      "    accuracy                           0.90        30\n",
      "   macro avg       0.90      0.90      0.90        30\n",
      "weighted avg       0.90      0.90      0.90        30\n",
      "\n",
      "\n"
     ]
    }
   ],
   "source": [
    "# Running tuning function\n",
    "rfc=RandomForestClassifier(n_jobs=-1)\n",
    "tuning(rfc, hyperparameters, scores)"
   ]
  },
  {
   "cell_type": "markdown",
   "id": "01e3cd78",
   "metadata": {},
   "source": [
    "### Random Search for hyperparameters"
   ]
  },
  {
   "cell_type": "code",
   "execution_count": 62,
   "id": "4d237c40",
   "metadata": {},
   "outputs": [],
   "source": [
    "from scipy.stats import uniform, loguniform\n",
    "from sklearn.model_selection import RandomizedSearchCV"
   ]
  },
  {
   "cell_type": "code",
   "execution_count": 66,
   "id": "cdd4bfcb",
   "metadata": {},
   "outputs": [],
   "source": [
    "C=uniform(loc=0,scale=4)\n",
    "gamma=loguniform(1e-5,1e-1)\n",
    "hyperparameters= dict(C=C,gamma=gamma)"
   ]
  },
  {
   "cell_type": "code",
   "execution_count": 68,
   "id": "fb506432",
   "metadata": {},
   "outputs": [
    {
     "data": {
      "text/plain": [
       "{'C': <scipy.stats._distn_infrastructure.rv_frozen at 0x21c4a325f70>,\n",
       " 'gamma': <scipy.stats._distn_infrastructure.rv_frozen at 0x21c4953e160>}"
      ]
     },
     "execution_count": 68,
     "metadata": {},
     "output_type": "execute_result"
    }
   ],
   "source": [
    "hyperparameters\n",
    "# randomizedsearch will pick randomly from this distribution and try to fit the model"
   ]
  },
  {
   "cell_type": "code",
   "execution_count": null,
   "id": "3e03a865",
   "metadata": {},
   "outputs": [],
   "source": [
    "clf=RandomizedSearchCV(SVC(),hyperparameters,cv=5, n_jobs=-1)"
   ]
  },
  {
   "cell_type": "code",
   "execution_count": 70,
   "id": "5b4ecd80",
   "metadata": {},
   "outputs": [
    {
     "name": "stdout",
     "output_type": "stream",
     "text": [
      "GridSearchCV(cv=5, estimator=LogisticRegression(n_jobs=-1, solver='liblinear'),\n",
      "             n_jobs=-1,\n",
      "             param_grid={'C': array([1.00000000e+00, 2.78255940e+00, 7.74263683e+00, 2.15443469e+01,\n",
      "       5.99484250e+01, 1.66810054e+02, 4.64158883e+02, 1.29154967e+03,\n",
      "       3.59381366e+03, 1.00000000e+04]),\n",
      "                         'max_iter': [100, 500], 'penalty': ['l1', 'l2']})\n"
     ]
    }
   ],
   "source": [
    "print(clf.fit(X_train,y_train))"
   ]
  },
  {
   "cell_type": "code",
   "execution_count": 71,
   "id": "bec5ecfb",
   "metadata": {},
   "outputs": [
    {
     "data": {
      "text/plain": [
       "{'C': 21.544346900318832, 'max_iter': 100, 'penalty': 'l2'}"
      ]
     },
     "execution_count": 71,
     "metadata": {},
     "output_type": "execute_result"
    }
   ],
   "source": [
    "# best parameters from randomizedsearch\n",
    "clf.best_params_"
   ]
  },
  {
   "cell_type": "code",
   "execution_count": 72,
   "id": "7377fc9e",
   "metadata": {},
   "outputs": [
    {
     "data": {
      "text/plain": [
       "0.9666666666666668"
      ]
     },
     "execution_count": 72,
     "metadata": {},
     "output_type": "execute_result"
    }
   ],
   "source": [
    "clf.best_score_"
   ]
  },
  {
   "cell_type": "code",
   "execution_count": 73,
   "id": "26b72cb9",
   "metadata": {},
   "outputs": [
    {
     "name": "stdout",
     "output_type": "stream",
     "text": [
      "              precision    recall  f1-score   support\n",
      "\n",
      "           0       1.00      1.00      1.00        10\n",
      "           1       1.00      1.00      1.00        10\n",
      "           2       1.00      1.00      1.00        10\n",
      "\n",
      "    accuracy                           1.00        30\n",
      "   macro avg       1.00      1.00      1.00        30\n",
      "weighted avg       1.00      1.00      1.00        30\n",
      "\n"
     ]
    }
   ],
   "source": [
    "y_pred=clf.predict(X_test)\n",
    "print(classification_report(y_test,y_pred))\n",
    "#"
   ]
  },
  {
   "cell_type": "markdown",
   "id": "3e2900c4",
   "metadata": {},
   "source": [
    "### Best model selection from many Machine Learning Models"
   ]
  },
  {
   "cell_type": "code",
   "execution_count": 76,
   "id": "99e72a3d",
   "metadata": {},
   "outputs": [],
   "source": [
    "from sklearn.pipeline import Pipeline\n",
    "# we will perform it using pipeline"
   ]
  },
  {
   "cell_type": "code",
   "execution_count": 78,
   "id": "195e54f2",
   "metadata": {},
   "outputs": [],
   "source": [
    "pipe = Pipeline([(\"classifier\", RandomForestClassifier())])\n",
    "\n",
    "search_space = [{\"classifier\": [LogisticRegression(solver='liblinear')],\n",
    "                  \"classifier__penalty\": ['l1', 'l2'],\n",
    "                  \"classifier__C\": np.logspace(0, 4, 10)},\n",
    "                \n",
    "                {\"classifier\": [RandomForestClassifier(n_jobs=-1)],\n",
    "                  \"classifier__n_estimators\": [10, 100],\n",
    "                  \"classifier__max_features\": [1, 3]},\n",
    "                \n",
    "                  {\"classifier\": [SVC()],\n",
    "                  \"classifier__C\": [1, 5],\n",
    "                  \"classifier__gamma\": [1e-1, 1e-2]}]\n",
    "\n",
    "# search space is a list of dictionaries, which we want to use different models\n",
    "# you can set hyperparameters of classifier by putting two underscore after classifier"
   ]
  },
  {
   "cell_type": "code",
   "execution_count": 79,
   "id": "f7fcfba2",
   "metadata": {},
   "outputs": [],
   "source": [
    "clf=GridSearchCV(pipe,search_space,cv=5, n_jobs=-1)"
   ]
  },
  {
   "cell_type": "code",
   "execution_count": 81,
   "id": "852871ab",
   "metadata": {},
   "outputs": [
    {
     "name": "stdout",
     "output_type": "stream",
     "text": [
      "GridSearchCV(cv=5,\n",
      "             estimator=Pipeline(steps=[('classifier',\n",
      "                                        RandomForestClassifier())]),\n",
      "             n_jobs=-1,\n",
      "             param_grid=[{'classifier': [LogisticRegression(solver='liblinear')],\n",
      "                          'classifier__C': array([1.00000000e+00, 2.78255940e+00, 7.74263683e+00, 2.15443469e+01,\n",
      "       5.99484250e+01, 1.66810054e+02, 4.64158883e+02, 1.29154967e+03,\n",
      "       3.59381366e+03, 1.00000000e+04]),\n",
      "                          'classifier__penalty': ['l1', 'l2']},\n",
      "                         {'classifier': [RandomForestClassifier(n_jobs=-1)],\n",
      "                          'classifier__max_features': [1, 3],\n",
      "                          'classifier__n_estimators': [10, 100]},\n",
      "                         {'classifier': [SVC(C=1, gamma=0.1)],\n",
      "                          'classifier__C': [1, 5],\n",
      "                          'classifier__gamma': [0.1, 0.01]}])\n"
     ]
    }
   ],
   "source": [
    "print(clf.fit(X_train,y_train))"
   ]
  },
  {
   "cell_type": "code",
   "execution_count": 83,
   "id": "ed5b37cb",
   "metadata": {},
   "outputs": [
    {
     "name": "stdout",
     "output_type": "stream",
     "text": [
      "Pipeline(steps=[('classifier', SVC(C=1, gamma=0.1))])\n"
     ]
    }
   ],
   "source": [
    "print( clf.best_estimator_ )"
   ]
  },
  {
   "cell_type": "code",
   "execution_count": 85,
   "id": "8b3d9afb",
   "metadata": {},
   "outputs": [
    {
     "name": "stdout",
     "output_type": "stream",
     "text": [
      "{'classifier': SVC(C=1, gamma=0.1), 'classifier__C': 1, 'classifier__gamma': 0.1}\n"
     ]
    }
   ],
   "source": [
    "print( clf.best_params_ )"
   ]
  },
  {
   "cell_type": "code",
   "execution_count": null,
   "id": "f6983975",
   "metadata": {},
   "outputs": [],
   "source": [
    "# Using pipeline, You can check performance of every model while doing GridSearch"
   ]
  },
  {
   "cell_type": "code",
   "execution_count": null,
   "id": "83a4b954",
   "metadata": {},
   "outputs": [],
   "source": []
  }
 ],
 "metadata": {
  "kernelspec": {
   "display_name": "Python 3 (ipykernel)",
   "language": "python",
   "name": "python3"
  },
  "language_info": {
   "codemirror_mode": {
    "name": "ipython",
    "version": 3
   },
   "file_extension": ".py",
   "mimetype": "text/x-python",
   "name": "python",
   "nbconvert_exporter": "python",
   "pygments_lexer": "ipython3",
   "version": "3.8.10"
  }
 },
 "nbformat": 4,
 "nbformat_minor": 5
}
