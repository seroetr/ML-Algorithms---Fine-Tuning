{
 "cells": [
  {
   "cell_type": "code",
   "execution_count": 36,
   "id": "f989b19f",
   "metadata": {},
   "outputs": [],
   "source": [
    "# !pip install git+ssh://git@github.com/seroetr/preprocess_seroetr.git #download necessary packages\n"
   ]
  },
  {
   "cell_type": "code",
   "execution_count": 35,
   "id": "9490ceac",
   "metadata": {},
   "outputs": [],
   "source": [
    "# !pip install -U spacy #download necessary packages\n",
    "# !python -m spacy download en_core_web_lg #download necessary packages"
   ]
  },
  {
   "cell_type": "code",
   "execution_count": 3,
   "id": "137c2724",
   "metadata": {},
   "outputs": [],
   "source": [
    "import pandas as pd\n",
    "import numpy as np\n",
    "import spacy"
   ]
  },
  {
   "cell_type": "code",
   "execution_count": 4,
   "id": "d875b9b3",
   "metadata": {},
   "outputs": [],
   "source": [
    "import preprocess_seroetr as ps\n",
    "import matplotlib.pyplot as plt\n",
    "from sklearn.model_selection import train_test_split\n",
    "from sklearn.metrics import confusion_matrix, classification_report"
   ]
  },
  {
   "cell_type": "markdown",
   "id": "17570704",
   "metadata": {},
   "source": [
    "#### Data preprocess"
   ]
  },
  {
   "cell_type": "code",
   "execution_count": 5,
   "id": "874c48ec",
   "metadata": {},
   "outputs": [],
   "source": [
    "df=pd.read_csv(\"imdb_reviews.txt\",sep=\"\\t\",header=None)\n",
    "df.columns=[\"reviews\",\"sentiment\"]"
   ]
  },
  {
   "cell_type": "code",
   "execution_count": 6,
   "id": "a3a4d5f3",
   "metadata": {},
   "outputs": [
    {
     "data": {
      "text/html": [
       "<div>\n",
       "<style scoped>\n",
       "    .dataframe tbody tr th:only-of-type {\n",
       "        vertical-align: middle;\n",
       "    }\n",
       "\n",
       "    .dataframe tbody tr th {\n",
       "        vertical-align: top;\n",
       "    }\n",
       "\n",
       "    .dataframe thead th {\n",
       "        text-align: right;\n",
       "    }\n",
       "</style>\n",
       "<table border=\"1\" class=\"dataframe\">\n",
       "  <thead>\n",
       "    <tr style=\"text-align: right;\">\n",
       "      <th></th>\n",
       "      <th>reviews</th>\n",
       "      <th>sentiment</th>\n",
       "    </tr>\n",
       "  </thead>\n",
       "  <tbody>\n",
       "    <tr>\n",
       "      <th>0</th>\n",
       "      <td>A very, very, very slow-moving, aimless movie ...</td>\n",
       "      <td>0</td>\n",
       "    </tr>\n",
       "    <tr>\n",
       "      <th>1</th>\n",
       "      <td>Not sure who was more lost - the flat characte...</td>\n",
       "      <td>0</td>\n",
       "    </tr>\n",
       "    <tr>\n",
       "      <th>2</th>\n",
       "      <td>Attempting artiness with black &amp; white and cle...</td>\n",
       "      <td>0</td>\n",
       "    </tr>\n",
       "    <tr>\n",
       "      <th>3</th>\n",
       "      <td>Very little music or anything to speak of.</td>\n",
       "      <td>0</td>\n",
       "    </tr>\n",
       "    <tr>\n",
       "      <th>4</th>\n",
       "      <td>The best scene in the movie was when Gerardo i...</td>\n",
       "      <td>1</td>\n",
       "    </tr>\n",
       "  </tbody>\n",
       "</table>\n",
       "</div>"
      ],
      "text/plain": [
       "                                             reviews  sentiment\n",
       "0  A very, very, very slow-moving, aimless movie ...          0\n",
       "1  Not sure who was more lost - the flat characte...          0\n",
       "2  Attempting artiness with black & white and cle...          0\n",
       "3       Very little music or anything to speak of.            0\n",
       "4  The best scene in the movie was when Gerardo i...          1"
      ]
     },
     "execution_count": 6,
     "metadata": {},
     "output_type": "execute_result"
    }
   ],
   "source": [
    "df.head()"
   ]
  },
  {
   "cell_type": "code",
   "execution_count": 7,
   "id": "86f311ea",
   "metadata": {},
   "outputs": [],
   "source": [
    "def clean_data(x):\n",
    "    x = str(x).lower()\n",
    "    x = ps.get_cont_to_exp(x)\n",
    "    x = ps.remove_emails(x)\n",
    "    x = ps.remove_html_tags(x)\n",
    "    x = ps.remove_urls(x)\n",
    "    x = ps.remove_special_chars(x)\n",
    "    x = ps.remove_accented_chars(x)\n",
    "    return x"
   ]
  },
  {
   "cell_type": "code",
   "execution_count": 8,
   "id": "e63ab934",
   "metadata": {},
   "outputs": [],
   "source": [
    "x=\"that's a really scary movie!\""
   ]
  },
  {
   "cell_type": "code",
   "execution_count": 9,
   "id": "dbcd2432",
   "metadata": {},
   "outputs": [
    {
     "name": "stdout",
     "output_type": "stream",
     "text": [
      "that's a really scary movie!\n"
     ]
    },
    {
     "data": {
      "text/plain": [
       "'that is a really scary movie'"
      ]
     },
     "execution_count": 9,
     "metadata": {},
     "output_type": "execute_result"
    }
   ],
   "source": [
    "print(x)\n",
    "clean_data(x)"
   ]
  },
  {
   "cell_type": "code",
   "execution_count": 10,
   "id": "d827ac63",
   "metadata": {},
   "outputs": [
    {
     "name": "stderr",
     "output_type": "stream",
     "text": [
      "c:\\users\\developer\\appdata\\local\\programs\\python\\python38\\lib\\site-packages\\bs4\\__init__.py:435: MarkupResemblesLocatorWarning: The input looks more like a filename than markup. You may want to open this file and pass the filehandle into Beautiful Soup.\n",
      "  warnings.warn(\n"
     ]
    }
   ],
   "source": [
    "df[\"reviews\"]=df[\"reviews\"].apply(lambda x: clean_data(x))"
   ]
  },
  {
   "cell_type": "code",
   "execution_count": 11,
   "id": "55bb669c",
   "metadata": {},
   "outputs": [
    {
     "data": {
      "text/html": [
       "<div>\n",
       "<style scoped>\n",
       "    .dataframe tbody tr th:only-of-type {\n",
       "        vertical-align: middle;\n",
       "    }\n",
       "\n",
       "    .dataframe tbody tr th {\n",
       "        vertical-align: top;\n",
       "    }\n",
       "\n",
       "    .dataframe thead th {\n",
       "        text-align: right;\n",
       "    }\n",
       "</style>\n",
       "<table border=\"1\" class=\"dataframe\">\n",
       "  <thead>\n",
       "    <tr style=\"text-align: right;\">\n",
       "      <th></th>\n",
       "      <th>reviews</th>\n",
       "      <th>sentiment</th>\n",
       "    </tr>\n",
       "  </thead>\n",
       "  <tbody>\n",
       "    <tr>\n",
       "      <th>0</th>\n",
       "      <td>a very very very slowmoving aimless movie abou...</td>\n",
       "      <td>0</td>\n",
       "    </tr>\n",
       "    <tr>\n",
       "      <th>1</th>\n",
       "      <td>not sure who was more lost the flat characters...</td>\n",
       "      <td>0</td>\n",
       "    </tr>\n",
       "    <tr>\n",
       "      <th>2</th>\n",
       "      <td>attempting artiness with black white and cleve...</td>\n",
       "      <td>0</td>\n",
       "    </tr>\n",
       "    <tr>\n",
       "      <th>3</th>\n",
       "      <td>very little music or anything to speak of</td>\n",
       "      <td>0</td>\n",
       "    </tr>\n",
       "    <tr>\n",
       "      <th>4</th>\n",
       "      <td>the best scene in the movie was when gerardo i...</td>\n",
       "      <td>1</td>\n",
       "    </tr>\n",
       "  </tbody>\n",
       "</table>\n",
       "</div>"
      ],
      "text/plain": [
       "                                             reviews  sentiment\n",
       "0  a very very very slowmoving aimless movie abou...          0\n",
       "1  not sure who was more lost the flat characters...          0\n",
       "2  attempting artiness with black white and cleve...          0\n",
       "3          very little music or anything to speak of          0\n",
       "4  the best scene in the movie was when gerardo i...          1"
      ]
     },
     "execution_count": 11,
     "metadata": {},
     "output_type": "execute_result"
    }
   ],
   "source": [
    "df.head()"
   ]
  },
  {
   "cell_type": "code",
   "execution_count": 12,
   "id": "086fe14f",
   "metadata": {},
   "outputs": [],
   "source": [
    "nlp=spacy.load(\"en_core_web_lg\")"
   ]
  },
  {
   "cell_type": "code",
   "execution_count": 13,
   "id": "0ef3d7b6",
   "metadata": {},
   "outputs": [],
   "source": [
    "def get_vec(x):\n",
    "    doc=nlp(x)\n",
    "    vec=doc.vector\n",
    "    return vec"
   ]
  },
  {
   "cell_type": "code",
   "execution_count": 14,
   "id": "9636010b",
   "metadata": {},
   "outputs": [
    {
     "data": {
      "text/plain": [
       "(300,)"
      ]
     },
     "execution_count": 14,
     "metadata": {},
     "output_type": "execute_result"
    }
   ],
   "source": [
    "get_vec(\"how are you\").shape"
   ]
  },
  {
   "cell_type": "code",
   "execution_count": 15,
   "id": "1eb765f7",
   "metadata": {},
   "outputs": [],
   "source": [
    "df[\"vec\"]=df[\"reviews\"].apply(lambda x: get_vec(x))"
   ]
  },
  {
   "cell_type": "code",
   "execution_count": 16,
   "id": "4f0292ab",
   "metadata": {},
   "outputs": [
    {
     "data": {
      "text/html": [
       "<div>\n",
       "<style scoped>\n",
       "    .dataframe tbody tr th:only-of-type {\n",
       "        vertical-align: middle;\n",
       "    }\n",
       "\n",
       "    .dataframe tbody tr th {\n",
       "        vertical-align: top;\n",
       "    }\n",
       "\n",
       "    .dataframe thead th {\n",
       "        text-align: right;\n",
       "    }\n",
       "</style>\n",
       "<table border=\"1\" class=\"dataframe\">\n",
       "  <thead>\n",
       "    <tr style=\"text-align: right;\">\n",
       "      <th></th>\n",
       "      <th>reviews</th>\n",
       "      <th>sentiment</th>\n",
       "      <th>vec</th>\n",
       "    </tr>\n",
       "  </thead>\n",
       "  <tbody>\n",
       "    <tr>\n",
       "      <th>0</th>\n",
       "      <td>a very very very slowmoving aimless movie abou...</td>\n",
       "      <td>0</td>\n",
       "      <td>[-1.7658583, 1.6712562, -2.762896, -1.448437, ...</td>\n",
       "    </tr>\n",
       "    <tr>\n",
       "      <th>1</th>\n",
       "      <td>not sure who was more lost the flat characters...</td>\n",
       "      <td>0</td>\n",
       "      <td>[-3.794328, 0.70210844, -2.5325108, 0.14926393...</td>\n",
       "    </tr>\n",
       "    <tr>\n",
       "      <th>2</th>\n",
       "      <td>attempting artiness with black white and cleve...</td>\n",
       "      <td>0</td>\n",
       "      <td>[-2.9543035, -0.07106956, -2.2745807, -0.66580...</td>\n",
       "    </tr>\n",
       "    <tr>\n",
       "      <th>3</th>\n",
       "      <td>very little music or anything to speak of</td>\n",
       "      <td>0</td>\n",
       "      <td>[-1.9868913, 2.2468886, -4.532146, -2.550426, ...</td>\n",
       "    </tr>\n",
       "    <tr>\n",
       "      <th>4</th>\n",
       "      <td>the best scene in the movie was when gerardo i...</td>\n",
       "      <td>1</td>\n",
       "      <td>[-1.0748299, 2.742419, -2.5380828, -1.3163186,...</td>\n",
       "    </tr>\n",
       "  </tbody>\n",
       "</table>\n",
       "</div>"
      ],
      "text/plain": [
       "                                             reviews  sentiment  \\\n",
       "0  a very very very slowmoving aimless movie abou...          0   \n",
       "1  not sure who was more lost the flat characters...          0   \n",
       "2  attempting artiness with black white and cleve...          0   \n",
       "3          very little music or anything to speak of          0   \n",
       "4  the best scene in the movie was when gerardo i...          1   \n",
       "\n",
       "                                                 vec  \n",
       "0  [-1.7658583, 1.6712562, -2.762896, -1.448437, ...  \n",
       "1  [-3.794328, 0.70210844, -2.5325108, 0.14926393...  \n",
       "2  [-2.9543035, -0.07106956, -2.2745807, -0.66580...  \n",
       "3  [-1.9868913, 2.2468886, -4.532146, -2.550426, ...  \n",
       "4  [-1.0748299, 2.742419, -2.5380828, -1.3163186,...  "
      ]
     },
     "execution_count": 16,
     "metadata": {},
     "output_type": "execute_result"
    }
   ],
   "source": [
    "df.head()"
   ]
  },
  {
   "cell_type": "code",
   "execution_count": 17,
   "id": "8c27ac25",
   "metadata": {},
   "outputs": [],
   "source": [
    "y=df[\"sentiment\"]"
   ]
  },
  {
   "cell_type": "code",
   "execution_count": 18,
   "id": "70165656",
   "metadata": {},
   "outputs": [],
   "source": [
    "X = df['vec'].to_numpy()\n",
    "X = X.reshape(-1, 1)"
   ]
  },
  {
   "cell_type": "code",
   "execution_count": 19,
   "id": "b2c1245d",
   "metadata": {},
   "outputs": [
    {
     "data": {
      "text/plain": [
       "((748, 3), (748, 1))"
      ]
     },
     "execution_count": 19,
     "metadata": {},
     "output_type": "execute_result"
    }
   ],
   "source": [
    "df.shape, X.shape"
   ]
  },
  {
   "cell_type": "code",
   "execution_count": 20,
   "id": "29d3d4f6",
   "metadata": {},
   "outputs": [],
   "source": [
    "X = np.concatenate(np.concatenate(X, axis = 0), axis = 0).reshape(-1, 300)"
   ]
  },
  {
   "cell_type": "code",
   "execution_count": 21,
   "id": "3db3c4d0",
   "metadata": {},
   "outputs": [
    {
     "data": {
      "text/plain": [
       "((748, 3), (748, 300))"
      ]
     },
     "execution_count": 21,
     "metadata": {},
     "output_type": "execute_result"
    }
   ],
   "source": [
    "df.shape, X.shape"
   ]
  },
  {
   "cell_type": "code",
   "execution_count": 22,
   "id": "5ed38bab",
   "metadata": {},
   "outputs": [],
   "source": [
    "X_train, X_test, y_train, y_test = train_test_split(X, y, test_size = 0.2, random_state = 0, stratify = y)"
   ]
  },
  {
   "cell_type": "code",
   "execution_count": 23,
   "id": "b1af619b",
   "metadata": {},
   "outputs": [
    {
     "data": {
      "text/plain": [
       "((598, 300), (150, 300))"
      ]
     },
     "execution_count": 23,
     "metadata": {},
     "output_type": "execute_result"
    }
   ],
   "source": [
    "X_train.shape, X_test.shape"
   ]
  },
  {
   "cell_type": "code",
   "execution_count": 24,
   "id": "4d9749db",
   "metadata": {},
   "outputs": [
    {
     "data": {
      "text/plain": [
       "-11.106075"
      ]
     },
     "execution_count": 24,
     "metadata": {},
     "output_type": "execute_result"
    }
   ],
   "source": [
    "np.min(X_train)"
   ]
  },
  {
   "cell_type": "markdown",
   "id": "39c08d34",
   "metadata": {},
   "source": [
    "#### Feature scaling"
   ]
  },
  {
   "cell_type": "code",
   "execution_count": 25,
   "id": "4ecb0f07",
   "metadata": {},
   "outputs": [],
   "source": [
    "from sklearn.preprocessing import MinMaxScaler"
   ]
  },
  {
   "cell_type": "code",
   "execution_count": 26,
   "id": "14d42e50",
   "metadata": {},
   "outputs": [],
   "source": [
    "scaler=MinMaxScaler()"
   ]
  },
  {
   "cell_type": "code",
   "execution_count": 27,
   "id": "98916096",
   "metadata": {},
   "outputs": [],
   "source": [
    "X_train=scaler.fit_transform(X_train) # fitting values between 0-1\n",
    "X_test=scaler.transform(X_test)"
   ]
  },
  {
   "cell_type": "code",
   "execution_count": 28,
   "id": "68f6d244",
   "metadata": {},
   "outputs": [
    {
     "data": {
      "text/plain": [
       "(0.0, 1.0000001)"
      ]
     },
     "execution_count": 28,
     "metadata": {},
     "output_type": "execute_result"
    }
   ],
   "source": [
    "np.min(X_train), np.max(X_train)"
   ]
  },
  {
   "cell_type": "code",
   "execution_count": 29,
   "id": "6f606ce2",
   "metadata": {},
   "outputs": [
    {
     "data": {
      "text/plain": [
       "300"
      ]
     },
     "execution_count": 29,
     "metadata": {},
     "output_type": "execute_result"
    }
   ],
   "source": [
    "X.shape[1]"
   ]
  },
  {
   "cell_type": "markdown",
   "id": "a34434d6",
   "metadata": {},
   "source": [
    "#### Artificial Neural Network"
   ]
  },
  {
   "cell_type": "code",
   "execution_count": 30,
   "id": "740cbac3",
   "metadata": {},
   "outputs": [],
   "source": [
    "import tensorflow as tf\n",
    "from tensorflow import keras\n",
    "from tensorflow.keras import Sequential\n",
    "from tensorflow.keras.layers import Flatten, Dense\n",
    "from tensorflow.keras.optimizers import Adam"
   ]
  },
  {
   "cell_type": "code",
   "execution_count": 31,
   "id": "721e533b",
   "metadata": {},
   "outputs": [],
   "source": [
    "model=Sequential()\n",
    "model.add(Dense(128,activation=\"relu\",input_dim=X.shape[1])) # input layer\n",
    "model.add(Dense(128,activation=\"relu\")) # hidden layer\n",
    "model.add(Dense(128,activation=\"relu\")) # hidden layer\n",
    "model.add(Dense(1,activation=\"sigmoid\")) # output layer"
   ]
  },
  {
   "cell_type": "code",
   "execution_count": 32,
   "id": "42b5b79f",
   "metadata": {},
   "outputs": [
    {
     "name": "stderr",
     "output_type": "stream",
     "text": [
      "c:\\users\\developer\\appdata\\local\\programs\\python\\python38\\lib\\site-packages\\keras\\optimizers\\optimizer_v2\\adam.py:110: UserWarning: The `lr` argument is deprecated, use `learning_rate` instead.\n",
      "  super(Adam, self).__init__(name, **kwargs)\n"
     ]
    }
   ],
   "source": [
    "model.compile(optimizer=Adam(lr=0.00005),loss=\"binary_crossentropy\",metrics=[\"accuracy\"])"
   ]
  },
  {
   "cell_type": "code",
   "execution_count": 33,
   "id": "bddec3dc",
   "metadata": {},
   "outputs": [
    {
     "name": "stdout",
     "output_type": "stream",
     "text": [
      "Epoch 1/200\n",
      "75/75 [==============================] - 1s 3ms/step - loss: 0.6895 - accuracy: 0.5184\n",
      "Epoch 2/200\n",
      "75/75 [==============================] - 0s 3ms/step - loss: 0.6769 - accuracy: 0.6104\n",
      "Epoch 3/200\n",
      "75/75 [==============================] - 0s 2ms/step - loss: 0.6670 - accuracy: 0.6371\n",
      "Epoch 4/200\n",
      "75/75 [==============================] - 0s 2ms/step - loss: 0.6605 - accuracy: 0.6388\n",
      "Epoch 5/200\n",
      "75/75 [==============================] - 0s 2ms/step - loss: 0.6513 - accuracy: 0.6572\n",
      "Epoch 6/200\n",
      "75/75 [==============================] - 0s 2ms/step - loss: 0.6414 - accuracy: 0.6839\n",
      "Epoch 7/200\n",
      "75/75 [==============================] - 0s 2ms/step - loss: 0.6347 - accuracy: 0.6689\n",
      "Epoch 8/200\n",
      "75/75 [==============================] - 0s 2ms/step - loss: 0.6195 - accuracy: 0.6957\n",
      "Epoch 9/200\n",
      "75/75 [==============================] - 0s 2ms/step - loss: 0.6150 - accuracy: 0.6856\n",
      "Epoch 10/200\n",
      "75/75 [==============================] - 0s 2ms/step - loss: 0.5989 - accuracy: 0.7090\n",
      "Epoch 11/200\n",
      "75/75 [==============================] - 0s 2ms/step - loss: 0.5878 - accuracy: 0.7258\n",
      "Epoch 12/200\n",
      "75/75 [==============================] - 0s 2ms/step - loss: 0.5770 - accuracy: 0.7425\n",
      "Epoch 13/200\n",
      "75/75 [==============================] - 0s 2ms/step - loss: 0.5693 - accuracy: 0.7057\n",
      "Epoch 14/200\n",
      "75/75 [==============================] - 0s 2ms/step - loss: 0.5627 - accuracy: 0.7324\n",
      "Epoch 15/200\n",
      "75/75 [==============================] - 0s 2ms/step - loss: 0.5548 - accuracy: 0.7291\n",
      "Epoch 16/200\n",
      "75/75 [==============================] - 0s 2ms/step - loss: 0.5534 - accuracy: 0.7341\n",
      "Epoch 17/200\n",
      "75/75 [==============================] - 0s 2ms/step - loss: 0.5401 - accuracy: 0.7575\n",
      "Epoch 18/200\n",
      "75/75 [==============================] - 0s 2ms/step - loss: 0.5324 - accuracy: 0.7492\n",
      "Epoch 19/200\n",
      "75/75 [==============================] - 0s 2ms/step - loss: 0.5279 - accuracy: 0.7625\n",
      "Epoch 20/200\n",
      "75/75 [==============================] - 0s 2ms/step - loss: 0.5188 - accuracy: 0.7625\n",
      "Epoch 21/200\n",
      "75/75 [==============================] - 0s 2ms/step - loss: 0.5205 - accuracy: 0.7559\n",
      "Epoch 22/200\n",
      "75/75 [==============================] - 0s 2ms/step - loss: 0.5126 - accuracy: 0.7625\n",
      "Epoch 23/200\n",
      "75/75 [==============================] - 0s 2ms/step - loss: 0.5010 - accuracy: 0.7843\n",
      "Epoch 24/200\n",
      "75/75 [==============================] - 0s 2ms/step - loss: 0.5036 - accuracy: 0.7742\n",
      "Epoch 25/200\n",
      "75/75 [==============================] - 0s 2ms/step - loss: 0.4884 - accuracy: 0.7759\n",
      "Epoch 26/200\n",
      "75/75 [==============================] - 0s 2ms/step - loss: 0.4823 - accuracy: 0.7943\n",
      "Epoch 27/200\n",
      "75/75 [==============================] - 0s 2ms/step - loss: 0.4770 - accuracy: 0.7876\n",
      "Epoch 28/200\n",
      "75/75 [==============================] - 0s 2ms/step - loss: 0.4744 - accuracy: 0.7893\n",
      "Epoch 29/200\n",
      "75/75 [==============================] - 0s 2ms/step - loss: 0.4720 - accuracy: 0.8027\n",
      "Epoch 30/200\n",
      "75/75 [==============================] - 0s 3ms/step - loss: 0.4728 - accuracy: 0.7793\n",
      "Epoch 31/200\n",
      "75/75 [==============================] - 0s 2ms/step - loss: 0.4538 - accuracy: 0.8043\n",
      "Epoch 32/200\n",
      "75/75 [==============================] - 0s 2ms/step - loss: 0.4590 - accuracy: 0.8010\n",
      "Epoch 33/200\n",
      "75/75 [==============================] - 0s 2ms/step - loss: 0.4572 - accuracy: 0.7993\n",
      "Epoch 34/200\n",
      "75/75 [==============================] - 0s 2ms/step - loss: 0.4441 - accuracy: 0.8077\n",
      "Epoch 35/200\n",
      "75/75 [==============================] - 0s 2ms/step - loss: 0.4505 - accuracy: 0.7943\n",
      "Epoch 36/200\n",
      "75/75 [==============================] - 0s 2ms/step - loss: 0.4443 - accuracy: 0.8010\n",
      "Epoch 37/200\n",
      "75/75 [==============================] - 0s 5ms/step - loss: 0.4285 - accuracy: 0.8244\n",
      "Epoch 38/200\n",
      "75/75 [==============================] - 0s 3ms/step - loss: 0.4294 - accuracy: 0.8227\n",
      "Epoch 39/200\n",
      "75/75 [==============================] - 0s 2ms/step - loss: 0.4341 - accuracy: 0.8227\n",
      "Epoch 40/200\n",
      "75/75 [==============================] - 0s 3ms/step - loss: 0.4351 - accuracy: 0.8127\n",
      "Epoch 41/200\n",
      "75/75 [==============================] - 0s 2ms/step - loss: 0.4215 - accuracy: 0.8127\n",
      "Epoch 42/200\n",
      "75/75 [==============================] - 0s 3ms/step - loss: 0.4165 - accuracy: 0.8211\n",
      "Epoch 43/200\n",
      "75/75 [==============================] - 0s 2ms/step - loss: 0.4159 - accuracy: 0.8161\n",
      "Epoch 44/200\n",
      "75/75 [==============================] - 0s 2ms/step - loss: 0.4156 - accuracy: 0.8060\n",
      "Epoch 45/200\n",
      "75/75 [==============================] - 0s 2ms/step - loss: 0.4034 - accuracy: 0.8244\n",
      "Epoch 46/200\n",
      "75/75 [==============================] - 0s 2ms/step - loss: 0.4079 - accuracy: 0.8278\n",
      "Epoch 47/200\n",
      "75/75 [==============================] - 0s 3ms/step - loss: 0.3988 - accuracy: 0.8328\n",
      "Epoch 48/200\n",
      "75/75 [==============================] - 0s 3ms/step - loss: 0.3987 - accuracy: 0.8378\n",
      "Epoch 49/200\n",
      "75/75 [==============================] - 0s 5ms/step - loss: 0.3945 - accuracy: 0.8177\n",
      "Epoch 50/200\n",
      "75/75 [==============================] - 0s 3ms/step - loss: 0.4042 - accuracy: 0.8211\n",
      "Epoch 51/200\n",
      "75/75 [==============================] - 0s 3ms/step - loss: 0.3832 - accuracy: 0.8428\n",
      "Epoch 52/200\n",
      "75/75 [==============================] - 0s 4ms/step - loss: 0.3811 - accuracy: 0.8495\n",
      "Epoch 53/200\n",
      "75/75 [==============================] - 0s 3ms/step - loss: 0.3893 - accuracy: 0.8294\n",
      "Epoch 54/200\n",
      "75/75 [==============================] - 0s 2ms/step - loss: 0.3821 - accuracy: 0.8361\n",
      "Epoch 55/200\n",
      "75/75 [==============================] - 0s 3ms/step - loss: 0.3850 - accuracy: 0.8411\n",
      "Epoch 56/200\n",
      "75/75 [==============================] - 0s 3ms/step - loss: 0.3743 - accuracy: 0.8411\n",
      "Epoch 57/200\n",
      "75/75 [==============================] - 0s 2ms/step - loss: 0.3666 - accuracy: 0.8462\n",
      "Epoch 58/200\n",
      "75/75 [==============================] - 0s 3ms/step - loss: 0.3647 - accuracy: 0.8428\n",
      "Epoch 59/200\n",
      "75/75 [==============================] - 0s 2ms/step - loss: 0.3689 - accuracy: 0.8244\n",
      "Epoch 60/200\n",
      "75/75 [==============================] - 0s 3ms/step - loss: 0.3771 - accuracy: 0.8411\n",
      "Epoch 61/200\n",
      "75/75 [==============================] - 0s 3ms/step - loss: 0.3602 - accuracy: 0.8445\n",
      "Epoch 62/200\n",
      "75/75 [==============================] - 0s 2ms/step - loss: 0.3534 - accuracy: 0.8562\n",
      "Epoch 63/200\n",
      "75/75 [==============================] - 0s 2ms/step - loss: 0.3648 - accuracy: 0.8462\n",
      "Epoch 64/200\n",
      "75/75 [==============================] - 0s 2ms/step - loss: 0.3491 - accuracy: 0.8595\n",
      "Epoch 65/200\n",
      "75/75 [==============================] - 0s 2ms/step - loss: 0.3497 - accuracy: 0.8478\n",
      "Epoch 66/200\n",
      "75/75 [==============================] - 0s 2ms/step - loss: 0.3576 - accuracy: 0.8445\n",
      "Epoch 67/200\n",
      "75/75 [==============================] - 0s 2ms/step - loss: 0.3511 - accuracy: 0.8445\n",
      "Epoch 68/200\n",
      "75/75 [==============================] - 0s 3ms/step - loss: 0.3427 - accuracy: 0.8579\n",
      "Epoch 69/200\n",
      "75/75 [==============================] - 0s 3ms/step - loss: 0.3438 - accuracy: 0.8462\n",
      "Epoch 70/200\n",
      "75/75 [==============================] - 0s 2ms/step - loss: 0.3432 - accuracy: 0.8528\n",
      "Epoch 71/200\n",
      "75/75 [==============================] - 0s 3ms/step - loss: 0.3309 - accuracy: 0.8612\n",
      "Epoch 72/200\n",
      "75/75 [==============================] - 0s 3ms/step - loss: 0.3338 - accuracy: 0.8612\n",
      "Epoch 73/200\n",
      "75/75 [==============================] - 0s 2ms/step - loss: 0.3283 - accuracy: 0.8629\n",
      "Epoch 74/200\n",
      "75/75 [==============================] - 0s 4ms/step - loss: 0.3317 - accuracy: 0.8462\n",
      "Epoch 75/200\n",
      "75/75 [==============================] - 0s 5ms/step - loss: 0.3337 - accuracy: 0.8645\n",
      "Epoch 76/200\n",
      "75/75 [==============================] - 0s 5ms/step - loss: 0.3215 - accuracy: 0.8712\n",
      "Epoch 77/200\n",
      "75/75 [==============================] - 0s 5ms/step - loss: 0.3229 - accuracy: 0.8629\n",
      "Epoch 78/200\n",
      "75/75 [==============================] - 0s 4ms/step - loss: 0.3257 - accuracy: 0.8645\n",
      "Epoch 79/200\n",
      "75/75 [==============================] - 0s 4ms/step - loss: 0.3203 - accuracy: 0.8763\n",
      "Epoch 80/200\n",
      "75/75 [==============================] - 0s 5ms/step - loss: 0.3174 - accuracy: 0.8612\n",
      "Epoch 81/200\n",
      "75/75 [==============================] - 0s 4ms/step - loss: 0.3097 - accuracy: 0.8729\n",
      "Epoch 82/200\n",
      "75/75 [==============================] - 0s 4ms/step - loss: 0.3208 - accuracy: 0.8729\n",
      "Epoch 83/200\n"
     ]
    },
    {
     "name": "stdout",
     "output_type": "stream",
     "text": [
      "75/75 [==============================] - 0s 3ms/step - loss: 0.3138 - accuracy: 0.8679\n",
      "Epoch 84/200\n",
      "75/75 [==============================] - 0s 4ms/step - loss: 0.3036 - accuracy: 0.8629\n",
      "Epoch 85/200\n",
      "75/75 [==============================] - 0s 4ms/step - loss: 0.3084 - accuracy: 0.8729\n",
      "Epoch 86/200\n",
      "75/75 [==============================] - 0s 3ms/step - loss: 0.3084 - accuracy: 0.8796\n",
      "Epoch 87/200\n",
      "75/75 [==============================] - 0s 4ms/step - loss: 0.3078 - accuracy: 0.8629\n",
      "Epoch 88/200\n",
      "75/75 [==============================] - 0s 3ms/step - loss: 0.2968 - accuracy: 0.8746\n",
      "Epoch 89/200\n",
      "75/75 [==============================] - 0s 3ms/step - loss: 0.2944 - accuracy: 0.8813\n",
      "Epoch 90/200\n",
      "75/75 [==============================] - 0s 3ms/step - loss: 0.2973 - accuracy: 0.8712\n",
      "Epoch 91/200\n",
      "75/75 [==============================] - 0s 3ms/step - loss: 0.3043 - accuracy: 0.8863\n",
      "Epoch 92/200\n",
      "75/75 [==============================] - 0s 3ms/step - loss: 0.2942 - accuracy: 0.8679\n",
      "Epoch 93/200\n",
      "75/75 [==============================] - 0s 2ms/step - loss: 0.2913 - accuracy: 0.8863\n",
      "Epoch 94/200\n",
      "75/75 [==============================] - 0s 5ms/step - loss: 0.2900 - accuracy: 0.8829\n",
      "Epoch 95/200\n",
      "75/75 [==============================] - 0s 4ms/step - loss: 0.2828 - accuracy: 0.8846\n",
      "Epoch 96/200\n",
      "75/75 [==============================] - 0s 4ms/step - loss: 0.2891 - accuracy: 0.8813\n",
      "Epoch 97/200\n",
      "75/75 [==============================] - 0s 4ms/step - loss: 0.2803 - accuracy: 0.8930\n",
      "Epoch 98/200\n",
      "75/75 [==============================] - 0s 4ms/step - loss: 0.2781 - accuracy: 0.8863\n",
      "Epoch 99/200\n",
      "75/75 [==============================] - 0s 3ms/step - loss: 0.2768 - accuracy: 0.8896\n",
      "Epoch 100/200\n",
      "75/75 [==============================] - 0s 3ms/step - loss: 0.2830 - accuracy: 0.8913\n",
      "Epoch 101/200\n",
      "75/75 [==============================] - 0s 3ms/step - loss: 0.2802 - accuracy: 0.8880\n",
      "Epoch 102/200\n",
      "75/75 [==============================] - 0s 3ms/step - loss: 0.2842 - accuracy: 0.8896\n",
      "Epoch 103/200\n",
      "75/75 [==============================] - 0s 3ms/step - loss: 0.2703 - accuracy: 0.8846\n",
      "Epoch 104/200\n",
      "75/75 [==============================] - 0s 3ms/step - loss: 0.2633 - accuracy: 0.8930\n",
      "Epoch 105/200\n",
      "75/75 [==============================] - 0s 3ms/step - loss: 0.2806 - accuracy: 0.8829\n",
      "Epoch 106/200\n",
      "75/75 [==============================] - 0s 3ms/step - loss: 0.2553 - accuracy: 0.8913\n",
      "Epoch 107/200\n",
      "75/75 [==============================] - 0s 3ms/step - loss: 0.2679 - accuracy: 0.8880\n",
      "Epoch 108/200\n",
      "75/75 [==============================] - 0s 4ms/step - loss: 0.2694 - accuracy: 0.8896\n",
      "Epoch 109/200\n",
      "75/75 [==============================] - 0s 4ms/step - loss: 0.2689 - accuracy: 0.8729\n",
      "Epoch 110/200\n",
      "75/75 [==============================] - 0s 4ms/step - loss: 0.2553 - accuracy: 0.8946\n",
      "Epoch 111/200\n",
      "75/75 [==============================] - 0s 4ms/step - loss: 0.2536 - accuracy: 0.8980\n",
      "Epoch 112/200\n",
      "75/75 [==============================] - 0s 4ms/step - loss: 0.2465 - accuracy: 0.8997\n",
      "Epoch 113/200\n",
      "75/75 [==============================] - 0s 4ms/step - loss: 0.2603 - accuracy: 0.8946\n",
      "Epoch 114/200\n",
      "75/75 [==============================] - 0s 4ms/step - loss: 0.2417 - accuracy: 0.9047\n",
      "Epoch 115/200\n",
      "75/75 [==============================] - 0s 4ms/step - loss: 0.2691 - accuracy: 0.8863\n",
      "Epoch 116/200\n",
      "75/75 [==============================] - 0s 5ms/step - loss: 0.2405 - accuracy: 0.8997\n",
      "Epoch 117/200\n",
      "75/75 [==============================] - 0s 4ms/step - loss: 0.2476 - accuracy: 0.9047\n",
      "Epoch 118/200\n",
      "75/75 [==============================] - 0s 4ms/step - loss: 0.2391 - accuracy: 0.8963\n",
      "Epoch 119/200\n",
      "75/75 [==============================] - 0s 4ms/step - loss: 0.2313 - accuracy: 0.9097\n",
      "Epoch 120/200\n",
      "75/75 [==============================] - 0s 4ms/step - loss: 0.2427 - accuracy: 0.8963\n",
      "Epoch 121/200\n",
      "75/75 [==============================] - 0s 5ms/step - loss: 0.2317 - accuracy: 0.9080\n",
      "Epoch 122/200\n",
      "75/75 [==============================] - 0s 3ms/step - loss: 0.2275 - accuracy: 0.9047\n",
      "Epoch 123/200\n",
      "75/75 [==============================] - 0s 4ms/step - loss: 0.2278 - accuracy: 0.9114\n",
      "Epoch 124/200\n",
      "75/75 [==============================] - 0s 3ms/step - loss: 0.2354 - accuracy: 0.9097\n",
      "Epoch 125/200\n",
      "75/75 [==============================] - 0s 4ms/step - loss: 0.2331 - accuracy: 0.9030\n",
      "Epoch 126/200\n",
      "75/75 [==============================] - 0s 4ms/step - loss: 0.2254 - accuracy: 0.9013\n",
      "Epoch 127/200\n",
      "75/75 [==============================] - 0s 3ms/step - loss: 0.2279 - accuracy: 0.9181\n",
      "Epoch 128/200\n",
      "75/75 [==============================] - 0s 3ms/step - loss: 0.2256 - accuracy: 0.9114\n",
      "Epoch 129/200\n",
      "75/75 [==============================] - 0s 3ms/step - loss: 0.2333 - accuracy: 0.8913\n",
      "Epoch 130/200\n",
      "75/75 [==============================] - 0s 3ms/step - loss: 0.2446 - accuracy: 0.8913\n",
      "Epoch 131/200\n",
      "75/75 [==============================] - 0s 3ms/step - loss: 0.2227 - accuracy: 0.9047\n",
      "Epoch 132/200\n",
      "75/75 [==============================] - 0s 3ms/step - loss: 0.2171 - accuracy: 0.9147\n",
      "Epoch 133/200\n",
      "75/75 [==============================] - 0s 3ms/step - loss: 0.2164 - accuracy: 0.9181\n",
      "Epoch 134/200\n",
      "75/75 [==============================] - 0s 3ms/step - loss: 0.2128 - accuracy: 0.9130\n",
      "Epoch 135/200\n",
      "75/75 [==============================] - 0s 3ms/step - loss: 0.2243 - accuracy: 0.8980\n",
      "Epoch 136/200\n",
      "75/75 [==============================] - 0s 3ms/step - loss: 0.2122 - accuracy: 0.9214\n",
      "Epoch 137/200\n",
      "75/75 [==============================] - 0s 3ms/step - loss: 0.2111 - accuracy: 0.9247\n",
      "Epoch 138/200\n",
      "75/75 [==============================] - 0s 3ms/step - loss: 0.2129 - accuracy: 0.9130\n",
      "Epoch 139/200\n",
      "75/75 [==============================] - 0s 3ms/step - loss: 0.2028 - accuracy: 0.9264\n",
      "Epoch 140/200\n",
      "75/75 [==============================] - 0s 3ms/step - loss: 0.2045 - accuracy: 0.9281\n",
      "Epoch 141/200\n",
      "75/75 [==============================] - 0s 3ms/step - loss: 0.2033 - accuracy: 0.9247\n",
      "Epoch 142/200\n",
      "75/75 [==============================] - 0s 6ms/step - loss: 0.2052 - accuracy: 0.9181\n",
      "Epoch 143/200\n",
      "75/75 [==============================] - 0s 3ms/step - loss: 0.2154 - accuracy: 0.9197\n",
      "Epoch 144/200\n",
      "75/75 [==============================] - 0s 4ms/step - loss: 0.1997 - accuracy: 0.9247\n",
      "Epoch 145/200\n",
      "75/75 [==============================] - 0s 4ms/step - loss: 0.1956 - accuracy: 0.9298\n",
      "Epoch 146/200\n",
      "75/75 [==============================] - 0s 3ms/step - loss: 0.1987 - accuracy: 0.9214\n",
      "Epoch 147/200\n",
      "75/75 [==============================] - 0s 3ms/step - loss: 0.1920 - accuracy: 0.9281\n",
      "Epoch 148/200\n",
      "75/75 [==============================] - 0s 3ms/step - loss: 0.1964 - accuracy: 0.9231\n",
      "Epoch 149/200\n",
      "75/75 [==============================] - 0s 3ms/step - loss: 0.1865 - accuracy: 0.9247\n",
      "Epoch 150/200\n",
      "75/75 [==============================] - 0s 3ms/step - loss: 0.1843 - accuracy: 0.9348\n",
      "Epoch 151/200\n",
      "75/75 [==============================] - 0s 3ms/step - loss: 0.1917 - accuracy: 0.9247\n",
      "Epoch 152/200\n",
      "75/75 [==============================] - 0s 4ms/step - loss: 0.1832 - accuracy: 0.9365\n",
      "Epoch 153/200\n",
      "75/75 [==============================] - 0s 3ms/step - loss: 0.1851 - accuracy: 0.9247\n",
      "Epoch 154/200\n",
      "75/75 [==============================] - 0s 3ms/step - loss: 0.1903 - accuracy: 0.9231\n",
      "Epoch 155/200\n",
      "75/75 [==============================] - 0s 3ms/step - loss: 0.1781 - accuracy: 0.9415\n",
      "Epoch 156/200\n",
      "75/75 [==============================] - 0s 3ms/step - loss: 0.1795 - accuracy: 0.9331\n",
      "Epoch 157/200\n",
      "75/75 [==============================] - 0s 3ms/step - loss: 0.1762 - accuracy: 0.9365\n",
      "Epoch 158/200\n",
      "75/75 [==============================] - 0s 3ms/step - loss: 0.1797 - accuracy: 0.9415\n",
      "Epoch 159/200\n",
      "75/75 [==============================] - 0s 4ms/step - loss: 0.1730 - accuracy: 0.9331\n",
      "Epoch 160/200\n",
      "75/75 [==============================] - 0s 3ms/step - loss: 0.1666 - accuracy: 0.9348\n",
      "Epoch 161/200\n",
      "75/75 [==============================] - 0s 3ms/step - loss: 0.1659 - accuracy: 0.9398\n",
      "Epoch 162/200\n",
      "75/75 [==============================] - 0s 3ms/step - loss: 0.1730 - accuracy: 0.9381\n",
      "Epoch 163/200\n",
      "75/75 [==============================] - 0s 3ms/step - loss: 0.1732 - accuracy: 0.9398\n",
      "Epoch 164/200\n"
     ]
    },
    {
     "name": "stdout",
     "output_type": "stream",
     "text": [
      "75/75 [==============================] - 0s 3ms/step - loss: 0.1695 - accuracy: 0.9381\n",
      "Epoch 165/200\n",
      "75/75 [==============================] - 0s 3ms/step - loss: 0.1661 - accuracy: 0.9381\n",
      "Epoch 166/200\n",
      "75/75 [==============================] - 0s 3ms/step - loss: 0.1651 - accuracy: 0.9415\n",
      "Epoch 167/200\n",
      "75/75 [==============================] - 0s 3ms/step - loss: 0.1592 - accuracy: 0.9498\n",
      "Epoch 168/200\n",
      "75/75 [==============================] - 0s 3ms/step - loss: 0.1630 - accuracy: 0.9331\n",
      "Epoch 169/200\n",
      "75/75 [==============================] - 0s 3ms/step - loss: 0.1581 - accuracy: 0.9348\n",
      "Epoch 170/200\n",
      "75/75 [==============================] - 0s 3ms/step - loss: 0.1729 - accuracy: 0.9314\n",
      "Epoch 171/200\n",
      "75/75 [==============================] - 0s 3ms/step - loss: 0.1552 - accuracy: 0.9465\n",
      "Epoch 172/200\n",
      "75/75 [==============================] - 0s 3ms/step - loss: 0.1625 - accuracy: 0.9365\n",
      "Epoch 173/200\n",
      "75/75 [==============================] - 0s 3ms/step - loss: 0.1479 - accuracy: 0.9515\n",
      "Epoch 174/200\n",
      "75/75 [==============================] - 0s 4ms/step - loss: 0.1498 - accuracy: 0.9482\n",
      "Epoch 175/200\n",
      "75/75 [==============================] - 0s 3ms/step - loss: 0.1443 - accuracy: 0.9532\n",
      "Epoch 176/200\n",
      "75/75 [==============================] - 0s 3ms/step - loss: 0.1452 - accuracy: 0.9565\n",
      "Epoch 177/200\n",
      "75/75 [==============================] - 0s 3ms/step - loss: 0.1583 - accuracy: 0.9515\n",
      "Epoch 178/200\n",
      "75/75 [==============================] - 0s 3ms/step - loss: 0.1642 - accuracy: 0.9431\n",
      "Epoch 179/200\n",
      "75/75 [==============================] - 0s 4ms/step - loss: 0.1423 - accuracy: 0.9532\n",
      "Epoch 180/200\n",
      "75/75 [==============================] - 0s 3ms/step - loss: 0.1466 - accuracy: 0.9431\n",
      "Epoch 181/200\n",
      "75/75 [==============================] - 0s 3ms/step - loss: 0.1447 - accuracy: 0.9498\n",
      "Epoch 182/200\n",
      "75/75 [==============================] - 0s 3ms/step - loss: 0.1366 - accuracy: 0.9565\n",
      "Epoch 183/200\n",
      "75/75 [==============================] - 0s 5ms/step - loss: 0.1345 - accuracy: 0.9582\n",
      "Epoch 184/200\n",
      "75/75 [==============================] - 0s 3ms/step - loss: 0.1534 - accuracy: 0.9448\n",
      "Epoch 185/200\n",
      "75/75 [==============================] - 0s 3ms/step - loss: 0.1310 - accuracy: 0.9582\n",
      "Epoch 186/200\n",
      "75/75 [==============================] - 0s 3ms/step - loss: 0.1512 - accuracy: 0.9498\n",
      "Epoch 187/200\n",
      "75/75 [==============================] - 0s 3ms/step - loss: 0.1245 - accuracy: 0.9632\n",
      "Epoch 188/200\n",
      "75/75 [==============================] - 0s 3ms/step - loss: 0.1273 - accuracy: 0.9515\n",
      "Epoch 189/200\n",
      "75/75 [==============================] - 0s 3ms/step - loss: 0.1305 - accuracy: 0.9532\n",
      "Epoch 190/200\n",
      "75/75 [==============================] - 0s 3ms/step - loss: 0.1234 - accuracy: 0.9599\n",
      "Epoch 191/200\n",
      "75/75 [==============================] - 0s 3ms/step - loss: 0.1262 - accuracy: 0.9582\n",
      "Epoch 192/200\n",
      "75/75 [==============================] - 0s 3ms/step - loss: 0.1374 - accuracy: 0.9498\n",
      "Epoch 193/200\n",
      "75/75 [==============================] - 0s 3ms/step - loss: 0.1343 - accuracy: 0.9498\n",
      "Epoch 194/200\n",
      "75/75 [==============================] - 0s 3ms/step - loss: 0.1241 - accuracy: 0.9666\n",
      "Epoch 195/200\n",
      "75/75 [==============================] - 0s 3ms/step - loss: 0.1234 - accuracy: 0.9615\n",
      "Epoch 196/200\n",
      "75/75 [==============================] - 0s 3ms/step - loss: 0.1252 - accuracy: 0.9599\n",
      "Epoch 197/200\n",
      "75/75 [==============================] - 0s 3ms/step - loss: 0.1192 - accuracy: 0.9599\n",
      "Epoch 198/200\n",
      "75/75 [==============================] - 0s 3ms/step - loss: 0.1226 - accuracy: 0.9649\n",
      "Epoch 199/200\n",
      "75/75 [==============================] - 0s 3ms/step - loss: 0.1102 - accuracy: 0.9649\n",
      "Epoch 200/200\n",
      "75/75 [==============================] - 0s 2ms/step - loss: 0.1212 - accuracy: 0.9582\n"
     ]
    },
    {
     "data": {
      "text/plain": [
       "<keras.callbacks.History at 0x27736fa0fd0>"
      ]
     },
     "execution_count": 33,
     "metadata": {},
     "output_type": "execute_result"
    }
   ],
   "source": [
    "model.fit(X_train, y_train, batch_size=8, epochs=200)"
   ]
  },
  {
   "cell_type": "code",
   "execution_count": 37,
   "id": "61b09692",
   "metadata": {},
   "outputs": [],
   "source": [
    "# !pip install mlxtend #download necessary packages"
   ]
  },
  {
   "cell_type": "code",
   "execution_count": 58,
   "id": "1e4a8865",
   "metadata": {},
   "outputs": [
    {
     "name": "stdout",
     "output_type": "stream",
     "text": [
      "5/5 [==============================] - 0s 2ms/step\n"
     ]
    }
   ],
   "source": [
    "y_pred=model.predict(X_test)"
   ]
  },
  {
   "cell_type": "code",
   "execution_count": 59,
   "id": "3be9894f",
   "metadata": {},
   "outputs": [
    {
     "name": "stdout",
     "output_type": "stream",
     "text": [
      "[[9.99881089e-01]\n",
      " [7.47601851e-04]\n",
      " [9.43031549e-01]\n",
      " [7.17046142e-01]\n",
      " [9.89502847e-01]\n",
      " [1.24498144e-01]\n",
      " [9.97476220e-01]\n",
      " [6.93802722e-03]\n",
      " [3.50425005e-01]\n",
      " [9.99605954e-01]\n",
      " [1.19113281e-01]\n",
      " [9.66794431e-01]\n",
      " [9.99765873e-01]\n",
      " [9.67118740e-01]\n",
      " [9.99769926e-01]\n",
      " [2.35984474e-03]\n",
      " [3.82380784e-02]\n",
      " [7.65854895e-01]\n",
      " [3.82924937e-02]\n",
      " [1.45210661e-02]\n",
      " [8.14138174e-01]\n",
      " [5.60116780e-04]\n",
      " [9.28311348e-01]\n",
      " [4.35784161e-01]\n",
      " [9.97812271e-01]\n",
      " [9.95750368e-01]\n",
      " [9.89824653e-01]\n",
      " [1.38073519e-01]\n",
      " [5.53647578e-01]\n",
      " [8.04929912e-01]\n",
      " [2.09315084e-02]\n",
      " [7.51349688e-01]\n",
      " [8.99084210e-01]\n",
      " [5.29846177e-02]\n",
      " [2.19898954e-01]\n",
      " [9.98760223e-01]\n",
      " [9.95595276e-01]\n",
      " [1.60047293e-01]\n",
      " [7.84335971e-01]\n",
      " [9.98820186e-01]\n",
      " [5.59226833e-02]\n",
      " [9.89912570e-01]\n",
      " [7.50278711e-01]\n",
      " [9.81381893e-01]\n",
      " [8.99536163e-02]\n",
      " [9.96913493e-01]\n",
      " [2.37079769e-01]\n",
      " [1.21524499e-04]\n",
      " [3.54501158e-02]\n",
      " [9.66344059e-01]\n",
      " [2.18908325e-01]\n",
      " [7.24623740e-01]\n",
      " [3.95712376e-01]\n",
      " [8.29443634e-01]\n",
      " [3.37158702e-03]\n",
      " [9.67699468e-01]\n",
      " [9.83221903e-02]\n",
      " [9.94518325e-02]\n",
      " [7.78678199e-03]\n",
      " [3.11189473e-01]\n",
      " [9.44769025e-01]\n",
      " [9.99842823e-01]\n",
      " [4.33688074e-05]\n",
      " [1.83324013e-02]\n",
      " [5.96784121e-05]\n",
      " [2.86761999e-01]\n",
      " [9.22795594e-01]\n",
      " [9.34584677e-01]\n",
      " [6.29140362e-02]\n",
      " [8.73311460e-01]\n",
      " [8.73615205e-01]\n",
      " [2.43316770e-01]\n",
      " [3.47914803e-03]\n",
      " [5.05781285e-02]\n",
      " [9.75052655e-01]\n",
      " [6.47682488e-01]\n",
      " [4.97876527e-03]\n",
      " [2.20326129e-02]\n",
      " [9.74789858e-01]\n",
      " [1.66845307e-01]\n",
      " [3.38553041e-01]\n",
      " [9.83631492e-01]\n",
      " [7.34420896e-01]\n",
      " [4.55162704e-01]\n",
      " [7.81539083e-01]\n",
      " [2.62047648e-01]\n",
      " [9.91006970e-01]\n",
      " [2.83414215e-01]\n",
      " [7.65492022e-01]\n",
      " [6.08246505e-01]\n",
      " [6.82962546e-03]\n",
      " [6.00331783e-01]\n",
      " [9.65836551e-03]\n",
      " [9.99791145e-01]\n",
      " [9.92532730e-01]\n",
      " [4.11592424e-01]\n",
      " [8.47855508e-02]\n",
      " [9.98373151e-01]\n",
      " [9.92531717e-01]\n",
      " [7.35248566e-01]\n",
      " [8.15063000e-01]\n",
      " [9.97994840e-01]\n",
      " [9.94604290e-01]\n",
      " [6.41809165e-01]\n",
      " [4.60351765e-01]\n",
      " [1.75869599e-01]\n",
      " [8.50341976e-01]\n",
      " [7.46294856e-01]\n",
      " [3.72947752e-02]\n",
      " [2.05790112e-03]\n",
      " [1.11697875e-01]\n",
      " [9.06755805e-01]\n",
      " [1.54986739e-01]\n",
      " [4.48520303e-01]\n",
      " [9.50898826e-01]\n",
      " [9.85216677e-01]\n",
      " [1.24827237e-03]\n",
      " [1.03483468e-01]\n",
      " [6.60576997e-03]\n",
      " [2.03745067e-02]\n",
      " [1.18676228e-02]\n",
      " [9.99899745e-01]\n",
      " [3.68361128e-04]\n",
      " [2.93878950e-02]\n",
      " [8.12817395e-01]\n",
      " [9.30195391e-01]\n",
      " [9.52005684e-01]\n",
      " [9.60106552e-01]\n",
      " [9.94588673e-01]\n",
      " [1.65322900e-03]\n",
      " [1.08369030e-01]\n",
      " [9.97110963e-01]\n",
      " [6.27164602e-01]\n",
      " [1.02563873e-02]\n",
      " [5.15271276e-02]\n",
      " [9.95638430e-01]\n",
      " [7.47212827e-01]\n",
      " [9.91033733e-01]\n",
      " [3.70147079e-01]\n",
      " [9.30876970e-01]\n",
      " [5.90672977e-02]\n",
      " [6.89992085e-02]\n",
      " [9.65768039e-01]\n",
      " [7.89273938e-04]\n",
      " [9.42372501e-01]\n",
      " [1.52371684e-03]\n",
      " [1.62685275e-01]\n",
      " [7.59883493e-04]\n",
      " [1.81308074e-03]\n",
      " [7.12100029e-01]]\n"
     ]
    }
   ],
   "source": [
    "print(y_pred)"
   ]
  },
  {
   "cell_type": "code",
   "execution_count": 51,
   "id": "0168c061",
   "metadata": {},
   "outputs": [],
   "source": [
    "y_pred=np.where(y_pred > 0.6, 1,0)"
   ]
  },
  {
   "cell_type": "code",
   "execution_count": 52,
   "id": "d4fc82d0",
   "metadata": {},
   "outputs": [
    {
     "name": "stdout",
     "output_type": "stream",
     "text": [
      "[[55 18]\n",
      " [19 58]]\n"
     ]
    }
   ],
   "source": [
    "print(confusion_matrix(y_test,y_pred))"
   ]
  },
  {
   "cell_type": "code",
   "execution_count": 54,
   "id": "b291eba9",
   "metadata": {},
   "outputs": [
    {
     "data": {
      "text/plain": [
       "(<Figure size 432x288 with 1 Axes>,\n",
       " <AxesSubplot:xlabel='predicted label', ylabel='true label'>)"
      ]
     },
     "execution_count": 54,
     "metadata": {},
     "output_type": "execute_result"
    },
    {
     "data": {
      "image/png": "[encoded data removed]",
      "text/plain": [
       "<Figure size 432x288 with 1 Axes>"
      ]
     },
     "metadata": {
      "needs_background": "light"
     },
     "output_type": "display_data"
    }
   ],
   "source": [
    "from mlxtend.plotting import plot_confusion_matrix\n",
    "plot_confusion_matrix(confusion_matrix(y_test,y_pred))"
   ]
  },
  {
   "cell_type": "code",
   "execution_count": 55,
   "id": "dbd9e1be",
   "metadata": {},
   "outputs": [
    {
     "name": "stdout",
     "output_type": "stream",
     "text": [
      "              precision    recall  f1-score   support\n",
      "\n",
      "           0       0.74      0.75      0.75        73\n",
      "           1       0.76      0.75      0.76        77\n",
      "\n",
      "    accuracy                           0.75       150\n",
      "   macro avg       0.75      0.75      0.75       150\n",
      "weighted avg       0.75      0.75      0.75       150\n",
      "\n"
     ]
    }
   ],
   "source": [
    "print(classification_report(y_test, y_pred))"
   ]
  },
  {
   "cell_type": "markdown",
   "id": "33f42442",
   "metadata": {},
   "source": [
    "#### Define different thresholds"
   ]
  },
  {
   "cell_type": "code",
   "execution_count": 56,
   "id": "0cc666ca",
   "metadata": {},
   "outputs": [],
   "source": [
    "from sklearn.metrics import precision_score, recall_score"
   ]
  },
  {
   "cell_type": "code",
   "execution_count": 60,
   "id": "05729312",
   "metadata": {},
   "outputs": [
    {
     "name": "stdout",
     "output_type": "stream",
     "text": [
      "5/5 [==============================] - 0s 2ms/step\n",
      "0.3 -->> 0.7471264367816092 0.8441558441558441\n",
      "0.35 -->> 0.7529411764705882 0.8311688311688312\n",
      "0.4 -->> 0.7560975609756098 0.8051948051948052\n",
      "0.45 -->> 0.7468354430379747 0.7662337662337663\n",
      "0.5 -->> 0.7532467532467533 0.7532467532467533\n",
      "0.55 -->> 0.7532467532467533 0.7532467532467533\n",
      "0.6 -->> 0.7631578947368421 0.7532467532467533\n",
      "0.65 -->> 0.7464788732394366 0.6883116883116883\n",
      "0.7 -->> 0.7464788732394366 0.6883116883116883\n",
      "0.75 -->> 0.78125 0.6493506493506493\n"
     ]
    }
   ],
   "source": [
    "y_pred=model.predict(X_test)\n",
    "for i in [0.30, 0.35, 0.40, 0.45, 0.50, 0.55, 0.60, 0.65, 0.70, 0.75]:\n",
    "  classes = [1 if val>i else 0 for val in y_pred]\n",
    "  print(i, \"-->>\", precision_score(y_test, classes), recall_score(y_test, classes))"
   ]
  },
  {
   "cell_type": "code",
   "execution_count": 61,
   "id": "6e797ce7",
   "metadata": {},
   "outputs": [],
   "source": [
    "classes = [1 if val>0.55 else 0 for val in y_pred]"
   ]
  },
  {
   "cell_type": "code",
   "execution_count": 62,
   "id": "c1aef376",
   "metadata": {},
   "outputs": [
    {
     "data": {
      "image/png": "[encoded data removed]",
      "text/plain": [
       "<Figure size 432x288 with 1 Axes>"
      ]
     },
     "metadata": {
      "needs_background": "light"
     },
     "output_type": "display_data"
    }
   ],
   "source": [
    "plot_confusion_matrix(confusion_matrix(y_test, classes))\n",
    "plt.show()"
   ]
  },
  {
   "cell_type": "markdown",
   "id": "aad94bf2",
   "metadata": {},
   "source": [
    "#### 1D CNN model"
   ]
  },
  {
   "cell_type": "code",
   "execution_count": 67,
   "id": "35f6beaa",
   "metadata": {},
   "outputs": [],
   "source": [
    "from tensorflow.keras import Sequential\n",
    "from tensorflow.keras.layers import Flatten, Dense, Conv1D, BatchNormalization, Dropout, SpatialDropout1D"
   ]
  },
  {
   "cell_type": "code",
   "execution_count": 64,
   "id": "0a901e00",
   "metadata": {},
   "outputs": [
    {
     "data": {
      "text/plain": [
       "(598, 300)"
      ]
     },
     "execution_count": 64,
     "metadata": {},
     "output_type": "execute_result"
    }
   ],
   "source": [
    "X_train.shape"
   ]
  },
  {
   "cell_type": "code",
   "execution_count": 65,
   "id": "9bc7c8df",
   "metadata": {},
   "outputs": [
    {
     "data": {
      "text/plain": [
       "((598, 300, 1), (150, 300, 1))"
      ]
     },
     "execution_count": 65,
     "metadata": {},
     "output_type": "execute_result"
    }
   ],
   "source": [
    "X_train=X_train.reshape(X_train.shape[0],X_train.shape[1],1) # ow it's 2D, first one is batch size \n",
    "X_test=X_test.reshape(X_test.shape[0],X_test.shape[1],1) # now it's 2D, first one is batch size\n",
    "X_train.shape, X_test.shape"
   ]
  },
  {
   "cell_type": "code",
   "execution_count": 66,
   "id": "9c923237",
   "metadata": {},
   "outputs": [
    {
     "data": {
      "text/plain": [
       "(300, 1)"
      ]
     },
     "execution_count": 66,
     "metadata": {},
     "output_type": "execute_result"
    }
   ],
   "source": [
    "X_train[0].shape"
   ]
  },
  {
   "cell_type": "code",
   "execution_count": 69,
   "id": "052897c8",
   "metadata": {},
   "outputs": [
    {
     "name": "stdout",
     "output_type": "stream",
     "text": [
      "Model: \"sequential_2\"\n",
      "_________________________________________________________________\n",
      " Layer (type)                Output Shape              Param #   \n",
      "=================================================================\n",
      " conv1d_1 (Conv1D)           (None, 299, 32)           96        \n",
      "                                                                 \n",
      " batch_normalization_1 (Batc  (None, 299, 32)          128       \n",
      " hNormalization)                                                 \n",
      "                                                                 \n",
      " dropout (Dropout)           (None, 299, 32)           0         \n",
      "                                                                 \n",
      " flatten_1 (Flatten)         (None, 9568)              0         \n",
      "                                                                 \n",
      " dense_5 (Dense)             (None, 64)                612416    \n",
      "                                                                 \n",
      " dropout_1 (Dropout)         (None, 64)                0         \n",
      "                                                                 \n",
      " dense_6 (Dense)             (None, 1)                 65        \n",
      "                                                                 \n",
      "=================================================================\n",
      "Total params: 612,705\n",
      "Trainable params: 612,641\n",
      "Non-trainable params: 64\n",
      "_________________________________________________________________\n"
     ]
    }
   ],
   "source": [
    "model=Sequential()\n",
    "model.add(Conv1D(32,2,activation=\"relu\",input_shape=X_train[0].shape))\n",
    "model.add(BatchNormalization()) # set data between 0-1\n",
    "model.add(Dropout(0.2))\n",
    "\n",
    "model.add(Flatten())\n",
    "model.add(Dense(64,activation=\"relu\"))\n",
    "model.add(Dropout(0.3))\n",
    "model.add(Dense(1,activation=\"sigmoid\"))\n",
    "\n",
    "model.summary()"
   ]
  },
  {
   "cell_type": "code",
   "execution_count": 72,
   "id": "ac16874f",
   "metadata": {},
   "outputs": [
    {
     "name": "stdout",
     "output_type": "stream",
     "text": [
      "Epoch 1/100\n",
      "19/19 [==============================] - 2s 59ms/step - loss: 0.7558 - accuracy: 0.5084 - val_loss: 0.6931 - val_accuracy: 0.4933\n",
      "Epoch 2/100\n",
      "19/19 [==============================] - 1s 33ms/step - loss: 0.6894 - accuracy: 0.5870 - val_loss: 0.6916 - val_accuracy: 0.5067\n",
      "Epoch 3/100\n",
      "19/19 [==============================] - 1s 32ms/step - loss: 0.6804 - accuracy: 0.5936 - val_loss: 0.6900 - val_accuracy: 0.5600\n",
      "Epoch 4/100\n",
      "19/19 [==============================] - 1s 42ms/step - loss: 0.6542 - accuracy: 0.6271 - val_loss: 0.6885 - val_accuracy: 0.6133\n",
      "Epoch 5/100\n",
      "19/19 [==============================] - 1s 31ms/step - loss: 0.6318 - accuracy: 0.6355 - val_loss: 0.6868 - val_accuracy: 0.6467\n",
      "Epoch 6/100\n",
      "19/19 [==============================] - 1s 28ms/step - loss: 0.6234 - accuracy: 0.6555 - val_loss: 0.6851 - val_accuracy: 0.6133\n",
      "Epoch 7/100\n",
      "19/19 [==============================] - 1s 38ms/step - loss: 0.6008 - accuracy: 0.6823 - val_loss: 0.6830 - val_accuracy: 0.6400\n",
      "Epoch 8/100\n",
      "19/19 [==============================] - 1s 42ms/step - loss: 0.5680 - accuracy: 0.7291 - val_loss: 0.6805 - val_accuracy: 0.6333\n",
      "Epoch 9/100\n",
      "19/19 [==============================] - 1s 33ms/step - loss: 0.5829 - accuracy: 0.7107 - val_loss: 0.6777 - val_accuracy: 0.6333\n",
      "Epoch 10/100\n",
      "19/19 [==============================] - 1s 29ms/step - loss: 0.5833 - accuracy: 0.6890 - val_loss: 0.6746 - val_accuracy: 0.6467\n",
      "Epoch 11/100\n",
      "19/19 [==============================] - 1s 30ms/step - loss: 0.5511 - accuracy: 0.7291 - val_loss: 0.6713 - val_accuracy: 0.6533\n",
      "Epoch 12/100\n",
      "19/19 [==============================] - 1s 29ms/step - loss: 0.5449 - accuracy: 0.7107 - val_loss: 0.6676 - val_accuracy: 0.6867\n",
      "Epoch 13/100\n",
      "19/19 [==============================] - 1s 29ms/step - loss: 0.5209 - accuracy: 0.7642 - val_loss: 0.6632 - val_accuracy: 0.6933\n",
      "Epoch 14/100\n",
      "19/19 [==============================] - 1s 29ms/step - loss: 0.5123 - accuracy: 0.7575 - val_loss: 0.6589 - val_accuracy: 0.7133\n",
      "Epoch 15/100\n",
      "19/19 [==============================] - 1s 28ms/step - loss: 0.5126 - accuracy: 0.7575 - val_loss: 0.6537 - val_accuracy: 0.7200\n",
      "Epoch 16/100\n",
      "19/19 [==============================] - 1s 30ms/step - loss: 0.5240 - accuracy: 0.7375 - val_loss: 0.6485 - val_accuracy: 0.7000\n",
      "Epoch 17/100\n",
      "19/19 [==============================] - 1s 29ms/step - loss: 0.4850 - accuracy: 0.7893 - val_loss: 0.6434 - val_accuracy: 0.7267\n",
      "Epoch 18/100\n",
      "19/19 [==============================] - 1s 33ms/step - loss: 0.5011 - accuracy: 0.7742 - val_loss: 0.6368 - val_accuracy: 0.7200\n",
      "Epoch 19/100\n",
      "19/19 [==============================] - 1s 29ms/step - loss: 0.4884 - accuracy: 0.7876 - val_loss: 0.6305 - val_accuracy: 0.7200\n",
      "Epoch 20/100\n",
      "19/19 [==============================] - 1s 28ms/step - loss: 0.4744 - accuracy: 0.7876 - val_loss: 0.6238 - val_accuracy: 0.7000\n",
      "Epoch 21/100\n",
      "19/19 [==============================] - 1s 28ms/step - loss: 0.4834 - accuracy: 0.7759 - val_loss: 0.6172 - val_accuracy: 0.7267\n",
      "Epoch 22/100\n",
      "19/19 [==============================] - 1s 28ms/step - loss: 0.4501 - accuracy: 0.8177 - val_loss: 0.6106 - val_accuracy: 0.7067\n",
      "Epoch 23/100\n",
      "19/19 [==============================] - 1s 29ms/step - loss: 0.4681 - accuracy: 0.7793 - val_loss: 0.6028 - val_accuracy: 0.7400\n",
      "Epoch 24/100\n",
      "19/19 [==============================] - 1s 27ms/step - loss: 0.4597 - accuracy: 0.8010 - val_loss: 0.5956 - val_accuracy: 0.7333\n",
      "Epoch 25/100\n",
      "19/19 [==============================] - 1s 28ms/step - loss: 0.4528 - accuracy: 0.7910 - val_loss: 0.5896 - val_accuracy: 0.7200\n",
      "Epoch 26/100\n",
      "19/19 [==============================] - 1s 29ms/step - loss: 0.4412 - accuracy: 0.8010 - val_loss: 0.5829 - val_accuracy: 0.7200\n",
      "Epoch 27/100\n",
      "19/19 [==============================] - 1s 29ms/step - loss: 0.4427 - accuracy: 0.7943 - val_loss: 0.5767 - val_accuracy: 0.7067\n",
      "Epoch 28/100\n",
      "19/19 [==============================] - 1s 28ms/step - loss: 0.4230 - accuracy: 0.8144 - val_loss: 0.5711 - val_accuracy: 0.7267\n",
      "Epoch 29/100\n",
      "19/19 [==============================] - 1s 29ms/step - loss: 0.4551 - accuracy: 0.7659 - val_loss: 0.5672 - val_accuracy: 0.7133\n",
      "Epoch 30/100\n",
      "19/19 [==============================] - 1s 28ms/step - loss: 0.4288 - accuracy: 0.8110 - val_loss: 0.5628 - val_accuracy: 0.7333\n",
      "Epoch 31/100\n",
      "19/19 [==============================] - 1s 29ms/step - loss: 0.4245 - accuracy: 0.8244 - val_loss: 0.5595 - val_accuracy: 0.7133\n",
      "Epoch 32/100\n",
      "19/19 [==============================] - 1s 30ms/step - loss: 0.4028 - accuracy: 0.8278 - val_loss: 0.5566 - val_accuracy: 0.7333\n",
      "Epoch 33/100\n",
      "19/19 [==============================] - 1s 31ms/step - loss: 0.3945 - accuracy: 0.8244 - val_loss: 0.5513 - val_accuracy: 0.7133\n",
      "Epoch 34/100\n",
      "19/19 [==============================] - 1s 29ms/step - loss: 0.4099 - accuracy: 0.8244 - val_loss: 0.5482 - val_accuracy: 0.7133\n",
      "Epoch 35/100\n",
      "19/19 [==============================] - 1s 29ms/step - loss: 0.4122 - accuracy: 0.8110 - val_loss: 0.5447 - val_accuracy: 0.7267\n",
      "Epoch 36/100\n",
      "19/19 [==============================] - 1s 30ms/step - loss: 0.4022 - accuracy: 0.8244 - val_loss: 0.5412 - val_accuracy: 0.7200\n",
      "Epoch 37/100\n",
      "19/19 [==============================] - 1s 28ms/step - loss: 0.3983 - accuracy: 0.8177 - val_loss: 0.5389 - val_accuracy: 0.7267\n",
      "Epoch 38/100\n",
      "19/19 [==============================] - 1s 28ms/step - loss: 0.3799 - accuracy: 0.8395 - val_loss: 0.5375 - val_accuracy: 0.7333\n",
      "Epoch 39/100\n",
      "19/19 [==============================] - 1s 29ms/step - loss: 0.4030 - accuracy: 0.8278 - val_loss: 0.5383 - val_accuracy: 0.7400\n",
      "Epoch 40/100\n",
      "19/19 [==============================] - 1s 29ms/step - loss: 0.3868 - accuracy: 0.8211 - val_loss: 0.5395 - val_accuracy: 0.7333\n",
      "Epoch 41/100\n",
      "19/19 [==============================] - 1s 29ms/step - loss: 0.3796 - accuracy: 0.8478 - val_loss: 0.5360 - val_accuracy: 0.7333\n",
      "Epoch 42/100\n",
      "19/19 [==============================] - 1s 29ms/step - loss: 0.3981 - accuracy: 0.8261 - val_loss: 0.5357 - val_accuracy: 0.7133\n",
      "Epoch 43/100\n",
      "19/19 [==============================] - 1s 31ms/step - loss: 0.3904 - accuracy: 0.8244 - val_loss: 0.5342 - val_accuracy: 0.7333\n",
      "Epoch 44/100\n",
      "19/19 [==============================] - 1s 32ms/step - loss: 0.3872 - accuracy: 0.8328 - val_loss: 0.5345 - val_accuracy: 0.7267\n",
      "Epoch 45/100\n",
      "19/19 [==============================] - 1s 28ms/step - loss: 0.3917 - accuracy: 0.8311 - val_loss: 0.5350 - val_accuracy: 0.7200\n",
      "Epoch 46/100\n",
      "19/19 [==============================] - 1s 29ms/step - loss: 0.3801 - accuracy: 0.8395 - val_loss: 0.5312 - val_accuracy: 0.7200\n",
      "Epoch 47/100\n",
      "19/19 [==============================] - 1s 29ms/step - loss: 0.3615 - accuracy: 0.8512 - val_loss: 0.5312 - val_accuracy: 0.7200\n",
      "Epoch 48/100\n",
      "19/19 [==============================] - 1s 29ms/step - loss: 0.3616 - accuracy: 0.8528 - val_loss: 0.5315 - val_accuracy: 0.7200\n",
      "Epoch 49/100\n",
      "19/19 [==============================] - 1s 29ms/step - loss: 0.3714 - accuracy: 0.8495 - val_loss: 0.5327 - val_accuracy: 0.7067\n",
      "Epoch 50/100\n",
      "19/19 [==============================] - 1s 29ms/step - loss: 0.3642 - accuracy: 0.8395 - val_loss: 0.5315 - val_accuracy: 0.7133\n",
      "Epoch 51/100\n",
      "19/19 [==============================] - 1s 28ms/step - loss: 0.3646 - accuracy: 0.8395 - val_loss: 0.5296 - val_accuracy: 0.7133\n",
      "Epoch 52/100\n",
      "19/19 [==============================] - 1s 29ms/step - loss: 0.3537 - accuracy: 0.8629 - val_loss: 0.5306 - val_accuracy: 0.7067\n",
      "Epoch 53/100\n",
      "19/19 [==============================] - 1s 28ms/step - loss: 0.3549 - accuracy: 0.8462 - val_loss: 0.5287 - val_accuracy: 0.7267\n",
      "Epoch 54/100\n",
      "19/19 [==============================] - 1s 29ms/step - loss: 0.3423 - accuracy: 0.8712 - val_loss: 0.5298 - val_accuracy: 0.7067\n",
      "Epoch 55/100\n",
      "19/19 [==============================] - 1s 28ms/step - loss: 0.3466 - accuracy: 0.8512 - val_loss: 0.5285 - val_accuracy: 0.7000\n",
      "Epoch 56/100\n",
      "19/19 [==============================] - 1s 31ms/step - loss: 0.3460 - accuracy: 0.8579 - val_loss: 0.5322 - val_accuracy: 0.7000\n",
      "Epoch 57/100\n",
      "19/19 [==============================] - 1s 30ms/step - loss: 0.3447 - accuracy: 0.8595 - val_loss: 0.5335 - val_accuracy: 0.7200\n",
      "Epoch 58/100\n"
     ]
    },
    {
     "name": "stdout",
     "output_type": "stream",
     "text": [
      "19/19 [==============================] - 0s 26ms/step - loss: 0.3562 - accuracy: 0.8528 - val_loss: 0.5338 - val_accuracy: 0.7067\n",
      "Epoch 59/100\n",
      "19/19 [==============================] - 0s 25ms/step - loss: 0.3529 - accuracy: 0.8462 - val_loss: 0.5325 - val_accuracy: 0.7133\n",
      "Epoch 60/100\n",
      "19/19 [==============================] - 1s 32ms/step - loss: 0.3428 - accuracy: 0.8512 - val_loss: 0.5319 - val_accuracy: 0.7133\n",
      "Epoch 61/100\n",
      "19/19 [==============================] - 1s 36ms/step - loss: 0.3270 - accuracy: 0.8629 - val_loss: 0.5319 - val_accuracy: 0.7000\n",
      "Epoch 62/100\n",
      "19/19 [==============================] - 1s 53ms/step - loss: 0.3136 - accuracy: 0.8746 - val_loss: 0.5335 - val_accuracy: 0.7200\n",
      "Epoch 63/100\n",
      "19/19 [==============================] - 1s 58ms/step - loss: 0.3447 - accuracy: 0.8645 - val_loss: 0.5322 - val_accuracy: 0.7200\n",
      "Epoch 64/100\n",
      "19/19 [==============================] - 1s 52ms/step - loss: 0.3331 - accuracy: 0.8662 - val_loss: 0.5321 - val_accuracy: 0.7200\n",
      "Epoch 65/100\n",
      "19/19 [==============================] - 1s 42ms/step - loss: 0.3402 - accuracy: 0.8495 - val_loss: 0.5312 - val_accuracy: 0.7067\n",
      "Epoch 66/100\n",
      "19/19 [==============================] - 1s 33ms/step - loss: 0.3146 - accuracy: 0.8846 - val_loss: 0.5291 - val_accuracy: 0.7200\n",
      "Epoch 67/100\n",
      "19/19 [==============================] - 1s 35ms/step - loss: 0.3296 - accuracy: 0.8763 - val_loss: 0.5263 - val_accuracy: 0.7133\n",
      "Epoch 68/100\n",
      "19/19 [==============================] - 1s 46ms/step - loss: 0.3144 - accuracy: 0.8813 - val_loss: 0.5267 - val_accuracy: 0.7200\n",
      "Epoch 69/100\n",
      "19/19 [==============================] - 1s 42ms/step - loss: 0.3312 - accuracy: 0.8729 - val_loss: 0.5256 - val_accuracy: 0.7133\n",
      "Epoch 70/100\n",
      "19/19 [==============================] - 1s 43ms/step - loss: 0.2957 - accuracy: 0.8829 - val_loss: 0.5292 - val_accuracy: 0.7267\n",
      "Epoch 71/100\n",
      "19/19 [==============================] - 1s 36ms/step - loss: 0.3162 - accuracy: 0.8729 - val_loss: 0.5286 - val_accuracy: 0.7133\n",
      "Epoch 72/100\n",
      "19/19 [==============================] - 1s 36ms/step - loss: 0.3125 - accuracy: 0.8679 - val_loss: 0.5304 - val_accuracy: 0.7200\n",
      "Epoch 73/100\n",
      "19/19 [==============================] - 1s 43ms/step - loss: 0.2932 - accuracy: 0.8880 - val_loss: 0.5302 - val_accuracy: 0.7200\n",
      "Epoch 74/100\n",
      "19/19 [==============================] - 1s 30ms/step - loss: 0.3135 - accuracy: 0.8746 - val_loss: 0.5277 - val_accuracy: 0.7200\n",
      "Epoch 75/100\n",
      "19/19 [==============================] - 1s 48ms/step - loss: 0.3231 - accuracy: 0.8813 - val_loss: 0.5282 - val_accuracy: 0.7267\n",
      "Epoch 76/100\n",
      "19/19 [==============================] - 1s 33ms/step - loss: 0.3263 - accuracy: 0.8629 - val_loss: 0.5289 - val_accuracy: 0.7200\n",
      "Epoch 77/100\n",
      "19/19 [==============================] - 1s 37ms/step - loss: 0.3198 - accuracy: 0.8712 - val_loss: 0.5285 - val_accuracy: 0.7133\n",
      "Epoch 78/100\n",
      "19/19 [==============================] - 1s 32ms/step - loss: 0.3077 - accuracy: 0.8796 - val_loss: 0.5279 - val_accuracy: 0.7133\n",
      "Epoch 79/100\n",
      "19/19 [==============================] - 0s 27ms/step - loss: 0.3098 - accuracy: 0.8846 - val_loss: 0.5312 - val_accuracy: 0.7133\n",
      "Epoch 80/100\n",
      "19/19 [==============================] - 1s 32ms/step - loss: 0.3004 - accuracy: 0.8846 - val_loss: 0.5299 - val_accuracy: 0.7333\n",
      "Epoch 81/100\n",
      "19/19 [==============================] - 1s 36ms/step - loss: 0.3015 - accuracy: 0.8829 - val_loss: 0.5314 - val_accuracy: 0.7267\n",
      "Epoch 82/100\n",
      "19/19 [==============================] - 1s 34ms/step - loss: 0.2855 - accuracy: 0.8863 - val_loss: 0.5326 - val_accuracy: 0.7067\n",
      "Epoch 83/100\n",
      "19/19 [==============================] - 1s 29ms/step - loss: 0.3029 - accuracy: 0.8796 - val_loss: 0.5301 - val_accuracy: 0.7200\n",
      "Epoch 84/100\n",
      "19/19 [==============================] - 0s 26ms/step - loss: 0.2938 - accuracy: 0.8779 - val_loss: 0.5294 - val_accuracy: 0.7200\n",
      "Epoch 85/100\n",
      "19/19 [==============================] - 0s 25ms/step - loss: 0.2972 - accuracy: 0.8796 - val_loss: 0.5283 - val_accuracy: 0.7400\n",
      "Epoch 86/100\n",
      "19/19 [==============================] - 1s 29ms/step - loss: 0.2953 - accuracy: 0.8829 - val_loss: 0.5290 - val_accuracy: 0.7200\n",
      "Epoch 87/100\n",
      "19/19 [==============================] - 1s 30ms/step - loss: 0.2928 - accuracy: 0.8779 - val_loss: 0.5272 - val_accuracy: 0.7333\n",
      "Epoch 88/100\n",
      "19/19 [==============================] - 1s 27ms/step - loss: 0.2967 - accuracy: 0.8846 - val_loss: 0.5281 - val_accuracy: 0.7267\n",
      "Epoch 89/100\n",
      "19/19 [==============================] - 0s 26ms/step - loss: 0.3024 - accuracy: 0.8880 - val_loss: 0.5310 - val_accuracy: 0.7400\n",
      "Epoch 90/100\n",
      "19/19 [==============================] - 0s 26ms/step - loss: 0.2977 - accuracy: 0.8746 - val_loss: 0.5284 - val_accuracy: 0.7267\n",
      "Epoch 91/100\n",
      "19/19 [==============================] - 0s 26ms/step - loss: 0.3000 - accuracy: 0.8763 - val_loss: 0.5299 - val_accuracy: 0.7333\n",
      "Epoch 92/100\n",
      "19/19 [==============================] - 1s 27ms/step - loss: 0.2856 - accuracy: 0.8963 - val_loss: 0.5270 - val_accuracy: 0.7400\n",
      "Epoch 93/100\n",
      "19/19 [==============================] - 0s 26ms/step - loss: 0.2799 - accuracy: 0.9047 - val_loss: 0.5295 - val_accuracy: 0.7333\n",
      "Epoch 94/100\n",
      "19/19 [==============================] - 1s 27ms/step - loss: 0.2946 - accuracy: 0.8746 - val_loss: 0.5283 - val_accuracy: 0.7400\n",
      "Epoch 95/100\n",
      "19/19 [==============================] - 0s 25ms/step - loss: 0.2902 - accuracy: 0.8880 - val_loss: 0.5292 - val_accuracy: 0.7333\n",
      "Epoch 96/100\n",
      "19/19 [==============================] - 0s 26ms/step - loss: 0.2642 - accuracy: 0.9080 - val_loss: 0.5294 - val_accuracy: 0.7333\n",
      "Epoch 97/100\n",
      "19/19 [==============================] - 1s 29ms/step - loss: 0.2766 - accuracy: 0.8997 - val_loss: 0.5283 - val_accuracy: 0.7400\n",
      "Epoch 98/100\n",
      "19/19 [==============================] - 0s 26ms/step - loss: 0.2883 - accuracy: 0.8913 - val_loss: 0.5256 - val_accuracy: 0.7467\n",
      "Epoch 99/100\n",
      "19/19 [==============================] - 1s 27ms/step - loss: 0.2886 - accuracy: 0.8880 - val_loss: 0.5252 - val_accuracy: 0.7400\n",
      "Epoch 100/100\n",
      "19/19 [==============================] - 0s 25ms/step - loss: 0.2787 - accuracy: 0.8863 - val_loss: 0.5301 - val_accuracy: 0.7400\n"
     ]
    }
   ],
   "source": [
    "epochs=100\n",
    "model.compile(optimizer=Adam(learning_rate=0.00001),loss=\"binary_crossentropy\",metrics=[\"accuracy\"])\n",
    "history=model.fit(X_train,y_train,epochs=epochs,validation_data=(X_test,y_test))"
   ]
  },
  {
   "cell_type": "code",
   "execution_count": 76,
   "id": "75c3f52e",
   "metadata": {},
   "outputs": [
    {
     "data": {
      "text/plain": [
       "dict_keys(['loss', 'accuracy', 'val_loss', 'val_accuracy'])"
      ]
     },
     "execution_count": 76,
     "metadata": {},
     "output_type": "execute_result"
    }
   ],
   "source": [
    "history.history.keys()"
   ]
  },
  {
   "cell_type": "code",
   "execution_count": 77,
   "id": "ffcf352e",
   "metadata": {},
   "outputs": [],
   "source": [
    "def plot_history(history,epoch):\n",
    "    epoch_range=range(1,epoch+1)\n",
    "    plt.plot(epoch_range,history.history['accuracy'])\n",
    "    plt.plot(epoch_range,history.history['val_accuracy'])\n",
    "    plt.title(\"Model Accuracy\")\n",
    "    plt.ylabel('Accuracy')\n",
    "    plt.xlabel('Epoch')\n",
    "    plt.legend(['Train', 'Val'], loc='upper right')\n",
    "    plt.show()\n",
    "    \n",
    "    # Plot training & validation loss values\n",
    "    plt.plot(epoch_range, history.history['loss'])\n",
    "    plt.plot(epoch_range, history.history['val_loss'])\n",
    "    plt.title('Model loss')\n",
    "    plt.ylabel('Loss')\n",
    "    plt.xlabel('Epoch')\n",
    "    plt.legend(['Train', 'Val'], loc='upper left')\n",
    "    plt.show()"
   ]
  },
  {
   "cell_type": "code",
   "execution_count": 78,
   "id": "a438425d",
   "metadata": {},
   "outputs": [
    {
     "data": {
      "image/png": "[encoded data removed]",
      "text/plain": [
       "<Figure size 432x288 with 1 Axes>"
      ]
     },
     "metadata": {
      "needs_background": "light"
     },
     "output_type": "display_data"
    },
    {
     "data": {
      "image/png": "[encoded data removed]",
      "text/plain": [
       "<Figure size 432x288 with 1 Axes>"
      ]
     },
     "metadata": {
      "needs_background": "light"
     },
     "output_type": "display_data"
    }
   ],
   "source": [
    "plot_history(history,epochs)\n",
    "# we have low data less than one thousand"
   ]
  },
  {
   "cell_type": "markdown",
   "id": "638e03c8",
   "metadata": {},
   "source": [
    "#### Save, load, store, and test"
   ]
  },
  {
   "cell_type": "code",
   "execution_count": 79,
   "id": "a3fb194e",
   "metadata": {},
   "outputs": [],
   "source": [
    "from tensorflow.keras.models import load_model"
   ]
  },
  {
   "cell_type": "code",
   "execution_count": 80,
   "id": "1e7cdaca",
   "metadata": {},
   "outputs": [],
   "source": [
    "model.save(\"cnn_example_model\",save_format=\"h5\")"
   ]
  },
  {
   "cell_type": "code",
   "execution_count": 81,
   "id": "1b067051",
   "metadata": {},
   "outputs": [],
   "source": [
    "loading_model=load_model(\"cnn_example_model\")"
   ]
  },
  {
   "cell_type": "code",
   "execution_count": 82,
   "id": "65f5e1cf",
   "metadata": {},
   "outputs": [],
   "source": [
    "x=\"It's a great movie. I'd like to watch it again\""
   ]
  },
  {
   "cell_type": "code",
   "execution_count": 83,
   "id": "d64e6727",
   "metadata": {},
   "outputs": [
    {
     "data": {
      "text/plain": [
       "'it is a great movie i would like to watch it again'"
      ]
     },
     "execution_count": 83,
     "metadata": {},
     "output_type": "execute_result"
    }
   ],
   "source": [
    "x_clean=clean_data(x)\n",
    "x_clean"
   ]
  },
  {
   "cell_type": "code",
   "execution_count": 84,
   "id": "8e72907a",
   "metadata": {},
   "outputs": [
    {
     "data": {
      "text/plain": [
       "(1, 300)"
      ]
     },
     "execution_count": 84,
     "metadata": {},
     "output_type": "execute_result"
    }
   ],
   "source": [
    "vec=get_vec(x_clean).reshape(1,-1)\n",
    "vec.shape"
   ]
  },
  {
   "cell_type": "code",
   "execution_count": 85,
   "id": "dadfd9d2",
   "metadata": {},
   "outputs": [
    {
     "data": {
      "text/plain": [
       "(1, 300)"
      ]
     },
     "execution_count": 85,
     "metadata": {},
     "output_type": "execute_result"
    }
   ],
   "source": [
    "vec=scaler.transform(vec)\n",
    "vec.shape"
   ]
  },
  {
   "cell_type": "code",
   "execution_count": 86,
   "id": "17635cf6",
   "metadata": {},
   "outputs": [
    {
     "data": {
      "text/plain": [
       "(1, 300, 1)"
      ]
     },
     "execution_count": 86,
     "metadata": {},
     "output_type": "execute_result"
    }
   ],
   "source": [
    "vec=vec.reshape(1,300,1)\n",
    "vec.shape"
   ]
  },
  {
   "cell_type": "code",
   "execution_count": 87,
   "id": "32aa8896",
   "metadata": {},
   "outputs": [
    {
     "name": "stdout",
     "output_type": "stream",
     "text": [
      "1/1 [==============================] - 0s 92ms/step\n"
     ]
    }
   ],
   "source": [
    "y_pred=loading_model.predict(vec)"
   ]
  },
  {
   "cell_type": "code",
   "execution_count": 88,
   "id": "e68c8086",
   "metadata": {},
   "outputs": [],
   "source": [
    "y_pred=np.where(y_pred > 0.6, 1,0)"
   ]
  },
  {
   "cell_type": "code",
   "execution_count": 90,
   "id": "bc6ad8f0",
   "metadata": {},
   "outputs": [
    {
     "name": "stdout",
     "output_type": "stream",
     "text": [
      "[[1]]\n"
     ]
    }
   ],
   "source": [
    "print(y_pred)"
   ]
  },
  {
   "cell_type": "code",
   "execution_count": null,
   "id": "650e1f0e",
   "metadata": {},
   "outputs": [],
   "source": []
  }
 ],
 "metadata": {
  "kernelspec": {
   "display_name": "Python 3 (ipykernel)",
   "language": "python",
   "name": "python3"
  },
  "language_info": {
   "codemirror_mode": {
    "name": "ipython",
    "version": 3
   },
   "file_extension": ".py",
   "mimetype": "text/x-python",
   "name": "python",
   "nbconvert_exporter": "python",
   "pygments_lexer": "ipython3",
   "version": "3.8.10"
  }
 },
 "nbformat": 4,
 "nbformat_minor": 5
}
